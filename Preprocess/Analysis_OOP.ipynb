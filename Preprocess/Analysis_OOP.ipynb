{
 "cells": [
  {
   "cell_type": "code",
   "execution_count": 1,
   "metadata": {
    "collapsed": true
   },
   "outputs": [],
   "source": [
    "import pymongo\n",
    "from sklearn.preprocessing import StandardScaler\n",
    "import datetime \n",
    "from collections import defaultdict\n",
    "import re"
   ]
  },
  {
   "cell_type": "code",
   "execution_count": 36,
   "metadata": {
    "collapsed": false
   },
   "outputs": [],
   "source": [
    "class Database(object):\n",
    "    def __init__(self):\n",
    "        self.connection = pymongo.MongoClient(\"localhost\", 27017)\n",
    "        self.db = self.connection[\"DSS4_SmallP\"]\n",
    "        self.mov = self.db[\"Movie_mojo\"]\n",
    "        self.act = self.db[\"actor\"]\n",
    "        self.dir = self.db['director']\n",
    "        self.fra = self.db['franchise']\n",
    "        \n",
    "class Preprocessor(object):\n",
    "    \n",
    "    def __init__(self):\n",
    "        self.data = Database()\n",
    "        self.dict_film = {\n",
    "            'actor' : {}, #배우의 출연작 리스트\n",
    "            'director' : {}, #감독의 연출작 리스트\n",
    "            'framchose' : {}  #프랜차이즈 리스트\n",
    "        }\n",
    "        \n",
    "        for species in self.dict_film:\n",
    "            self.dict_film[species] = self.get_data(self.data.db[species].find())\n",
    "        \n",
    "        \n",
    "    def get_data(self, data):\n",
    "        self.dict_result = {}\n",
    "        for one in data:\n",
    "            self.name = re.sub('\\*','',one['name'])\n",
    "            try :\n",
    "                self.dict_result[self.name].update(one['movie'])\n",
    "            except KeyError :\n",
    "                self.dict_result[self.name] = one['movie']\n",
    "        return self.dict_result\n",
    "        \n",
    "        \n",
    "        "
   ]
  }
 ],
 "metadata": {
  "kernelspec": {
   "display_name": "Python 2",
   "language": "python",
   "name": "python2"
  },
  "language_info": {
   "codemirror_mode": {
    "name": "ipython",
    "version": 2
   },
   "file_extension": ".py",
   "mimetype": "text/x-python",
   "name": "python",
   "nbconvert_exporter": "python",
   "pygments_lexer": "ipython2",
   "version": "2.7.13"
  }
 },
 "nbformat": 4,
 "nbformat_minor": 2
}
