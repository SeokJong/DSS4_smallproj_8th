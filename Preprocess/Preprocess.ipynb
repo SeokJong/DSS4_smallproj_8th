{
 "cells": [
  {
   "cell_type": "code",
   "execution_count": 1,
   "metadata": {
    "collapsed": true
   },
   "outputs": [],
   "source": [
    "import pymongo\n",
    "from sklearn.preprocessing import StandardScaler\n",
    "import datetime \n",
    "from collections import defaultdict\n",
    "class Database(object):\n",
    "    def __init__(self):\n",
    "        self.connection = pymongo.MongoClient(\"localhost\", 27017)\n",
    "        self.db = self.connection[\"DSS4_SmallP\"]\n",
    "        self.mov = self.db[\"Movie_mojo\"]\n",
    "        self.act = self.db[\"actor\"]\n",
    "        self.dir = self.db['director']\n",
    "        self.fra = self.db['franchise']\n",
    "        \n",
    "def get_score(name, idt, year):\n",
    "    idt = idt.split('/')\n",
    "    idt = datetime.date(int(idt[2])+2000, int(idt[0]), int(idt[1]))\n",
    "    ytd = datetime.timedelta(days = 365*year)\n",
    "\n",
    "    score = 0\n",
    "    for mov in name :\n",
    "  #      print(mov)\n",
    "        if len(name[mov]) == 4 :\n",
    "            if name[mov][2] != 'NA':\n",
    "                mdt = name[mov][2].split('/')\n",
    "                mdt = datetime.date(int(mdt[2])+2000, int(mdt[0]), int(mdt[1]))\n",
    "                if idt - mdt < ytd and datetime.timedelta(0) < idt - mdt:\n",
    "                    if name[mov][3] != 'NA' :\n",
    "                        score += name[mov][3]\n",
    "    return score\n",
    "\n",
    "def get_score_avg(name, idt, year):\n",
    "    idt = idt.split('/')\n",
    "    idt = datetime.date(int(idt[2])+2000, int(idt[0]), int(idt[1]))\n",
    "    ytd = datetime.timedelta(days = 365*year)\n",
    "    count = 0.\n",
    "    score = 0.\n",
    "    for mov in name :\n",
    "  #      print(mov)\n",
    "        if len(name[mov]) == 4 :\n",
    "            if name[mov][2] != 'NA':\n",
    "                mdt = name[mov][2].split('/')\n",
    "                mdt = datetime.date(int(mdt[2])+2000, int(mdt[0]), int(mdt[1]))\n",
    "                if idt - mdt < ytd and datetime.timedelta(0) < idt - mdt:\n",
    "                    if name[mov][3] != 'NA' :\n",
    "                        count += 1.\n",
    "                        score += name[mov][3]\n",
    "    return score / count\n",
    "\n",
    "\n",
    "db = Database()"
   ]
  }
 ],
 "metadata": {
  "kernelspec": {
   "display_name": "Python 2",
   "language": "python",
   "name": "python2"
  },
  "language_info": {
   "codemirror_mode": {
    "name": "ipython",
    "version": 2
   },
   "file_extension": ".py",
   "mimetype": "text/x-python",
   "name": "python",
   "nbconvert_exporter": "python",
   "pygments_lexer": "ipython2",
   "version": "2.7.13"
  }
 },
 "nbformat": 4,
 "nbformat_minor": 2
}
