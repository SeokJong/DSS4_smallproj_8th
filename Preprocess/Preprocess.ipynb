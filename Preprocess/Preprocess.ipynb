{
 "cells": [
  {
   "cell_type": "code",
   "execution_count": 1,
   "metadata": {
    "collapsed": false
   },
   "outputs": [],
   "source": [
    "import pymongo\n",
    "from sklearn.preprocessing import StandardScaler\n",
    "import datetime \n",
    "import csv\n",
    "import re\n",
    "from collections import defaultdict\n",
    "class Database(object):\n",
    "    def __init__(self):\n",
    "        self.connection = pymongo.MongoClient(\"localhost\", 27017)\n",
    "        self.db = self.connection[\"DSS4_SmallP\"]\n",
    "        self.mov = self.db[\"Movie_mojo\"]\n",
    "        self.act = self.db[\"actor\"]\n",
    "        self.dir = self.db['director']\n",
    "        self.fra = self.db['franchise']\n",
    "        \n",
    "    def __getitem__(self, key):\n",
    "        return self.db[key]\n",
    "        \n",
    "db = Database()"
   ]
  },
  {
   "cell_type": "code",
   "execution_count": 2,
   "metadata": {
    "collapsed": true
   },
   "outputs": [
    {
     "name": "stdout",
     "output_type": "stream",
     "text": [
      "0 color\n",
      "1 director_name\n",
      "2 num_critic_for_reviews\n",
      "3 duration\n",
      "4 director_facebook_likes\n",
      "5 actor_3_facebook_likes\n",
      "6 actor_2_name\n",
      "7 actor_1_facebook_likes\n",
      "8 gross\n",
      "9 genres\n",
      "10 actor_1_name\n",
      "11 movie_title\n",
      "12 num_voted_users\n",
      "13 cast_total_facebook_likes\n",
      "14 actor_3_name\n",
      "15 facenumber_in_poster\n",
      "16 plot_keywords\n",
      "17 movie_imdb_link\n",
      "18 num_user_for_reviews\n",
      "19 language\n",
      "20 country\n",
      "21 content_rating\n",
      "22 budget\n",
      "23 title_year\n",
      "24 actor_2_facebook_likes\n",
      "25 imdb_score\n",
      "26 aspect_ratio\n",
      "27 movie_facebook_likes\n"
     ]
    }
   ],
   "source": [
    "#imdb data load\n",
    "with open('movie_metadata.csv', 'r') as fin:\n",
    "    cin = csv.reader(fin)\n",
    "    movie_imdb = [row for row in cin]\n",
    "for n, i in enumerate(movie_imdb[0]):\n",
    "    print(n,i)"
   ]
  },
  {
   "cell_type": "code",
   "execution_count": 3,
   "metadata": {
    "collapsed": false
   },
   "outputs": [],
   "source": [
    "arr_imdb = []\n",
    "dict_imdb = {}\n",
    "for row in movie_imdb[1:]:\n",
    "    row[11] = re.sub('\\xc2\\xa0','',row[11])\n",
    "    dict_imdb[row[11]] = {\n",
    "        'actor' : [re.sub('[^\\'\\s\\w]','',row[10]), re.sub('[^\\'\\s\\w]','',row[6]), re.sub('[^\\'\\s\\w]','',row[14])] ,\n",
    "        'director' : re.sub('[^\\'\\s\\w]','',row[1]) ,\n",
    "        'budget' : row[22] ,\n",
    "        'year' : row[23]\n",
    "        }\n",
    "    arr_imdb.append(row[11])"
   ]
  },
  {
   "cell_type": "code",
   "execution_count": 4,
   "metadata": {
    "collapsed": true
   },
   "outputs": [],
   "source": [
    "dict_act = {}\n",
    "actors = db.act.find()\n",
    "for act in actors:\n",
    "    dict_act[act['name']] = act['movie']\n",
    "dict_dir = {}\n",
    "directors = db.dir.find()\n",
    "for dire in directors:\n",
    "    dict_dir[dire['name']] = dire['movie']\n",
    "dict_fra = {}\n",
    "franchise = db.fra.find()\n",
    "for fra in franchise:\n",
    "    dict_fra[fra['name']] = fra['movie']"
   ]
  },
  {
   "cell_type": "code",
   "execution_count": 5,
   "metadata": {
    "collapsed": false
   },
   "outputs": [],
   "source": [
    "arr_mov = [x for x in db.mov.find()]"
   ]
  },
  {
   "cell_type": "code",
   "execution_count": 6,
   "metadata": {
    "collapsed": false
   },
   "outputs": [],
   "source": [
    "dict_mov = {}\n",
    "for mov in arr_mov:\n",
    "    name = re.sub('[^\\w]','',mov['Mname'])\n",
    "    name = name.lower()\n",
    "    dict_mov[name] = {\n",
    "        'gross_kor' : mov['gross_kor'],\n",
    "        'release_kor' : mov['release_kor']\n",
    "    }"
   ]
  },
  {
   "cell_type": "code",
   "execution_count": 20,
   "metadata": {
    "collapsed": false
   },
   "outputs": [],
   "source": [
    "from collections import defaultdict\n",
    "def get_data(dict_in):\n",
    "    arr_new = []\n",
    "    for k,v in dict_in.items():\n",
    "        dict_new = {}\n",
    "        k_new = re.sub('[^\\w]','',k)\n",
    "        k_new = k_new.lower()\n",
    "        dict_new['name'] = k_new\n",
    "        dict_new['movie'] = []\n",
    "        for key_movie, value_movie in v.items():\n",
    "            key_movie = re.sub('[^\\w]','',key_movie)\n",
    "            key_movie = key_movie.lower()\n",
    "            if len(value_movie) == 4 and value_movie[3] != 'NA':\n",
    "                value = {\n",
    "                    'Mname' : key_movie,\n",
    "                    'gross_kor' : value_movie[3],\n",
    "                    'release_kor' : value_movie[2]\n",
    "                }\n",
    "                dict_new['movie'].append(value)\n",
    "        arr_new.append(dict_new)\n",
    "    return arr_new"
   ]
  },
  {
   "cell_type": "code",
   "execution_count": 9,
   "metadata": {
    "collapsed": false
   },
   "outputs": [],
   "source": [
    "def get_obj(objin, dict_imdb):\n",
    "    count = 0\n",
    "    count1 = 0\n",
    "    objout = []\n",
    "    for i in objin:\n",
    "        dict_new = {}\n",
    "        k = i['name']\n",
    "        v = i['movie']\n",
    "        k_new = re.sub('[^\\w]','',k)\n",
    "        k_new = k_new.lower()\n",
    "        dict_new['name'] = k_new\n",
    "        dict_new['movie'] = []\n",
    "        if len(v) == 0:\n",
    "            try :\n",
    "                for mov in dict_imdb[k_new] :\n",
    "                    try :\n",
    "                        dict_mov[mov]['Mname'] = mov\n",
    "                        if dict_mov[mov]['gross_kor'] != 'NA':\n",
    "                            dict_new['movie'].append(dict_mov[mov])\n",
    "                    except :\n",
    "                        pass\n",
    "    #            print(dict_imdb[k_new])\n",
    "            except:\n",
    "                pass\n",
    "            objout.append(dict_new)\n",
    "        else :\n",
    "            objout.append(i)\n",
    "    return objout\n",
    "#objout"
   ]
  },
  {
   "cell_type": "code",
   "execution_count": 11,
   "metadata": {
    "collapsed": true
   },
   "outputs": [],
   "source": [
    "dict_imdb_actor = {}\n",
    "for k, v in dict_imdb.items():\n",
    "    k_new = re.sub('[^\\w]','',k)\n",
    "    k_new = k_new.lower()\n",
    "    for actor in v['actor']:\n",
    "        if actor:\n",
    "            actor = re.sub('[^\\w]','', actor)\n",
    "            actor = actor.lower()\n",
    "            try :\n",
    "                if k_new not in dict_imdb_actor[actor]:\n",
    "                    dict_imdb_actor[actor][k_new]={'year':v['year']}\n",
    "            except:\n",
    "                dict_imdb_actor[actor] = {k_new : {'year':v['year']}}\n",
    "                \n",
    "dict_imdb_dir = {}\n",
    "for k, v in dict_imdb.items():\n",
    "    k_new = re.sub('[^\\w]','',k)\n",
    "    k_new = k_new.lower()\n",
    "    director = v['director']\n",
    "    if director:\n",
    "        director = re.sub('[^\\w]','', director)\n",
    "        director = director.lower()\n",
    "        try :\n",
    "            if k_new not in dict_imdb_dir[director]:\n",
    "                dict_imdb_dir[director][k_new]={'year':v['year']}\n",
    "        except:\n",
    "            dict_imdb_dir[director] = {k_new : {'year':v['year']}}"
   ]
  },
  {
   "cell_type": "code",
   "execution_count": 12,
   "metadata": {
    "collapsed": false
   },
   "outputs": [],
   "source": [
    "arr = get_data(dict_act)\n",
    "arr_act = get_obj(arr, dict_imdb_actor)\n",
    "db[\"actor_after\"].insert_many(arr_act)"
   ]
  },
  {
   "cell_type": "code",
   "execution_count": 21,
   "metadata": {
    "collapsed": false
   },
   "outputs": [],
   "source": [
    "arr = get_data(dict_dir)\n",
    "arr_dir = get_obj(arr, dict_imdb_dir)\n",
    "db[\"dirtor_after\"].insert_many(arr_dir)"
   ]
  },
  {
   "cell_type": "code",
   "execution_count": 26,
   "metadata": {
    "collapsed": false
   },
   "outputs": [
    {
     "data": {
      "text/plain": [
       "<pymongo.results.InsertManyResult at 0x10aa8b690>"
      ]
     },
     "execution_count": 26,
     "metadata": {},
     "output_type": "execute_result"
    }
   ],
   "source": [
    "arr = get_data(dict_fra)\n",
    "arr_fra = get_obj(arr, {})\n",
    "db[\"franchise_after\"].insert_many(arr_fra)"
   ]
  }
 ],
 "metadata": {
  "kernelspec": {
   "display_name": "Python 2",
   "language": "python",
   "name": "python2"
  },
  "language_info": {
   "codemirror_mode": {
    "name": "ipython",
    "version": 2
   },
   "file_extension": ".py",
   "mimetype": "text/x-python",
   "name": "python",
   "nbconvert_exporter": "python",
   "pygments_lexer": "ipython2",
   "version": "2.7.13"
  }
 },
 "nbformat": 4,
 "nbformat_minor": 2
}
