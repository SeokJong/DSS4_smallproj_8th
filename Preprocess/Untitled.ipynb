{
 "cells": [
  {
   "cell_type": "code",
   "execution_count": 1,
   "metadata": {
    "collapsed": true
   },
   "outputs": [],
   "source": [
    "import json"
   ]
  },
  {
   "cell_type": "code",
   "execution_count": 6,
   "metadata": {
    "collapsed": false
   },
   "outputs": [],
   "source": [
    "import pymongo\n",
    "from sklearn.preprocessing import StandardScaler\n",
    "import datetime \n",
    "from collections import defaultdict\n",
    "class Database(object):\n",
    "    def __init__(self):\n",
    "        self.connection = pymongo.MongoClient(\"localhost\", 27017)\n",
    "        self.db = self.connection[\"DSS4_SmallP\"]\n",
    "        self.mov = self.db[\"Movie_mojo\"]\n",
    "        self.act = self.db[\"actor\"]\n",
    "        self.dir = self.db['director']\n",
    "        self.fra = self.db['franchise']\n",
    "        \n",
    "db = Database()\n",
    "mov = db.mov.find()\n",
    "movie = []\n",
    "for i in mov :\n",
    "    del i['_id']\n",
    "    movie.append(i)\n",
    "    \n",
    "fp = open('movie.json', 'w')\n",
    "json.dump(movie, fp, indent = 2)\n"
   ]
  },
  {
   "cell_type": "code",
   "execution_count": 7,
   "metadata": {
    "collapsed": true
   },
   "outputs": [],
   "source": [
    "act = db.act.find()\n",
    "actor = []\n",
    "for i in act :\n",
    "    del i['_id']\n",
    "    actor.append(i)\n",
    "    \n",
    "fp = open('actor.json', 'w')\n",
    "json.dump(actor, fp, indent = 2)\n",
    "\n",
    "\n",
    "di = db.dir.find()\n",
    "director = []\n",
    "for i in di :\n",
    "    del i['_id']\n",
    "    director.append(i)\n",
    "    \n",
    "fp = open('director.json', 'w')\n",
    "json.dump(director, fp, indent = 2)\n",
    "\n",
    "\n",
    "fra = db.fra.find()\n",
    "fran = []\n",
    "for i in fra :\n",
    "    del i['_id']\n",
    "    fran.append(i)\n",
    "    \n",
    "fp = open('franchise.json', 'w')\n",
    "json.dump(fran, fp, indent = 2)\n",
    "\n"
   ]
  },
  {
   "cell_type": "code",
   "execution_count": null,
   "metadata": {
    "collapsed": true
   },
   "outputs": [],
   "source": []
  }
 ],
 "metadata": {
  "kernelspec": {
   "display_name": "Python 2",
   "language": "python",
   "name": "python2"
  },
  "language_info": {
   "codemirror_mode": {
    "name": "ipython",
    "version": 2
   },
   "file_extension": ".py",
   "mimetype": "text/x-python",
   "name": "python",
   "nbconvert_exporter": "python",
   "pygments_lexer": "ipython2",
   "version": "2.7.13"
  }
 },
 "nbformat": 4,
 "nbformat_minor": 2
}
