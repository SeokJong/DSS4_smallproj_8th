{
 "cells": [
  {
   "cell_type": "code",
   "execution_count": 5,
   "metadata": {
    "collapsed": false,
    "deletable": true,
    "editable": true
   },
   "outputs": [],
   "source": [
    "import requests\n",
    "from bs4 import BeautifulSoup\n",
    "import pymongo\n",
    "import time\n",
    "\n",
    "class Database(object):\n",
    "    def __init__(self):\n",
    "        self.connection = pymongo.MongoClient(\"localhost\", 27017)\n",
    "        self.db = self.connection[\"DSS4_SmallP\"]\n",
    "        self.collection = self.db[\"Movie_mojo\"]\n",
    "        \n",
    "def Load_Data_mojo_yearly_dom(page,year):\n",
    "    Mojo_url = u'http://www.boxofficemojo.com/'\\\n",
    "        u'yearly/chart/?page={}&view=releasedate&view2=domestic&yr={}&p=.htm'.format(page,year)\n",
    "    return requests.get(Mojo_url)\n",
    "def Load_Data_mojo_yearly_intl(year):\n",
    "    Mojo_url = u'http://www.boxofficemojo.com/'\\\n",
    "        u'yearly/chart/?view2=worldwide&yr={}&p=.htm'.format(year)\n",
    "    return requests.get(Mojo_url)\n",
    "\n",
    "def Load_Data_mojo_movie_intl(M_id):\n",
    "    Mojo_url = u'http://www.boxofficemojo.com{}&page=intl'.format(M_id)\n",
    "    return requests.get(Mojo_url)\n",
    "\n"
   ]
  },
  {
   "cell_type": "code",
   "execution_count": 4,
   "metadata": {
    "collapsed": false,
    "deletable": true,
    "editable": true,
    "scrolled": true
   },
   "outputs": [
    {
     "ename": "NameError",
     "evalue": "name 'Database' is not defined",
     "output_type": "error",
     "traceback": [
      "\u001b[0;31m---------------------------------------------------------------------------\u001b[0m",
      "\u001b[0;31mNameError\u001b[0m                                 Traceback (most recent call last)",
      "\u001b[0;32m<ipython-input-4-47d9a64720eb>\u001b[0m in \u001b[0;36m<module>\u001b[0;34m()\u001b[0m\n\u001b[1;32m      4\u001b[0m \"\"\"\n\u001b[1;32m      5\u001b[0m \u001b[0;34m\u001b[0m\u001b[0m\n\u001b[0;32m----> 6\u001b[0;31m \u001b[0mdbs\u001b[0m \u001b[0;34m=\u001b[0m \u001b[0mDatabase\u001b[0m\u001b[0;34m(\u001b[0m\u001b[0;34m)\u001b[0m\u001b[0;34m\u001b[0m\u001b[0m\n\u001b[0m\u001b[1;32m      7\u001b[0m \u001b[0;32mfor\u001b[0m \u001b[0myear\u001b[0m \u001b[0;32min\u001b[0m \u001b[0mrange\u001b[0m\u001b[0;34m(\u001b[0m\u001b[0;36m2010\u001b[0m\u001b[0;34m,\u001b[0m \u001b[0;36m2016\u001b[0m\u001b[0;34m)\u001b[0m \u001b[0;34m:\u001b[0m\u001b[0;34m\u001b[0m\u001b[0m\n\u001b[1;32m      8\u001b[0m     \u001b[0mres\u001b[0m \u001b[0;34m=\u001b[0m \u001b[0mLoad_Data_mojo_yearly_intl\u001b[0m\u001b[0;34m(\u001b[0m\u001b[0myear\u001b[0m\u001b[0;34m)\u001b[0m\u001b[0;34m\u001b[0m\u001b[0m\n",
      "\u001b[0;31mNameError\u001b[0m: name 'Database' is not defined"
     ]
    }
   ],
   "source": [
    "\"\"\"\n",
    "Mojo 사이트의 연간 worldwide boxoffice를 2010년부터 2015년까지 정리해서 mongodb에 넘겨줌. \n",
    "(영화명, 모조 주소, domestic, oversea 매출 저장)\n",
    "\"\"\"\n",
    "\n",
    "dbs = Database()\n",
    "for year in range(2010, 2016) :\n",
    "    res = Load_Data_mojo_yearly_intl(year)\n",
    "    content = res.content\n",
    "    soup = BeautifulSoup(content,'html.parser')\n",
    "    table = soup.find('table', attrs = {'cellpadding': '5'})\n",
    "    trs = table.find_all('tr')\n",
    "    for line in trs[2:-1] :\n",
    "        arr_m = line.find_all('td')\n",
    "        dict_m = {\n",
    "            'Mname' : arr_m[1].get_text(), \n",
    "            'Domestic' : arr_m[4].get_text(), \n",
    "            'Oversea' : arr_m[6].get_text(),\n",
    "            'Webpage' : arr_m[1].a.get('href'),\n",
    "            'year' : year\n",
    "        }\n",
    "        dbs.collection.insert_one(dict_m)\n",
    "\n",
    "#a = trs[3].find_all('td')\n",
    "#print a[1]"
   ]
  },
  {
   "cell_type": "code",
   "execution_count": 3,
   "metadata": {
    "collapsed": false,
    "deletable": true,
    "editable": true,
    "scrolled": true
   },
   "outputs": [
    {
     "ename": "NameError",
     "evalue": "name 'dbs' is not defined",
     "output_type": "error",
     "traceback": [
      "\u001b[0;31m---------------------------------------------------------------------------\u001b[0m",
      "\u001b[0;31mNameError\u001b[0m                                 Traceback (most recent call last)",
      "\u001b[0;32m<ipython-input-3-2de1014b839d>\u001b[0m in \u001b[0;36m<module>\u001b[0;34m()\u001b[0m\n\u001b[0;32m----> 1\u001b[0;31m \u001b[0mres\u001b[0m \u001b[0;34m=\u001b[0m \u001b[0mdbs\u001b[0m\u001b[0;34m.\u001b[0m\u001b[0mcollection\u001b[0m\u001b[0;34m.\u001b[0m\u001b[0mfind\u001b[0m\u001b[0;34m(\u001b[0m\u001b[0;34m{\u001b[0m\u001b[0;34m\"year\"\u001b[0m\u001b[0;34m:\u001b[0m \u001b[0;34m{\u001b[0m\u001b[0;34m\"$eq\"\u001b[0m\u001b[0;34m:\u001b[0m\u001b[0;36m2015\u001b[0m\u001b[0;34m}\u001b[0m\u001b[0;34m}\u001b[0m\u001b[0;34m)\u001b[0m\u001b[0;34m\u001b[0m\u001b[0m\n\u001b[0m\u001b[1;32m      2\u001b[0m \u001b[0;32mfor\u001b[0m \u001b[0mMovie\u001b[0m \u001b[0;32min\u001b[0m \u001b[0mres\u001b[0m\u001b[0;34m:\u001b[0m\u001b[0;34m\u001b[0m\u001b[0m\n\u001b[1;32m      3\u001b[0m     \u001b[0murl\u001b[0m \u001b[0;34m=\u001b[0m  \u001b[0;34mu'http://www.boxofficemojo.com'\u001b[0m \u001b[0;34m+\u001b[0m \u001b[0mMovie\u001b[0m\u001b[0;34m[\u001b[0m\u001b[0;34m'Webpage'\u001b[0m\u001b[0;34m]\u001b[0m \u001b[0;34m+\u001b[0m \u001b[0;34m'&page=intl'\u001b[0m\u001b[0;34m\u001b[0m\u001b[0m\n\u001b[1;32m      4\u001b[0m     \u001b[0;31m# example) http://www.boxofficemojo.com/movies/?id=starwars7.htm&page=intl\u001b[0m\u001b[0;34m\u001b[0m\u001b[0;34m\u001b[0m\u001b[0m\n",
      "\u001b[0;31mNameError\u001b[0m: name 'dbs' is not defined"
     ]
    }
   ],
   "source": [
    "res = dbs.collection.find({\"year\": {\"$eq\":2015}})\n",
    "for Movie in res:\n",
    "    url =  u'http://www.boxofficemojo.com' + Movie['Webpage'] + '&page=intl'\n",
    "    # example) http://www.boxofficemojo.com/movies/?id=starwars7.htm&page=intl\n"
   ]
  },
  {
   "cell_type": "code",
   "execution_count": 63,
   "metadata": {
    "collapsed": true,
    "deletable": true,
    "editable": true
   },
   "outputs": [],
   "source": [
    "res = requests.get('http://www.boxofficemojo.com/movies/?id=starwars7.htm&page=intl')"
   ]
  },
  {
   "cell_type": "code",
   "execution_count": 11,
   "metadata": {
    "collapsed": false,
    "deletable": true,
    "editable": true
   },
   "outputs": [
    {
     "name": "stdout",
     "output_type": "stream",
     "text": [
      "{u'Webpage': u'/movies/?id=wonderfulafterlife.htm', u'Mname': u\"It's a Wonderful Afterlife\", u'Domestic': u'n/a', u'year': 2010, u'_id': ObjectId('5897f5f927b9d95e44c05f62'), u'Oversea': u'$1.3'}\n",
      "<td align=\"right\"><script type=\"text/javascript\">\n",
      "    googletag.cmd.push(function() {\n",
      "        googletag.defineSlot(\"/4215/imdb2.bom.movie\", [[300, 250]], \"ad-slot-2\").addService(googletag.pubads().setTargeting(\"p\", \"rh\"));\n",
      "        googletag.pubads().enableSingleRequest();\n",
      "        googletag.enableServices();\n",
      "    });\n",
      "    googletag.cmd.push(function() { googletag.display(\"ad-slot-2\"); });\n",
      "</script></td>\n"
     ]
    },
    {
     "ename": "AttributeError",
     "evalue": "'NoneType' object has no attribute 'get_text'",
     "output_type": "error",
     "traceback": [
      "\u001b[0;31m---------------------------------------------------------------------------\u001b[0m",
      "\u001b[0;31mAttributeError\u001b[0m                            Traceback (most recent call last)",
      "\u001b[0;32m<ipython-input-11-86b368801a17>\u001b[0m in \u001b[0;36m<module>\u001b[0;34m()\u001b[0m\n\u001b[1;32m     30\u001b[0m             \u001b[0;34m'rating_usa'\u001b[0m \u001b[0;34m:\u001b[0m \u001b[0mtds\u001b[0m\u001b[0;34m[\u001b[0m\u001b[0;36m8\u001b[0m\u001b[0;34m]\u001b[0m\u001b[0;34m.\u001b[0m\u001b[0mb\u001b[0m\u001b[0;34m.\u001b[0m\u001b[0mget_text\u001b[0m\u001b[0;34m(\u001b[0m\u001b[0;34m)\u001b[0m\u001b[0;34m,\u001b[0m\u001b[0;34m\u001b[0m\u001b[0m\n\u001b[1;32m     31\u001b[0m             \u001b[0;34m'release_usa'\u001b[0m \u001b[0;34m:\u001b[0m \u001b[0mtds\u001b[0m\u001b[0;34m[\u001b[0m\u001b[0;36m5\u001b[0m\u001b[0;34m]\u001b[0m\u001b[0;34m.\u001b[0m\u001b[0mb\u001b[0m\u001b[0;34m.\u001b[0m\u001b[0mget_text\u001b[0m\u001b[0;34m(\u001b[0m\u001b[0;34m)\u001b[0m\u001b[0;34m,\u001b[0m\u001b[0;34m\u001b[0m\u001b[0m\n\u001b[0;32m---> 32\u001b[0;31m             \u001b[0;34m'budget'\u001b[0m \u001b[0;34m:\u001b[0m \u001b[0mtds\u001b[0m\u001b[0;34m[\u001b[0m\u001b[0;36m9\u001b[0m\u001b[0;34m]\u001b[0m\u001b[0;34m.\u001b[0m\u001b[0mb\u001b[0m\u001b[0;34m.\u001b[0m\u001b[0mget_text\u001b[0m\u001b[0;34m(\u001b[0m\u001b[0;34m)\u001b[0m\u001b[0;34m\u001b[0m\u001b[0m\n\u001b[0m\u001b[1;32m     33\u001b[0m         }\n\u001b[1;32m     34\u001b[0m     \u001b[0mdict_m\u001b[0m\u001b[0;34m.\u001b[0m\u001b[0mupdate\u001b[0m\u001b[0;34m(\u001b[0m\u001b[0mtmp\u001b[0m\u001b[0;34m)\u001b[0m\u001b[0;34m\u001b[0m\u001b[0m\n",
      "\u001b[0;31mAttributeError\u001b[0m: 'NoneType' object has no attribute 'get_text'"
     ]
    }
   ],
   "source": [
    "dbs = Database()\n",
    "dbq = dbs.collection.find({\"year\": {\"$eq\":2010},\"budget\" : { \"$exists\" : False }})\n",
    "for tmp in dbq:\n",
    "    print(tmp)\n",
    "    M_id = tmp['Webpage']\n",
    "    res = Load_Data_mojo_movie_intl(M_id)\n",
    "    \n",
    "    content = res.content\n",
    "    soup = BeautifulSoup(content,'html.parser')\n",
    "    \n",
    "    table = soup.find('table', attrs = { \"style\" : \"padding-top: 5px;\"})\n",
    "    tds = table.find_all('td')\n",
    "    #<table border=\"0\" cellspacing=\"1\" cellpadding=\"3\">\n",
    "    table2 = soup.find('table', attrs = { \"border\" : \"0\", \"cellspacing\" : \"1\", \"cellpadding\" : \"3\"})\n",
    "    tds2 = table2.find_all('td')\n",
    "    \n",
    "    for n, feature in enumerate(tds2):\n",
    "        if feature.get_text() == 'South Korea':\n",
    "            dict_m = {\n",
    "                'rating_usa' : tds[8].b.get_text(),\n",
    "                'release_usa' : tds[5].b.get_text(),\n",
    "                'realease_kor' : tds2[n+2].get_text(),\n",
    "                'gross_kor' : tds2[n+5].get_text(),\n",
    "                'budget' : tds[9].b.get_text()\n",
    "            }\n",
    "            break\n",
    "    else:\n",
    "        print(tds[9])\n",
    "        dict_m = {\n",
    "            'rating_usa' : tds[8].b.get_text(),\n",
    "            'release_usa' : tds[5].b.get_text(),\n",
    "            'budget' : tds[9].b.get_text()\n",
    "        }\n",
    "    dict_m.update(tmp)\n",
    "    dbs.collection.update_one({\"_id\":tmp[\"_id\"]}, {\"$set\":dict_m})\n",
    "    time.sleep(1)\n",
    "    \n",
    "#db.Movie_mojo.find({ \"gross_kor\" : { $exists : true } })"
   ]
  },
  {
   "cell_type": "code",
   "execution_count": 14,
   "metadata": {
    "collapsed": false
   },
   "outputs": [
    {
     "name": "stdout",
     "output_type": "stream",
     "text": [
      "(0, <td align=\"center\" valign=\"top\">\\n<a href=\"/movies/?page=media&amp;id=wonderfulafterlife.htm\"><img border=\"1\" src=\"https://images-na.ssl-images-amazon.com/images/M/MV5BMTg4NjgyNzE3NF5BMl5BanBnXkFtZTcwMjE4OTc3Mw@@._V1_UY222_CR0,0,150,222_AL.jpg\" style=\"border-color: 000000\"/></a> </td>)\n",
      "(1, <td align=\"center\" valign=\"top\"><br><font face=\"Verdana\" size=\"5\"><b>It's a Wonderful Afterlife</b></font><br><br>\\n<table border=\"0\" cellpadding=\"0\" cellspacing=\"0\"><tr><td>\\n<center><table bgcolor=\"#dcdcdc\" border=\"0\" cellpadding=\"4\" cellspacing=\"1\" width=\"95%\"><tr bgcolor=\"#ffffff\"><td valign=\"top\">Distributor: <b><a href=\"/studio/chart/?studio=utv.htm\">UTV Communications</a></b></td><td valign=\"top\">Release Date: <b><nobr><a href=\"/schedule/?view=bydate&amp;release=theatrical&amp;date=2010-10-08&amp;p=.htm\">October 8, 2010</a></nobr></b></td></tr><tr bgcolor=\"#ffffff\"><td valign=\"top\">Genre: <b>Foreign</b></td><td valign=\"top\">Runtime: <b>1 hrs. 40 min.</b></td></tr><tr bgcolor=\"#ffffff\"><td valign=\"top\">MPAA Rating: <b>PG-13</b></td><td valign=\"top\">Production Budget: <b>N/A</b></td></tr></table> </center></td>\\n</tr></table></br></br></br></td>)\n",
      "(2, <td>\\n<center><table bgcolor=\"#dcdcdc\" border=\"0\" cellpadding=\"4\" cellspacing=\"1\" width=\"95%\"><tr bgcolor=\"#ffffff\"><td valign=\"top\">Distributor: <b><a href=\"/studio/chart/?studio=utv.htm\">UTV Communications</a></b></td><td valign=\"top\">Release Date: <b><nobr><a href=\"/schedule/?view=bydate&amp;release=theatrical&amp;date=2010-10-08&amp;p=.htm\">October 8, 2010</a></nobr></b></td></tr><tr bgcolor=\"#ffffff\"><td valign=\"top\">Genre: <b>Foreign</b></td><td valign=\"top\">Runtime: <b>1 hrs. 40 min.</b></td></tr><tr bgcolor=\"#ffffff\"><td valign=\"top\">MPAA Rating: <b>PG-13</b></td><td valign=\"top\">Production Budget: <b>N/A</b></td></tr></table> </center></td>)\n",
      "(3, <td valign=\"top\">Distributor: <b><a href=\"/studio/chart/?studio=utv.htm\">UTV Communications</a></b></td>)\n",
      "(4, <td valign=\"top\">Release Date: <b><nobr><a href=\"/schedule/?view=bydate&amp;release=theatrical&amp;date=2010-10-08&amp;p=.htm\">October 8, 2010</a></nobr></b></td>)\n",
      "(5, <td valign=\"top\">Genre: <b>Foreign</b></td>)\n",
      "(6, <td valign=\"top\">Runtime: <b>1 hrs. 40 min.</b></td>)\n",
      "(7, <td valign=\"top\">MPAA Rating: <b>PG-13</b></td>)\n",
      "(8, <td valign=\"top\">Production Budget: <b>N/A</b></td>)\n",
      "(9, <td align=\"right\"><script type=\"text/javascript\">\\n    googletag.cmd.push(function() {\\n        googletag.defineSlot(\"/4215/imdb2.bom.movie\", [[300, 250]], \"ad-slot-2\").addService(googletag.pubads().setTargeting(\"p\", \"rh\"));\\n        googletag.pubads().enableSingleRequest();\\n        googletag.enableServices();\\n    });\\n    googletag.cmd.push(function() { googletag.display(\"ad-slot-2\"); });\\n</script></td>)\n"
     ]
    }
   ],
   "source": [
    "for x, i in enumerate(tds):\n",
    "    print(x,i)"
   ]
  },
  {
   "cell_type": "code",
   "execution_count": null,
   "metadata": {
    "collapsed": true
   },
   "outputs": [],
   "source": []
  }
 ],
 "metadata": {
  "kernelspec": {
   "display_name": "Python 2",
   "language": "python",
   "name": "python2"
  },
  "language_info": {
   "codemirror_mode": {
    "name": "ipython",
    "version": 2
   },
   "file_extension": ".py",
   "mimetype": "text/x-python",
   "name": "python",
   "nbconvert_exporter": "python",
   "pygments_lexer": "ipython2",
   "version": "2.7.12"
  }
 },
 "nbformat": 4,
 "nbformat_minor": 2
}
