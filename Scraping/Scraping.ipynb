{
 "cells": [
  {
   "cell_type": "code",
   "execution_count": 1,
   "metadata": {
    "collapsed": true
   },
   "outputs": [],
   "source": [
    "import requests\n",
    "from bs4 import BeautifulSoup\n",
    "import pymongo\n",
    "import time\n",
    "import json\n",
    "%matplotlib inline\n",
    "import re"
   ]
  },
  {
   "cell_type": "code",
   "execution_count": 2,
   "metadata": {
    "collapsed": false
   },
   "outputs": [
    {
     "name": "stdout",
     "output_type": "stream",
     "text": [
      "[u'realease_kor', u'Webpage', u'Mname', u'Domestic', u'budget', u'gross_kor', u'release_usa', u'year', u'runtime', u'Oversea', u'rating_usa']\n",
      "Toy Story 3\tAlice in Wonderland (2010)\tHarry Potter and the Deathly Hallows Part 1\tInception\tShrek Forever After\tThe Twilight Saga: Eclipse\tIron Man 2\tTangled\tDespicable Me\tHow to Train Your Dragon\tClash of the Titans (2010)\tThe Chronicles of Narnia: The Voyage of the Dawn Treader\tThe King's Speech\tTron Legacy\tThe Karate Kid\tPrince of Persia: The Sands of Time\tBlack Swan\tMegamind\tRobin Hood\tThe Last Airbender\tLittle Fockers\tResident Evil: Afterlife\tShutter Island\tSalt\tSex and the City 2\tThe Tourist\tThe Expendables\tKnight & Day\tTrue Grit\tGulliver's Travels\tPercy Jackson & The Olympians: The Lightning Thief\tThe Social Network\tValentine's Day\tThe Sorcerer's Apprentice\tDue Date\tEat Pray Love\tRed\tParanormal Activity 2\tThe A-Team\tJackass 3-D\tUnstoppable\tStep Up 3-D\tThe Book of Eli\tThe Town\tLegend of the Guardians: The Owls of Ga'Hoole\tThe Wolfman\tThe Bounty Hunter\tSaw 3D\tWall Street: Money Never Sleeps\tThe Fighter\tPredators\tA Nightmare on Elm Street (2010)\tDear John\tCats & Dogs: The Revenge of Kitty Galore\tHereafter\tLove and Other Drugs\tAftershock (Tangshan Dadizhen)\tKillers\tKick-Ass\tGreen Zone\tNanny McPhee Returns\tPiranha 3D\tOceans\tEdge of Darkness\tLetters to Juliet\tThe Back-Up Plan\tHubble 3D\tTales from Earthsea\tThe American\tThe Last Exorcism\tThe Next Three Days\tSkyline\tDevil\t127 Hours\tThe Ghost Writer\tMorning Glory\tRemember Me\tThe Crazies\tFrom Paris with Love\tDaybreakers\tAlpha and Omega\tThe Switch\tCharlie St. Cloud\tHeartbreaker\tThe Spy Next Door\tThe Good, the Bad, the Weird\tMachete\tThe Man From Nowhere\tWhen in Rome\tMy Name is Khan\tThe Concert\tThe Kids Are All Right\tYou Will Meet a Tall Dark Stranger\tThe Secret in Their Eyes\tAvatar: Special Edition\tLeap Year\tSplice\tLet Me In\tMao's Last Dancer\t71 Into the Fire\t\n"
     ]
    }
   ],
   "source": [
    "import json\n",
    "f = open(\"movie.json\", \"r\")\n",
    "movie_data = json.load(f)\n",
    "f.close()\n",
    "movie_data = movie_data\n",
    "print(movie_data[0].keys())\n",
    "line = \"\"\n",
    "for i in movie_data[0:100]:\n",
    "    line += \"{}\\t\".format(i['Mname'])\n",
    "print(line)"
   ]
  },
  {
   "cell_type": "code",
   "execution_count": 3,
   "metadata": {
    "collapsed": false
   },
   "outputs": [],
   "source": [
    "class Database(object):\n",
    "    def __init__(self):\n",
    "        self.connection = pymongo.MongoClient(\"localhost\", 27017)\n",
    "        self.db = self.connection[\"DSS4_SmallP\"]\n",
    "        self.collection = self.db[\"Movie_mojo\"]        \n",
    "def Load_Data_mojo_yearly_dom(page,year):\n",
    "    Mojo_url = u'http://www.boxofficemojo.com/'\\\n",
    "        u'yearly/chart/?page={}&view=releasedate&view2=domestic&yr={}&p=.htm'.format(page,year)\n",
    "    return requests.get(Mojo_url)\n",
    "def Load_Data_mojo_yearly_intl(year):\n",
    "    Mojo_url = u'http://www.boxofficemojo.com/'\\\n",
    "        u'yearly/chart/?view2=worldwide&yr={}&p=.htm'.format(year)\n",
    "    return requests.get(Mojo_url)\n",
    "def Load_Data_mojo_movie_intl(M_id):\n",
    "    Mojo_url = u'http://www.boxofficemojo.com{}&page=intl'.format(M_id)\n",
    "    return requests.get(Mojo_url)\n",
    "def Load_Data_mojo_movie(M_id):\n",
    "    Mojo_url = u'http://www.boxofficemojo.com{}'.format(M_id)\n",
    "    return requests.get(Mojo_url)\n",
    "\n",
    "#Daum crawler\n",
    "def load_apikeys():\n",
    "    fp = open(\"private.json\",\"r\")\n",
    "    res = json.load(fp)\n",
    "    return res\n",
    "def load_data_daum(query):\n",
    "    key = load_apikeys()['daum_key']\n",
    "    try :\n",
    "        url = \"https://apis.daum.net/contents/movie?apikey={}&q={}&output=json\".format(key, query)\n",
    "    except UnicodeEncodeError :\n",
    "        query2 = re.match('[a-zA-Z\\s]+',query)\n",
    "        url = \"https://apis.daum.net/contents/movie?apikey={}&q={}&output=json\".format(key, query2.group())\n",
    "    except Exception as err:\n",
    "        print(err)\n",
    "#    print(url)\n",
    "    return requests.get(url)\n",
    "def select_daum(query, movie):\n",
    "    res = load_data_daum(query)\n",
    "#    print(res)\n",
    "    data = json.loads(res.content)\n",
    "    #검색결과가 0개일때, 검색하는 제목에서 영어랑 띄어쓰기만 필터링해서 (ex. Godzilla (2014) -> Godzilla) 재검색\n",
    "    if data['channel']['totalCount'] == 0:\n",
    "        try : \n",
    "            query2 = re.match('[a-zA-Z\\s]+',query)\n",
    "            if query2.group() == query:\n",
    "                return -2\n",
    "            else:\n",
    "                return select_daum(query2.group(), movie)\n",
    "        except AttributeError:\n",
    "            return -2\n",
    "        except Exception as err:\n",
    "            print(err)\n",
    "            return -2\n",
    "    #검색결과가 1개일때 결과값 출력\n",
    "    elif data['channel']['totalCount'] == 1:\n",
    "        return data['channel'][\"item\"][0]\n",
    "    #검색결과가 여러개일때, 개봉일을 비교하여 같은경우 출력, 개봉일이 같은게 없는경우 출력안함.\n",
    "    else :\n",
    "        mlist = []\n",
    "        try:\n",
    "            m = movie['realease_kor'].split('/')\n",
    "            m = '{0:02d}{1:02d}{2:02d}'.format(int(m[2]),int(m[0]),int(m[1]))\n",
    "            for item in data['channel']['item']:\n",
    "                try:\n",
    "                    d = item['open_info'][0]['content'].split('.')\n",
    "                    d = '{0:02d}{1:02d}{2:02d}'.format(int(d[0][-2:]),int(d[1]),int(d[2]))\n",
    "                    if d == m :\n",
    "                        mlist.append(item)\n",
    "                except:\n",
    "                    pass\n",
    "            if len(mlist) == 1:\n",
    "                return mlist[0]\n",
    "            else :\n",
    "                if len(mlist) != 0 :print(len(mlist))\n",
    "                return -1\n",
    "        except Exception as err:\n",
    "            print(err)\n",
    "            return -1"
   ]
  },
  {
   "cell_type": "code",
   "execution_count": 10,
   "metadata": {
    "collapsed": false
   },
   "outputs": [
    {
     "name": "stdout",
     "output_type": "stream",
     "text": [
      "['m_name_k', 'grade', u'Oversea', u'gross_kor', 'daum_page', u'year', 'genre', 'viewing_time', u'realease_kor', 'director_k', u'Webpage', u'Mname', u'Domestic', u'budget', u'release_usa', 'actor_k', u'runtime', u'rating_usa']\n"
     ]
    }
   ],
   "source": [
    "print(movie_data[0].keys())"
   ]
  },
  {
   "cell_type": "code",
   "execution_count": 11,
   "metadata": {
    "collapsed": false,
    "scrolled": false
   },
   "outputs": [
    {
     "name": "stdout",
     "output_type": "stream",
     "text": [
      "list index out of range\n",
      "list index out of range\n",
      "list index out of range\n",
      "list index out of range\n",
      "list index out of range\n",
      "list index out of range\n",
      "list index out of range\n"
     ]
    }
   ],
   "source": [
    "arr_movie = []\n",
    "err_movie = []\n",
    "for arr_num, movie in enumerate(movie_data):\n",
    "    res = select_daum(movie['Mname'],movie)\n",
    "    dict_movie = {\n",
    "        'm_name_k' : 'NA',\n",
    "        'grade' : 'NA',\n",
    "        'viewing_time' : -1,\n",
    "        'genre' : 'NA',\n",
    "        'director_k' : 'NA',\n",
    "        'actor_k' : 'NA'\n",
    "    }\n",
    "    if res == -1 :\n",
    "        err = \"multiple : {}\".format(movie['Mname'])\n",
    "        err_movie.append(err)\n",
    "    elif res == -2 : \n",
    "        err = \"none : {}\".format(res)\n",
    "        err_movie.append(err)\n",
    "    else :\n",
    "        if res['open_info'][2]['content'] == '' :  res['open_info'][2]['content'] = '-1 '\n",
    "        dict_movie = {\n",
    "            'm_name_k' : res['title'][0]['content'],\n",
    "            'grade' : res['open_info'][1]['content'],\n",
    "            'viewing_time' : int(res['open_info'][2]['content'][0:-1]),\n",
    "            'genre' : [X[\"content\"] for X in res[\"genre\"]],\n",
    "            'director_k' : [(X[\"content\"], X[\"link\"]) for X in res[\"director\"]],\n",
    "            'actor_k' : [(X[\"content\"], X[\"link\"]) for X in res[\"actor\"]],\n",
    "            'daum_page' : res['title'][0]['link']\n",
    "        }\n",
    "    movie_data[arr_num].update(dict_movie)\n",
    "fp = open(\"movie_added_daum.json\", \"w\")\n",
    "json.dump(movie_data, fp, indent = 4)\n",
    "fp.close()"
   ]
  },
  {
   "cell_type": "code",
   "execution_count": 12,
   "metadata": {
    "collapsed": false
   },
   "outputs": [],
   "source": [
    "#몽고DB\n",
    "db = Database()\n",
    "for movie in movie_data:\n",
    "    db.collection.update_one({'Mname' : movie['Mname']}, {\"$set\":movie}, upsert=True)"
   ]
  },
  {
   "cell_type": "code",
   "execution_count": 39,
   "metadata": {
    "collapsed": false
   },
   "outputs": [],
   "source": [
    "import time\n",
    "#영화 intl 페이지 -> 한국매출 / 개봉일 정보.\n",
    "def load_data_mojo_movie_intl(M_id):\n",
    "    Mojo_url = u'http://www.boxofficemojo.com{}&page=intl'.format(M_id)\n",
    "    req = requests.get(Mojo_url)\n",
    "    bsObj = BeautifulSoup(req.content,'html.parser')\n",
    "    line_kor = bsObj.find('a', text = 'South Korea')\n",
    "    for iter_kor in line_kor.parents:\n",
    "        if re.match('<tr ',str(iter_kor)) :\n",
    "            break\n",
    "    gross_kor = iter_kor.find_all(text = re.compile('\\$'))\n",
    "    gross_kor = int(re.sub(\"[^0-9]\",\"\",gross_kor[-1]))\n",
    "    release_kor = iter_kor.find_all(text = re.compile('\\d+\\/\\d+/\\d'))[0]\n",
    "    return {\n",
    "        'gross_kor' : gross_kor,\n",
    "        'release_kor' : release_kor\n",
    "    }\n",
    "#영화 Main\n",
    "def load_data_mojo_movie_main(M_id):\n",
    "    Mojo_url = u'http://www.boxofficemojo.com{}&page=main'.format(M_id)\n",
    "    req = requests.get(Mojo_url)\n",
    "    bsObj = BeautifulSoup(req.content,'html.parser')\n",
    "    #content = bsObj.find('td', attrs = {'valign' : 'top', 'align':'center'}).next_siblings\n",
    "    tables = bsObj.find_all('table')\n",
    "    for i in tables:\n",
    "        if re.search(re.compile(\"Domestic Total Gross\"),i.get_text())!=None:\n",
    "            content = i\n",
    "            break\n",
    "    re_dir = re.compile('.+Director.+id=.+') #감독 추출용 표현식\n",
    "    re_act = re.compile('.+Actor.+id=.+') #배우 추출용\n",
    "    re_name = re.compile('[a-zA-Z\\., ]+[a-zA-Z\\.]') #이름 추출용(이름 외엔 지우는..)\n",
    "\n",
    "    director = {}\n",
    "    actor = {}\n",
    "    franchise = {}\n",
    "\n",
    "    #미국 매출 추출\n",
    "    gross_us = str(content.find(text = 'Domestic Total Gross: ').next_sibling)\n",
    "    gross_us = int(re.sub(\"[^0-9]\",\"\",gross_us))\n",
    "\n",
    "    #제작비 추출\n",
    "    project_budget = str(content.find(text = 'Production Budget: ').next_sibling.get_text())\n",
    "    unit = project_budget.split(\" \")[1]\n",
    "    if unit == 'million' :\n",
    "        unit = 1000000\n",
    "    else :\n",
    "        print(\"Need to add new unit : {}\".format(unit))\n",
    "    project_budget = int(re.sub(\"[^0-9]\",\"\",project_budget)) * unit\n",
    "\n",
    "    #The Players부분 뽑아내기.\n",
    "    people_links = bsObj.find_all('a', attrs = {\"href\" : re.compile('\\/people\\/[^\"]')})\n",
    "\n",
    "    #감독 추출\n",
    "    for line in people_links:\n",
    "        if re.search(re_dir, str(line)):\n",
    "            break\n",
    "    tag_directors = line.parent.find_all('a')\n",
    "    #링크 있는 감독\n",
    "    for iter_dir in tag_directors:\n",
    "        name = re.match(re_name, iter_dir.get_text()).group()\n",
    "        director[name] = iter_dir.attrs['href']\n",
    "    #링크 없는 감독\n",
    "    for split_dir in str(line.parent).split('<br>'):\n",
    "        if not(re.search('<\\/a>',split_dir)):\n",
    "            name = re.match(re_name,split_dir).group()\n",
    "            director[name] = 'NA'\n",
    "\n",
    "    #배우 추출.\n",
    "    for line in people_links:\n",
    "        if re.search(re_act, str(line)):\n",
    "            break\n",
    "    tag_actors = line.parent.find_all('a')\n",
    "    #링크 있는 배우들\n",
    "    for iter_act in tag_actors:\n",
    "        name = re.match(re_name, iter_act.get_text()).group()\n",
    "        actor[name] = iter_act.attrs['href']\n",
    "    #링크 없는 배우들\n",
    "    for split_act in str(line.parent).split('<br>'):\n",
    "        if not(re.search('<\\/a>',split_act)):\n",
    "            name = re.match(re_name,split_act).group()\n",
    "            actor[name] = 'NA'\n",
    "\n",
    "    #프랜차이즈\n",
    "    divs = bsObj.find_all('div', attrs = {'class' : 'mp_box_tab'})\n",
    "    for iter_div in divs :\n",
    "        if re.search('.+Franchises.+',str(iter_div)):\n",
    "            franchises_table = iter_div.parent\n",
    "            break\n",
    "    for iter_ser in franchises_table.find_all('a', text = re.compile('Series:')):\n",
    "        franchise[iter_ser.get_text()] = iter_ser.attrs['href']\n",
    "        \n",
    "    return {\n",
    "        'gross_us' : gross_us,\n",
    "        'project_budget' : project_budget,\n",
    "        'director' : director,\n",
    "        'actor' : actor,\n",
    "        'franchise' : franchise\n",
    "    }"
   ]
  },
  {
   "cell_type": "code",
   "execution_count": 47,
   "metadata": {
    "collapsed": false
   },
   "outputs": [],
   "source": [
    "arr_movie = [{'mname' : 'test', 'm_id' : '/movies/?id=avengers2.htm'}]\n",
    "# arr_movie = dict <- 영화정보 dict에 넣는 부분!\n",
    "dict_web_actor = {}\n",
    "dict_web_director = {}\n",
    "dict_web_franchise = {}\n",
    "dict_film_actor = {}\n",
    "dict_film_director = {}\n",
    "dict_film_franchise = {}\n",
    "\n",
    "for N, iter_movie in enumerate(arr_movie):\n",
    "    main = load_data_mojo_movie_main(iter_movie['m_id'])\n",
    "    arr_movie[N].update(main)\n",
    "    for k in main['actor'].keys():\n",
    "        dict_web_actor[k] = main['actor'][k]\n",
    "    for k in main['director'].keys():\n",
    "        dict_web_director[k] = main['director'][k]\n",
    "    for k in main['franchise'].keys():\n",
    "        dict_web_franchise[k] = main['franchise'][k]\n",
    "    arr_movie[N].update(load_data_mojo_movie_intl(iter_movie['m_id']))"
   ]
  },
  {
   "cell_type": "code",
   "execution_count": 49,
   "metadata": {
    "collapsed": false
   },
   "outputs": [
    {
     "data": {
      "text/plain": [
       "{u'Aaron Johnson': u'/people/chart/?view=Actor&id=aaronjohnson.htm',\n",
       " u'Andy Serkis': u'/people/chart/?view=Actor&id=andyserkis.htm',\n",
       " u'Anthony Mackie': u'/people/chart/?view=Actor&id=anthonymackie.htm',\n",
       " u'Chris Evans': u'/people/chart/?view=Actor&id=chrisevans.htm',\n",
       " u'Chris Hemsworth': u'/people/chart/?view=Actor&id=chrishemsworth.htm',\n",
       " 'Cobie Smulders': 'NA',\n",
       " u'Don Cheadle': u'/people/chart/?view=Actor&id=doncheadle.htm',\n",
       " u'Elizabeth Olsen': u'/people/chart/?view=Actor&id=elizabetholsen.htm',\n",
       " 'Hayley Atwell': 'NA',\n",
       " u'Idris Elba': u'/people/chart/?view=Actor&id=idriselba.htm',\n",
       " 'James Spader': 'NA',\n",
       " u'Jeremy Renner': u'/people/chart/?view=Actor&id=jeremyrenner.htm',\n",
       " u'Josh Brolin': u'/people/chart/?view=Actor&id=joshbrolin.htm',\n",
       " u'Mark Ruffalo': u'/people/chart/?view=Actor&id=markruffalo.htm',\n",
       " u'Paul Bettany': u'/people/chart/?view=Actor&id=paulbettany.htm',\n",
       " u'Robert Downey, Jr.': u'/people/chart/?view=Actor&id=robertdowneyjr.htm',\n",
       " u'Samuel L. Jackson': u'/people/chart/?view=Actor&id=samuelljackson.htm',\n",
       " u'Scarlett Johansson': u'/people/chart/?view=Actor&id=scarlettjohansson.htm',\n",
       " u'Stellan Skarsgard': u'/people/chart/?view=Actor&id=stellanskarsgard.htm'}"
      ]
     },
     "execution_count": 49,
     "metadata": {},
     "output_type": "execute_result"
    }
   ],
   "source": [
    "dict_web_actor"
   ]
  }
 ],
 "metadata": {
  "kernelspec": {
   "display_name": "Python 2",
   "language": "python",
   "name": "python2"
  },
  "language_info": {
   "codemirror_mode": {
    "name": "ipython",
    "version": 2
   },
   "file_extension": ".py",
   "mimetype": "text/x-python",
   "name": "python",
   "nbconvert_exporter": "python",
   "pygments_lexer": "ipython2",
   "version": "2.7.13"
  }
 },
 "nbformat": 4,
 "nbformat_minor": 2
}
