{
 "cells": [
  {
   "cell_type": "code",
   "execution_count": 1,
   "metadata": {
    "collapsed": true
   },
   "outputs": [],
   "source": [
    "import requests\n",
    "from bs4 import BeautifulSoup\n",
    "import pymongo\n",
    "import time\n",
    "import json\n",
    "%matplotlib inline\n",
    "import re"
   ]
  },
  {
   "cell_type": "code",
   "execution_count": 2,
   "metadata": {
    "collapsed": false
   },
   "outputs": [
    {
     "name": "stdout",
     "output_type": "stream",
     "text": [
      "[u'realease_kor', u'Webpage', u'Mname', u'Domestic', u'budget', u'gross_kor', u'release_usa', u'year', u'runtime', u'Oversea', u'rating_usa']\n",
      "Toy Story 3\tAlice in Wonderland (2010)\tHarry Potter and the Deathly Hallows Part 1\tInception\tShrek Forever After\tThe Twilight Saga: Eclipse\tIron Man 2\tTangled\tDespicable Me\tHow to Train Your Dragon\tClash of the Titans (2010)\tThe Chronicles of Narnia: The Voyage of the Dawn Treader\tThe King's Speech\tTron Legacy\tThe Karate Kid\tPrince of Persia: The Sands of Time\tBlack Swan\tMegamind\tRobin Hood\tThe Last Airbender\tLittle Fockers\tResident Evil: Afterlife\tShutter Island\tSalt\tSex and the City 2\tThe Tourist\tThe Expendables\tKnight & Day\tTrue Grit\tGulliver's Travels\tPercy Jackson & The Olympians: The Lightning Thief\tThe Social Network\tValentine's Day\tThe Sorcerer's Apprentice\tDue Date\tEat Pray Love\tRed\tParanormal Activity 2\tThe A-Team\tJackass 3-D\tUnstoppable\tStep Up 3-D\tThe Book of Eli\tThe Town\tLegend of the Guardians: The Owls of Ga'Hoole\tThe Wolfman\tThe Bounty Hunter\tSaw 3D\tWall Street: Money Never Sleeps\tThe Fighter\tPredators\tA Nightmare on Elm Street (2010)\tDear John\tCats & Dogs: The Revenge of Kitty Galore\tHereafter\tLove and Other Drugs\tAftershock (Tangshan Dadizhen)\tKillers\tKick-Ass\tGreen Zone\tNanny McPhee Returns\tPiranha 3D\tOceans\tEdge of Darkness\tLetters to Juliet\tThe Back-Up Plan\tHubble 3D\tTales from Earthsea\tThe American\tThe Last Exorcism\tThe Next Three Days\tSkyline\tDevil\t127 Hours\tThe Ghost Writer\tMorning Glory\tRemember Me\tThe Crazies\tFrom Paris with Love\tDaybreakers\tAlpha and Omega\tThe Switch\tCharlie St. Cloud\tHeartbreaker\tThe Spy Next Door\tThe Good, the Bad, the Weird\tMachete\tThe Man From Nowhere\tWhen in Rome\tMy Name is Khan\tThe Concert\tThe Kids Are All Right\tYou Will Meet a Tall Dark Stranger\tThe Secret in Their Eyes\tAvatar: Special Edition\tLeap Year\tSplice\tLet Me In\tMao's Last Dancer\t71 Into the Fire\t\n"
     ]
    }
   ],
   "source": [
    "import json\n",
    "f = open(\"movie.json\", \"r\")\n",
    "movie_data = json.load(f)\n",
    "f.close()\n",
    "movie_data = movie_data\n",
    "print(movie_data[0].keys())\n",
    "line = \"\"\n",
    "for i in movie_data[0:100]:\n",
    "    line += \"{}\\t\".format(i['Mname'])\n",
    "print(line)"
   ]
  },
  {
   "cell_type": "code",
   "execution_count": 3,
   "metadata": {
    "collapsed": false
   },
   "outputs": [],
   "source": [
    "class Database(object):\n",
    "    def __init__(self):\n",
    "        self.connection = pymongo.MongoClient(\"localhost\", 27017)\n",
    "        self.db = self.connection[\"DSS4_SmallP\"]\n",
    "        self.collection = self.db[\"Movie_mojo\"]        \n",
    "def Load_Data_mojo_yearly_dom(page,year):\n",
    "    Mojo_url = u'http://www.boxofficemojo.com/'\\\n",
    "        u'yearly/chart/?page={}&view=releasedate&view2=domestic&yr={}&p=.htm'.format(page,year)\n",
    "    return requests.get(Mojo_url)\n",
    "def Load_Data_mojo_yearly_intl(year):\n",
    "    Mojo_url = u'http://www.boxofficemojo.com/'\\\n",
    "        u'yearly/chart/?view2=worldwide&yr={}&p=.htm'.format(year)\n",
    "    return requests.get(Mojo_url)\n",
    "def Load_Data_mojo_movie_intl(M_id):\n",
    "    Mojo_url = u'http://www.boxofficemojo.com{}&page=intl'.format(M_id)\n",
    "    return requests.get(Mojo_url)\n",
    "def Load_Data_mojo_movie(M_id):\n",
    "    Mojo_url = u'http://www.boxofficemojo.com{}'.format(M_id)\n",
    "    return requests.get(Mojo_url)\n",
    "\n",
    "#Daum crawler\n",
    "def load_apikeys():\n",
    "    fp = open(\"private.json\",\"r\")\n",
    "    res = json.load(fp)\n",
    "    return res\n",
    "def load_data_daum(query):\n",
    "    key = load_apikeys()['daum_key']\n",
    "    try :\n",
    "        url = \"https://apis.daum.net/contents/movie?apikey={}&q={}&output=json\".format(key, query)\n",
    "    except UnicodeEncodeError :\n",
    "        query2 = re.match('[a-zA-Z\\s]+',query)\n",
    "        url = \"https://apis.daum.net/contents/movie?apikey={}&q={}&output=json\".format(key, query2.group())\n",
    "    except Exception as err:\n",
    "        print(err)\n",
    "#    print(url)\n",
    "    return requests.get(url)\n",
    "def select_daum(query, movie):\n",
    "    res = load_data_daum(query)\n",
    "#    print(res)\n",
    "    data = json.loads(res.content)\n",
    "    #검색결과가 0개일때, 검색하는 제목에서 영어랑 띄어쓰기만 필터링해서 (ex. Godzilla (2014) -> Godzilla) 재검색\n",
    "    if data['channel']['totalCount'] == 0:\n",
    "        try : \n",
    "            query2 = re.match('[a-zA-Z\\s]+',query)\n",
    "            if query2.group() == query:\n",
    "                return -2\n",
    "            else:\n",
    "                return select_daum(query2.group(), movie)\n",
    "        except AttributeError:\n",
    "            return -2\n",
    "        except Exception as err:\n",
    "            print(err)\n",
    "            return -2\n",
    "    #검색결과가 1개일때 결과값 출력\n",
    "    elif data['channel']['totalCount'] == 1:\n",
    "        return data['channel'][\"item\"][0]\n",
    "    #검색결과가 여러개일때, 개봉일을 비교하여 같은경우 출력, 개봉일이 같은게 없는경우 출력안함.\n",
    "    else :\n",
    "        mlist = []\n",
    "        try:\n",
    "            m = movie['realease_kor'].split('/')\n",
    "            m = '{0:02d}{1:02d}{2:02d}'.format(int(m[2]),int(m[0]),int(m[1]))\n",
    "            for item in data['channel']['item']:\n",
    "                try:\n",
    "                    d = item['open_info'][0]['content'].split('.')\n",
    "                    d = '{0:02d}{1:02d}{2:02d}'.format(int(d[0][-2:]),int(d[1]),int(d[2]))\n",
    "                    if d == m :\n",
    "                        mlist.append(item)\n",
    "                except:\n",
    "                    pass\n",
    "            if len(mlist) == 1:\n",
    "                return mlist[0]\n",
    "            else :\n",
    "                if len(mlist) != 0 :print(len(mlist))\n",
    "                return -1\n",
    "        except Exception as err:\n",
    "            print(err)\n",
    "            return -1"
   ]
  },
  {
   "cell_type": "code",
   "execution_count": 10,
   "metadata": {
    "collapsed": false
   },
   "outputs": [
    {
     "name": "stdout",
     "output_type": "stream",
     "text": [
      "['m_name_k', 'grade', u'Oversea', u'gross_kor', 'daum_page', u'year', 'genre', 'viewing_time', u'realease_kor', 'director_k', u'Webpage', u'Mname', u'Domestic', u'budget', u'release_usa', 'actor_k', u'runtime', u'rating_usa']\n"
     ]
    }
   ],
   "source": [
    "print(movie_data[0].keys())"
   ]
  },
  {
   "cell_type": "code",
   "execution_count": 11,
   "metadata": {
    "collapsed": false,
    "scrolled": false
   },
   "outputs": [
    {
     "name": "stdout",
     "output_type": "stream",
     "text": [
      "list index out of range\n",
      "list index out of range\n",
      "list index out of range\n",
      "list index out of range\n",
      "list index out of range\n",
      "list index out of range\n",
      "list index out of range\n"
     ]
    }
   ],
   "source": [
    "movie_data = db.collection.find()\n",
    "arr_movie = []\n",
    "err_movie = []\n",
    "for arr_num, movie in enumerate(movie_data):\n",
    "    res = select_daum(movie['Mname'],movie)\n",
    "    dict_movie = {\n",
    "        'm_name_k' : 'NA',\n",
    "        'grade' : 'NA',\n",
    "        'viewing_time' : -1,\n",
    "        'genre' : 'NA',\n",
    "        'director_k' : 'NA',\n",
    "        'actor_k' : 'NA'\n",
    "    }\n",
    "    if res == -1 :\n",
    "        err = \"multiple : {}\".format(movie['Mname'])\n",
    "        err_movie.append(err)\n",
    "    elif res == -2 : \n",
    "        err = \"none : {}\".format(res)\n",
    "        err_movie.append(err)\n",
    "    else :\n",
    "        if res['open_info'][2]['content'] == '' :  res['open_info'][2]['content'] = '-1 '\n",
    "        dict_movie = {\n",
    "            'm_name_k' : res['title'][0]['content'],\n",
    "            'grade' : res['open_info'][1]['content'],\n",
    "            'viewing_time' : int(res['open_info'][2]['content'][0:-1]),\n",
    "            'genre' : [X[\"content\"] for X in res[\"genre\"]],\n",
    "            'director_k' : [(X[\"content\"], X[\"link\"]) for X in res[\"director\"]],\n",
    "            'actor_k' : [(X[\"content\"], X[\"link\"]) for X in res[\"actor\"]],\n",
    "            'daum_page' : res['title'][0]['link']\n",
    "        }\n",
    "    movie_data[arr_num].update(dict_movie)\n",
    "fp = open(\"movie_added_daum.json\", \"w\")\n",
    "json.dump(movie_data, fp, indent = 4)\n",
    "fp.close()"
   ]
  },
  {
   "cell_type": "code",
   "execution_count": 12,
   "metadata": {
    "collapsed": false
   },
   "outputs": [],
   "source": [
    "#몽고DB\n",
    "db = Database()\n",
    "for movie in movie_data:\n",
    "    db.collection.update_one({'Mname' : movie['Mname']}, {\"$set\":movie}, upsert=True)"
   ]
  },
  {
   "cell_type": "code",
   "execution_count": null,
   "metadata": {
    "collapsed": true
   },
   "outputs": [],
   "source": []
  },
  {
   "cell_type": "code",
   "execution_count": 480,
   "metadata": {
    "collapsed": false
   },
   "outputs": [],
   "source": [
    "import time\n",
    "#영화 intl 페이지 -> 한국매출 / 개봉일 정보.\n",
    "def load_data_mojo_movie_intl(M_id):\n",
    "    Mojo_url = u'http://www.boxofficemojo.com{}&page=intl'.format(M_id)\n",
    "    req = requests.get(Mojo_url)\n",
    "\n",
    "    bsObj = BeautifulSoup(req.content,'html.parser')\n",
    "    line_kor = bsObj.find('a', text = 'South Korea')\n",
    "    if line_kor :\n",
    "        for iter_kor in line_kor.parents:\n",
    "            if re.match('<tr ',str(iter_kor)) :\n",
    "                break\n",
    "        gross_kor = iter_kor.find_all(text = re.compile('\\$'))\n",
    "        try:\n",
    "            gross_kor = int(re.sub(\"[^0-9]\",\"\",gross_kor[-1]))\n",
    "        except IndexError:\n",
    "            gross_kor = 'NA'\n",
    "        release_kor = iter_kor.find_all(text = re.compile('\\d+\\/\\d+/\\d'))[0]\n",
    "    else :\n",
    "        gross_kor = 'NA'\n",
    "        release_kor = 'NA'\n",
    "    return {\n",
    "        'gross_kor' : gross_kor,\n",
    "        'release_kor' : release_kor\n",
    "    }\n",
    "#영화 Main\n",
    "def load_data_mojo_movie_main(M_id):\n",
    "    Mojo_url = u'http://www.boxofficemojo.com{}&page=main'.format(M_id)\n",
    "    req = requests.get(Mojo_url)\n",
    "    bsObj = BeautifulSoup(req.content,'html.parser')\n",
    "    #content = bsObj.find('td', attrs = {'valign' : 'top', 'align':'center'}).next_sibling\n",
    "    tables = bsObj.find_all('table')\n",
    "    for i in tables:\n",
    "        if re.search(re.compile(\"Domestic Total Gross\"),i.get_text())!=None:\n",
    "            content = i\n",
    "            break\n",
    "    re_dir = re.compile('.+Director.+id=.+') #감독 추출용 표현식\n",
    "    re_act = re.compile('.+Actor.+id=.+') #배우 추출용\n",
    "    re_name = re.compile('[0-9a-zA-Z\\., ]+[0-9a-zA-Z\\.]') #이름 추출용(이름 외엔 지우는..)\n",
    "\n",
    "    director = {}\n",
    "    actor = {}\n",
    "    franchise = {}\n",
    "\n",
    "    #미국매출, 제작비\n",
    "    first_td = bsObj.find_all('td')\n",
    "    for cell in first_td:\n",
    "        if re.search('Domestic', str(cell)):\n",
    "            break\n",
    "    try :\n",
    "        gross_us = str(re.findall(\".*Domestic Total.*\\$([\\d,]+).*Distributor:.*\", str(cell))[0])\n",
    "        gross_us = int(re.sub(\"[^0-9]\",\"\",gross_us))\n",
    "    except IndexError :\n",
    "        gross_us = 'NA'\n",
    "    project_budget = re.findall(\".*Production Budget.*\\$([\\d ,a-zA-Z\\.]+).*</b>.*\", str(cell))\n",
    "    if project_budget :\n",
    "        project_budget = project_budget[0].split(\" \")\n",
    "        if len(project_budget) == 2 :\n",
    "            unit = project_budget[1]\n",
    "            if unit == 'million' :\n",
    "                unit = 1000000.\n",
    "            else :\n",
    "                print(\"Need to add new unit : {}\".format(unit))\n",
    "            project_budget = int(float(re.sub(\"[^0-9\\.]\",\"\",project_budget[0])) * unit)\n",
    "        else :\n",
    "            project_budget = int(re.sub(\"[^0-9\\.]\",\"\",project_budget[0]))\n",
    "    else :\n",
    "        project_budget = 'NA'\n",
    "\n",
    "    #The Players부분 뽑아내기.\n",
    "    people_links = bsObj.find_all('a', attrs = {\"href\" : re.compile('\\/people\\/[^\"]')})\n",
    "\n",
    "    #감독 추출\n",
    "    for line in people_links:\n",
    "        if re.search(re_dir, str(line)):\n",
    "            break\n",
    "    tag_directors = line.parent.find_all('a')\n",
    "    #링크 있는 감독\n",
    "    for iter_dir in tag_directors:\n",
    "        name = re.match(re_name, iter_dir.get_text()).group()\n",
    "        name = re.sub('\\.', '', name)\n",
    "        name = re.sub(',','', name)\n",
    "        director[name] = iter_dir.attrs['href']\n",
    "    #링크 없는 감독\n",
    "    names = director.keys()\n",
    "    for name in line.parent.parent.strings:\n",
    "        name = re.sub('\\.', '', name)\n",
    "        name = re.sub(',','', name)\n",
    "        if not(name in names):\n",
    "            actor[name] = 'NA'\n",
    "            \n",
    "    #배우 추출.\n",
    "    for line in people_links:\n",
    "        if re.search(re_act, str(line)):\n",
    "            break\n",
    "    tag_actors = line.parent.find_all('a')\n",
    "    #링크 있는 배우들\n",
    "    for iter_act in tag_actors:\n",
    "        name = re.match(re_name, iter_act.get_text()).group()\n",
    "        name = re.sub('\\.', '', name)\n",
    "        name = re.sub(',','', name)\n",
    "        actor[name] = iter_act.attrs['href']\n",
    "    #링크 없는 배우들\n",
    "    names = actor.keys()\n",
    "    for name in line.parent.parent.strings:\n",
    "        name = re.sub('\\.', '', name)\n",
    "        name = re.sub(',','', name)\n",
    "        if not(name in names):\n",
    "            actor[name] = 'NA'\n",
    "\n",
    "    #프랜차이즈\n",
    "    divs = bsObj.find_all('div', attrs = {'class' : 'mp_box_tab'})\n",
    "    for iter_div in divs :\n",
    "        if re.search('.+Franchises.+',str(iter_div)):\n",
    "            franchises_table = iter_div.parent\n",
    "            for iter_ser in franchises_table.find_all('a', text = re.compile('Series:')):\n",
    "                name = iter_ser.get_text()\n",
    "                name = re.sub('\\.', '', name)\n",
    "                name = re.sub(',','', name)\n",
    "                franchise[name] = iter_ser.attrs['href']\n",
    "            break\n",
    "        \n",
    "    return {\n",
    "        'gross_us' : gross_us,\n",
    "        'project_budget' : project_budget,\n",
    "        'director' : director,\n",
    "        'actor' : actor,\n",
    "        'franchise' : franchise\n",
    "    }\n",
    "\n",
    "def load_data_mojo_filmography(name, page):\n",
    "    mojo_url = u'http://www.boxofficemojo.com{}'.format(page)\n",
    "    print(mojo_url)\n",
    "    res = requests.get(mojo_url)\n",
    "    bsObj = BeautifulSoup(res.content)\n",
    "    table = bsObj.find('h1')\n",
    "    filmography = {}\n",
    "    arr_movie = table.parent.find_all('a', attrs = {'href' : re.compile('\\/movies\\/')})\n",
    "    for iter_movie in arr_movie:\n",
    "        filmography[iter_movie.get_text()] = [iter_movie.attrs['href']]\n",
    "    return filmography\n",
    "\n",
    "def load_data_mojo_franchise(name, page):\n",
    "    name = re.sub('Series: ', '', name)\n",
    "    mojo_url = u'http://www.boxofficemojo.com{}'.format(page)\n",
    "    res = requests.get(mojo_url)\n",
    "    bsObj = BeautifulSoup(res.content)\n",
    "    table = bsObj.find('h1')\n",
    "    table = table.parent.find('table')\n",
    "    franchise = {}\n",
    "    arr_movie = table.find_all('a', attrs = {'href' : re.compile('\\/movies\\/')})\n",
    "    arr_movie_rel = re.findall(re.compile('\\d{1,2}\\/\\d{1,2}\\/\\d{1,2}'),str(table.parent.contents))\n",
    "    for iter_movie in arr_movie:\n",
    "        franchise[iter_movie.get_text()] = [iter_movie.attrs['href']]\n",
    "    return franchise\n",
    "#배우 감독 필모그래피 매출, 개봉일 작성\n",
    "def load_filmography(dict_web):\n",
    "    global N\n",
    "    print (N)\n",
    "    dict_film = {}\n",
    "    for name in dict_web.keys()[N:]:\n",
    "        if dict_web[name] != 'NA' :\n",
    "            dict_film[name] = load_data_mojo_filmography(name, dict_web[name])\n",
    "            for moviename in dict_film[name]:\n",
    "                dict_movie = db.collection.find_one({'Mname': moviename })\n",
    "                if dict_movie != None:\n",
    "                    dict_film[name][moviename].append(dict_movie['release_kor'])\n",
    "                    dict_film[name][moviename].append(dict_movie['gross_kor'])\n",
    "                else :\n",
    "                    res = load_data_mojo_movie_intl(dict_film[name][moviename][0])\n",
    "                    dict_film[name][moviename].append(res['release_kor'])\n",
    "                    dict_film[name][moviename].append(res['gross_kor'])\n",
    "                    db.collection.insert_one({'Mname': moviename, 'release_kor': res['release_kor'], 'gross_kor': res['gross_kor']})\n",
    "        else :\n",
    "            dict_film[name] = ['NA']\n",
    "        N += 1\n",
    "    return dict_film"
   ]
  },
  {
   "cell_type": "code",
   "execution_count": 412,
   "metadata": {
    "collapsed": true
   },
   "outputs": [],
   "source": [
    "#real code\n",
    "#초기화\n",
    "N = 0\n",
    "db = Database()\n",
    "movies = db.collection.find()\n",
    "dict_web_actor = {}\n",
    "dict_web_director = {}\n",
    "dict_web_franchise = {}\n",
    "dict_film_actor = {}\n",
    "dict_film_director = {}\n",
    "dict_film_franchise = {}"
   ]
  },
  {
   "cell_type": "code",
   "execution_count": 438,
   "metadata": {
    "collapsed": false,
    "scrolled": false
   },
   "outputs": [
    {
     "name": "stdout",
     "output_type": "stream",
     "text": [
      "847\n",
      "1642 392 96\n",
      "Live By Night God's Not Dead 2 El Clan Nine Lives (2016) Eye in the Sky Regression Norm of the North Pride and Prejudice and Zombies The Infiltrator The Take (2016) Hardcore Henry Love & Friendship Sing Street Jackie The Beatles: Eight Days a Week - The Touring Years The Man Who Knew Infinity Ratchet & Clank The Lobster (US Release) A Bigger Splash Captain Fantastic Hands of Stone Men & Chicken Where to Invade Next A Man Called Ove Everybody Wants Some!! Maggie's Plan The Program (2016) Desierto Miles Ahead Equals The Dressmaker The Handmaiden Demolition The Neon Demon The Music of Strangers Operation Chromite The Wailing (Goksung) Master A Tale of Love and Darkness Tunnel Knight of Cups Cold War 2 The Age of Shadows Marguerite The Boy and the Beast Our Little Sister Things To Come\u000b",
      " High-Rise Francofonia Kingsglaive: Final Fantasy: XV The Family Fang Dheepan Oasis: Supersonic League of Gods Viva The Wave Asura: The City of Madness Louder than Bombs Born to be Blue Tumbledown The Brand New Testament Spirits' Homecoming Sweet Bean Under the Sun (2016) Tale of Tales Our Last Tango Seondal: The Man Who Sells the River My Love, Don't Cross that River A Street Cat Named Bob Phantom Detective Microbe & Gasoline Time Renegades Vanishing Time: A Boy Who Returned DONGJU: The Portrait of a Poet L'attesa The Lovers and the Despot My King (Mon roi) My Annoying Brother A Melody to Remember Mr. Right The Map Against the World The Last Princess Anesthesia Right Now, Wrong Then "
     ]
    }
   ],
   "source": [
    "#real code\n",
    "#각 영화에 대한 scraping 실행.\n",
    "db = Database()\n",
    "movies = db.collection.find()\n",
    "print(len(dict_web_actor), len(dict_web_director), len(dict_web_franchise))\n",
    "for iter_movie in movies[N:]:\n",
    "    try:\n",
    "        sys.stdout.write('{},{} '.format(N, iter_movie[u'Mname']))\n",
    "    except:\n",
    "        pass\n",
    "    main = load_data_mojo_movie_main(iter_movie[u'Webpage'])\n",
    "    for k in main['actor'].keys():\n",
    "        dict_web_actor[k] = main['actor'][k]\n",
    "    for k in main['director'].keys():\n",
    "        dict_web_director[k] = main['director'][k]\n",
    "    for k in main['franchise'].keys():\n",
    "        dict_web_franchise[k] = main['franchise'][k]\n",
    "    main.update(load_data_mojo_movie_intl(iter_movie[u'Webpage']))\n",
    "    db.collection.update_one({'_id' : iter_movie['_id']}, {'$set' : main})\n",
    "    N+=1\n",
    "    time.sleep(0.5)"
   ]
  },
  {
   "cell_type": "code",
   "execution_count": 481,
   "metadata": {
    "collapsed": true
   },
   "outputs": [],
   "source": [
    "N = 39"
   ]
  },
  {
   "cell_type": "code",
   "execution_count": null,
   "metadata": {
    "collapsed": false
   },
   "outputs": [
    {
     "name": "stdout",
     "output_type": "stream",
     "text": [
      "39\n",
      "http://www.boxofficemojo.com/people/chart/?view=Actor&id=michaelbjordan.htm\n",
      "http://www.boxofficemojo.com/people/chart/?view=Actor&id=paulapatton.htm\n",
      "http://www.boxofficemojo.com/people/chart/?view=Actor&id=karengillan.htm\n",
      "http://www.boxofficemojo.com/people/chart/?view=Actor&id=lukashaas.htm\n",
      "http://www.boxofficemojo.com/people/chart/?view=Actor&id=davefranco.htm\n",
      "http://www.boxofficemojo.com/people/chart/?view=Actor&id=lucasblack.htm\n",
      "http://www.boxofficemojo.com/people/chart/?view=Actor&id=ashleybell.htm\n",
      "http://www.boxofficemojo.com/people/chart/?view=Actor&id=charlieday.htm\n",
      "http://www.boxofficemojo.com/people/chart/?view=Actor&id=stellanskarsgard.htm\n",
      "http://www.boxofficemojo.com/people/chart/?view=Actor&id=johnnydepp.htm\n",
      "http://www.boxofficemojo.com/people/chart/?view=Actor&id=ryanguzman.htm\n",
      "http://www.boxofficemojo.com/people/chart/?view=Actor&id=thandienewton.htm\n",
      "http://www.boxofficemojo.com/people/chart/?view=Actor&id=colinegglesfield.htm\n",
      "http://www.boxofficemojo.com/people/chart/?view=Actor&id=queenlatifah.htm\n",
      "http://www.boxofficemojo.com/people/chart/?view=Actor&id=mandymoore.htm\n",
      "http://www.boxofficemojo.com/people/chart/?view=Actor&id=kevinkline.htm\n",
      "http://www.boxofficemojo.com/people/chart/?view=Actor&id=johnnyknoxville.htm\n",
      "http://www.boxofficemojo.com/people/chart/?view=Actor&id=stanleytucci.htm\n",
      "http://www.boxofficemojo.com/people/chart/?view=Actor&id=jasonsegel.htm\n",
      "http://www.boxofficemojo.com/people/chart/?view=Actor&id=cubagoodingjr.htm\n",
      "http://www.boxofficemojo.com/people/chart/?view=Actor&id=christophermintzplasse.htm\n",
      "http://www.boxofficemojo.com/people/chart/?view=Actor&id=jackieearlehaley.htm\n",
      "http://www.boxofficemojo.com/people/chart/?view=Actor&id=rhysifans.htm\n",
      "http://www.boxofficemojo.com/people/chart/?view=Actor&id=keiraknightley.htm\n",
      "http://www.boxofficemojo.com/people/chart/?view=Actor&id=alexadavalos.htm\n",
      "http://www.boxofficemojo.com/people/chart/?view=Actor&id=reneezellweger.htm\n",
      "http://www.boxofficemojo.com/people/chart/?view=Actor&id=liamneeson.htm\n",
      "http://www.boxofficemojo.com/people/chart/?view=Actor&id=januaryjones.htm\n",
      "http://www.boxofficemojo.com/people/chart/?view=Actor&id=kurtrussell.htm\n",
      "http://www.boxofficemojo.com/people/chart/?view=Actor&id=barbrastreisand.htm\n",
      "http://www.boxofficemojo.com/people/chart/?view=Actor&id=chrisbrown.htm\n",
      "http://www.boxofficemojo.com/people/chart/?view=Actor&id=christopherwalken.htm\n",
      "http://www.boxofficemojo.com/people/chart/?view=Actor&id=jetli.htm\n",
      "http://www.boxofficemojo.com/people/chart/?view=Actor&id=hughlaurie.htm\n",
      "http://www.boxofficemojo.com/people/chart/?view=Actor&id=adamscott.htm\n",
      "http://www.boxofficemojo.com/people/chart/?view=Actor&id=stevecoogan.htm\n",
      "http://www.boxofficemojo.com/people/chart/?view=Actor&id=ewenbremner.htm\n",
      "http://www.boxofficemojo.com/people/chart/?view=Actor&id=sofiaboutella.htm\n",
      "http://www.boxofficemojo.com/people/chart/?view=Actor&id=bonniehunt.htm\n",
      "http://www.boxofficemojo.com/people/chart/?view=Actor&id=sigourneyweaver.htm\n",
      "http://www.boxofficemojo.com/people/chart/?view=Actor&id=jamespurefoy.htm\n",
      "http://www.boxofficemojo.com/people/chart/?view=Actor&id=omarsy.htm\n",
      "http://www.boxofficemojo.com/people/chart/?view=Actor&id=jamesmcavoy.htm\n",
      "http://www.boxofficemojo.com/people/chart/?view=Actor&id=lenaheadey.htm\n",
      "http://www.boxofficemojo.com/people/chart/?view=Actor&id=melissamccarthy.htm\n",
      "http://www.boxofficemojo.com/people/chart/?view=Actor&id=emmyrossum.htm\n",
      "http://www.boxofficemojo.com/people/chart/?view=Actor&id=michaelfassbender.htm\n",
      "http://www.boxofficemojo.com/people/chart/?view=Actor&id=chrisklein.htm\n",
      "http://www.boxofficemojo.com/people/chart/?view=Actor&id=keanureeves.htm\n",
      "http://www.boxofficemojo.com/people/chart/?view=Actor&id=willferrell.htm\n",
      "http://www.boxofficemojo.com/people/chart/?view=Actor&id=tomhiddleston.htm\n",
      "http://www.boxofficemojo.com/people/chart/?view=Actor&id=matthewgoode.htm\n",
      "http://www.boxofficemojo.com/people/chart/?view=Actor&id=rooneymara.htm\n",
      "http://www.boxofficemojo.com/people/chart/?view=Actor&id=tonycox.htm\n",
      "http://www.boxofficemojo.com/people/chart/?view=Actor&id=woodyharrelson.htm\n",
      "http://www.boxofficemojo.com/people/chart/?view=Actor&id=gemmaarterton.htm\n",
      "http://www.boxofficemojo.com/people/chart/?view=Actor&id=armiehammer.htm\n",
      "http://www.boxofficemojo.com/people/chart/?view=Actor&id=niavardalos.htm\n",
      "http://www.boxofficemojo.com/people/chart/?view=Actor&id=peterkrause.htm\n",
      "http://www.boxofficemojo.com/people/chart/?view=Actor&id=bryancranston.htm\n",
      "http://www.boxofficemojo.com/people/chart/?view=Actor&id=haydenchristensen.htm\n",
      "http://www.boxofficemojo.com/people/chart/?view=Actor&id=willemdafoe.htm\n",
      "http://www.boxofficemojo.com/people/chart/?view=Actor&id=javierbardem.htm\n",
      "http://www.boxofficemojo.com/people/chart/?view=Actor&id=eddieredmayne.htm\n",
      "http://www.boxofficemojo.com/people/chart/?view=Actor&id=channingtatum.htm\n",
      "http://www.boxofficemojo.com/people/chart/?view=Actor&id=robertdeniro.htm\n",
      "http://www.boxofficemojo.com/people/chart/?view=Actor&id=jasonmomoa.htm\n",
      "http://www.boxofficemojo.com/people/chart/?view=Actor&id=donnieyen.htm\n",
      "http://www.boxofficemojo.com/people/chart/?view=Actor&id=kateupton.htm\n",
      "http://www.boxofficemojo.com/people/chart/?view=Actor&id=robinwilliams.htm\n",
      "http://www.boxofficemojo.com/people/chart/?view=Actor&id=amandacrew.htm\n",
      "http://www.boxofficemojo.com/people/chart/?view=Actor&id=markrylance.htm\n",
      "http://www.boxofficemojo.com/people/chart/?view=Actor&id=jeffbridges.htm\n",
      "http://www.boxofficemojo.com/people/chart/?view=Actor&id=goranvisnjic.htm\n",
      "http://www.boxofficemojo.com/people/chart/?view=Actor&id=billyburke.htm\n",
      "http://www.boxofficemojo.com/people/chart/?view=Actor&id=jasonstatham.htm\n",
      "http://www.boxofficemojo.com/people/chart/?view=Actor&id=dustinhoffman.htm\n",
      "http://www.boxofficemojo.com/people/chart/?view=Actor&id=lancereddick.htm\n",
      "http://www.boxofficemojo.com/people/chart/?view=Actor&id=wilmervalderrama.htm\n",
      "http://www.boxofficemojo.com/people/chart/?view=Actor&id=adambrody.htm\n",
      "http://www.boxofficemojo.com/people/chart/?view=Actor&id=renerusso.htm\n",
      "http://www.boxofficemojo.com/people/chart/?view=Actor&id=ellefanning.htm\n",
      "http://www.boxofficemojo.com/people/chart/?view=Actor&id=jasonbateman.htm\n",
      "http://www.boxofficemojo.com/people/chart/?view=Actor&id=georgeclooney.htm\n",
      "http://www.boxofficemojo.com/people/chart/?view=Actor&id=tealeoni.htm\n",
      "http://www.boxofficemojo.com/people/chart/?view=Actor&id=garyoldman.htm\n",
      "http://www.boxofficemojo.com/people/chart/?view=Actor&id=raystevenson.htm\n",
      "http://www.boxofficemojo.com/people/chart/?view=Actor&id=annettebening.htm\n",
      "http://www.boxofficemojo.com/people/chart/?view=Actor&id=annafaris.htm\n",
      "http://www.boxofficemojo.com/people/chart/?view=Actor&id=michaelclarkeduncan.htm\n",
      "http://www.boxofficemojo.com/people/chart/?view=Actor&id=edgarramirez.htm\n",
      "http://www.boxofficemojo.com/people/chart/?view=Actor&id=devpatel.htm\n",
      "http://www.boxofficemojo.com/people/chart/?view=Actor&id=sethmacfarlane.htm\n",
      "http://www.boxofficemojo.com/people/chart/?view=Actor&id=robriggle.htm\n",
      "http://www.boxofficemojo.com/people/chart/?view=Actor&id=juliaroberts.htm\n",
      "http://www.boxofficemojo.com/people/chart/?view=Actor&id=alexanderskarsgard.htm\n",
      "http://www.boxofficemojo.com/people/chart/?view=Actor&id=dannymcbride.htm\n",
      "http://www.boxofficemojo.com/people/chart/?view=Actor&id=sharonstone.htm\n",
      "http://www.boxofficemojo.com/people/chart/?view=Actor&id=teresapalmer.htm\n",
      "http://www.boxofficemojo.com/people/chart/?view=Actor&id=alecbaldwin.htm\n",
      "http://www.boxofficemojo.com/people/chart/?view=Actor&id=liamhemsworth.htm\n",
      "http://www.boxofficemojo.com/people/chart/?view=Actor&id=lukeevans.htm\n",
      "http://www.boxofficemojo.com/people/chart/?view=Actor&id=justinbartha.htm\n",
      "http://www.boxofficemojo.com/people/chart/?view=Actor&id=danfogler.htm\n",
      "http://www.boxofficemojo.com/people/chart/?view=Actor&id=christianbale.htm\n",
      "http://www.boxofficemojo.com/people/chart/?view=Actor&id=tarajiphenson.htm\n",
      "http://www.boxofficemojo.com/people/chart/?view=Actor&id=christinaapplegate.htm\n",
      "http://www.boxofficemojo.com/people/chart/?view=Actor&id=chrispine.htm\n",
      "http://www.boxofficemojo.com/people/chart/?view=Actor&id=brooklyndecker.htm\n",
      "http://www.boxofficemojo.com/people/chart/?view=Actor&id=joshlucas.htm\n",
      "http://www.boxofficemojo.com/people/chart/?view=Actor&id=johnmalkovich.htm\n",
      "http://www.boxofficemojo.com/people/chart/?view=Actor&id=petersarsgaard.htm\n",
      "http://www.boxofficemojo.com/people/chart/?view=Actor&id=edhelms.htm\n",
      "http://www.boxofficemojo.com/people/chart/?view=Actor&id=zachbraff.htm\n",
      "http://www.boxofficemojo.com/people/chart/?view=Actor&id=lilycollins.htm\n",
      "http://www.boxofficemojo.com/people/chart/?view=Actor&id=naomiwatts.htm\n",
      "http://www.boxofficemojo.com/people/chart/?view=Actor&id=ludacris.htm\n",
      "http://www.boxofficemojo.com/people/chart/?view=Actor&id=anthonyhopkins.htm\n"
     ]
    }
   ],
   "source": [
    "#real code\n",
    "#배우, 프랜차이즈, 감독 딕셔너리 완성\n",
    "dict_film_actor = load_filmography(dict_web_actor)\n",
    "N = 0\n",
    "dict_film_director = load_filmography(dict_web_director)\n",
    "\n",
    "dict_film = {}\n",
    "dict_web = dict_web_franchise\n",
    "for name in dict_web.keys():\n",
    "    if dict_web[name] != 'NA' :\n",
    "        dict_film[name] = load_data_mojo_franchise(name, dict_web[name])\n",
    "        for moviename in dict_film[name]:\n",
    "            dict_movie = db.collection.find_one({'Mname': moviename })\n",
    "            if dict_movie != None:\n",
    "                dict_film[name][moviename].append(dict_movie['realease_kor'])\n",
    "                dict_film[name][moviename].append(dict_movie['gross_kor'])\n",
    "            else :\n",
    "                res = load_data_mojo_movie_intl(dict_film[name][moviename][0])\n",
    "                dict_film[name][moviename].append(res['release_kor'])\n",
    "                dict_film[name][moviename].append(res['gross_kor'])\n",
    "                db.collection.insert_one({'Mname': moviename, 'release_kor': res['release_kor'], 'gross_kor': res['gross_kor']})\n",
    "    else :\n",
    "        dict_film[name] = ['NA']\n",
    "dict_film_franchise = dict_film\n",
    "\n",
    "connection = pymongo.MongoClient(\"localhost\", 27017)\n",
    "db = connection[\"DSS4_SmallP\"]\n",
    "actordb = db[\"actor\"]\n",
    "dirdb = db[\"director\"]\n",
    "frandb = db[\"franchise\"]"
   ]
  },
  {
   "cell_type": "code",
   "execution_count": 410,
   "metadata": {
    "collapsed": false
   },
   "outputs": [
    {
     "name": "stdout",
     "output_type": "stream",
     "text": [
      "aaaaaaaaaa"
     ]
    }
   ],
   "source": [
    "###############################################################################################\n",
    "#여기부턴 테스트&디버깅용\n",
    "\n",
    "import sys\n",
    "for i in range(10):\n",
    "    sys.stdout.write('a')"
   ]
  },
  {
   "cell_type": "code",
   "execution_count": 367,
   "metadata": {
    "collapsed": false
   },
   "outputs": [
    {
     "name": "stdout",
     "output_type": "stream",
     "text": [
      "None\n"
     ]
    }
   ],
   "source": [
    "#test\n",
    "re_name = re.compile('[a-zA-Z\\., ]+[a-zA-Z\\.]') #이름 추출용(이름 외엔 지우는..)\n",
    "a = '<font size=\"2\">Xavier Samuel'\n",
    "print(re.match(re_name, a))"
   ]
  },
  {
   "cell_type": "code",
   "execution_count": 436,
   "metadata": {
    "collapsed": false
   },
   "outputs": [
    {
     "data": {
      "text/plain": [
       "{u'Domestic': u'$10.3',\n",
       " u'Mname': u'Live By Night',\n",
       " u'Oversea': u'$11.3',\n",
       " u'Webpage': u'/movies/?id=livebynight.htm',\n",
       " u'_id': ObjectId('58b49f1ff4758a5a0ee397cc'),\n",
       " u'actor_k': [[u'\\ubca4 \\uc560\\ud50c\\ub809',\n",
       "   u'http://movie.daum.net/person/main?personId=617'],\n",
       "  [u'\\uc5d8\\ub974 \\ud328\\ub2dd',\n",
       "   u'http://movie.daum.net/person/main?personId=95465'],\n",
       "  [u'\\ube0c\\ub80c\\ub4e0 \\uae00\\ub9ac\\uc2a8',\n",
       "   u'http://movie.daum.net/person/main?personId=10671'],\n",
       "  [u'\\ud06c\\ub9ac\\uc2a4 \\uba54\\uc2dc\\ub098',\n",
       "   u'http://movie.daum.net/person/main?personId=116446'],\n",
       "  [u'\\uc2dc\\uc5d0\\ub098 \\ubc00\\ub7ec',\n",
       "   u'http://movie.daum.net/person/main?personId=94391'],\n",
       "  [u'\\uc870 \\uc0d0\\ub2e4\\ub098',\n",
       "   u'http://movie.daum.net/person/main?personId=17260'],\n",
       "  [u'\\ud06c\\ub9ac\\uc2a4 \\ucfe0\\ud37c',\n",
       "   u'http://movie.daum.net/person/main?personId=19276']],\n",
       " u'budget': u'N/A',\n",
       " u'daum_page': u'http://movie.daum.net/moviedb/main?movieId=106273',\n",
       " u'director_k': [[u'\\ubca4 \\uc560\\ud50c\\ub809',\n",
       "   u'http://movie.daum.net/person/main?personId=617']],\n",
       " u'genre': [u'\\ubc94\\uc8c4', u'\\ub4dc\\ub77c\\ub9c8'],\n",
       " u'grade': u'',\n",
       " u'gross_kor': u'NaN',\n",
       " u'm_name_k': u'\\ub9ac\\ube0c \\ubc14\\uc774 \\ub098\\uc774\\ud2b8',\n",
       " u'rating_usa': u'R',\n",
       " u'realease_kor': u'4/13/17',\n",
       " u'release_usa': u'December 25, 2016',\n",
       " u'runtime': 128.0,\n",
       " u'viewing_time': 128,\n",
       " u'year': 2016}"
      ]
     },
     "execution_count": 436,
     "metadata": {},
     "output_type": "execute_result"
    }
   ],
   "source": [
    "iter_movie"
   ]
  },
  {
   "cell_type": "code",
   "execution_count": 468,
   "metadata": {
    "collapsed": false
   },
   "outputs": [
    {
     "name": "stdout",
     "output_type": "stream",
     "text": [
      "http://www.boxofficemojo.com/people/chart/?view=Actor&id=michaelbjordan.htm\n"
     ]
    }
   ],
   "source": [
    "name = 'Michael B Jordan'\n",
    "name = re.match(re.compile('[A-Za-z]+'), name).group()\n",
    "mojo_url = 'http://www.boxofficemojo.com/people/chart/?view=Actor&id=michaelbjordan.htm'\n",
    "print(mojo_url)\n",
    "res = requests.get(mojo_url)\n",
    "bsObj = BeautifulSoup(res.content)\n",
    "table = bsObj.find('h1')\n",
    "filmography = {}\n",
    "arr_movie = table.parent.find_all('a', attrs = {'href' : re.compile('\\/movies\\/')})\n",
    "for iter_movie in arr_movie:\n",
    "    filmography[iter_movie.get_text()] = [iter_movie.attrs['href']]"
   ]
  },
  {
   "cell_type": "code",
   "execution_count": 469,
   "metadata": {
    "collapsed": false
   },
   "outputs": [
    {
     "name": "stdout",
     "output_type": "stream",
     "text": [
      "<h1>Michael B. Jordan</h1>\n"
     ]
    }
   ],
   "source": [
    "print(table)"
   ]
  }
 ],
 "metadata": {
  "kernelspec": {
   "display_name": "Python 2",
   "language": "python",
   "name": "python2"
  },
  "language_info": {
   "codemirror_mode": {
    "name": "ipython",
    "version": 2
   },
   "file_extension": ".py",
   "mimetype": "text/x-python",
   "name": "python",
   "nbconvert_exporter": "python",
   "pygments_lexer": "ipython2",
   "version": "2.7.13"
  }
 },
 "nbformat": 4,
 "nbformat_minor": 2
}
