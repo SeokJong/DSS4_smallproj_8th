{
 "cells": [
  {
   "cell_type": "code",
   "execution_count": 98,
   "metadata": {
    "collapsed": true
   },
   "outputs": [],
   "source": [
    "import requests\n",
    "from bs4 import BeautifulSoup\n",
    "import pymongo\n",
    "import time\n",
    "import pandas as pd\n",
    "import numpy as np\n",
    "import matplotlib.pyplot as plt\n",
    "import json\n",
    "%matplotlib inline\n",
    "import re"
   ]
  },
  {
   "cell_type": "code",
   "execution_count": 141,
   "metadata": {
    "collapsed": false
   },
   "outputs": [
    {
     "name": "stdout",
     "output_type": "stream",
     "text": [
      "[u'realease_kor', u'Webpage', u'Mname', u'Domestic', u'budget', u'gross_kor', u'release_usa', u'year', u'runtime', u'Oversea', u'rating_usa']\n",
      "Toy Story 3\tAlice in Wonderland (2010)\tHarry Potter and the Deathly Hallows Part 1\tInception\tShrek Forever After\tThe Twilight Saga: Eclipse\tIron Man 2\tTangled\tDespicable Me\tHow to Train Your Dragon\tClash of the Titans (2010)\tThe Chronicles of Narnia: The Voyage of the Dawn Treader\tThe King's Speech\tTron Legacy\tThe Karate Kid\tPrince of Persia: The Sands of Time\tBlack Swan\tMegamind\tRobin Hood\tThe Last Airbender\tLittle Fockers\tResident Evil: Afterlife\tShutter Island\tSalt\tSex and the City 2\tThe Tourist\tThe Expendables\tKnight & Day\tTrue Grit\tGulliver's Travels\tPercy Jackson & The Olympians: The Lightning Thief\tThe Social Network\tValentine's Day\tThe Sorcerer's Apprentice\tDue Date\tEat Pray Love\tRed\tParanormal Activity 2\tThe A-Team\tJackass 3-D\tUnstoppable\tStep Up 3-D\tThe Book of Eli\tThe Town\tLegend of the Guardians: The Owls of Ga'Hoole\tThe Wolfman\tThe Bounty Hunter\tSaw 3D\tWall Street: Money Never Sleeps\tThe Fighter\tPredators\tA Nightmare on Elm Street (2010)\tDear John\tCats & Dogs: The Revenge of Kitty Galore\tHereafter\tLove and Other Drugs\tAftershock (Tangshan Dadizhen)\tKillers\tKick-Ass\tGreen Zone\tNanny McPhee Returns\tPiranha 3D\tOceans\tEdge of Darkness\tLetters to Juliet\tThe Back-Up Plan\tHubble 3D\tTales from Earthsea\tThe American\tThe Last Exorcism\tThe Next Three Days\tSkyline\tDevil\t127 Hours\tThe Ghost Writer\tMorning Glory\tRemember Me\tThe Crazies\tFrom Paris with Love\tDaybreakers\tAlpha and Omega\tThe Switch\tCharlie St. Cloud\tHeartbreaker\tThe Spy Next Door\tThe Good, the Bad, the Weird\tMachete\tThe Man From Nowhere\tWhen in Rome\tMy Name is Khan\tThe Concert\tThe Kids Are All Right\tYou Will Meet a Tall Dark Stranger\tThe Secret in Their Eyes\tAvatar: Special Edition\tLeap Year\tSplice\tLet Me In\tMao's Last Dancer\t71 Into the Fire\t\n"
     ]
    }
   ],
   "source": [
    "import json\n",
    "f = open(\"movie.json\", \"r\")\n",
    "movie_data = json.load(f)\n",
    "f.close()\n",
    "movie_data = movie_data\n",
    "print(movie_data[0].keys())\n",
    "line = \"\"\n",
    "for i in movie_data[0:100]:\n",
    "    line += \"{}\\t\".format(i['Mname'])\n",
    "print(line)"
   ]
  },
  {
   "cell_type": "code",
   "execution_count": 170,
   "metadata": {
    "collapsed": false
   },
   "outputs": [],
   "source": [
    "class Database(object):\n",
    "    def __init__(self):\n",
    "        self.connection = pymongo.MongoClient(\"localhost\", 27017)\n",
    "        self.db = self.connection[\"DSS4_SmallP\"]\n",
    "        self.collection = self.db[\"Movie_mojo\"]        \n",
    "def Load_Data_mojo_yearly_dom(page,year):\n",
    "    Mojo_url = u'http://www.boxofficemojo.com/'\\\n",
    "        u'yearly/chart/?page={}&view=releasedate&view2=domestic&yr={}&p=.htm'.format(page,year)\n",
    "    return requests.get(Mojo_url)\n",
    "def Load_Data_mojo_yearly_intl(year):\n",
    "    Mojo_url = u'http://www.boxofficemojo.com/'\\\n",
    "        u'yearly/chart/?view2=worldwide&yr={}&p=.htm'.format(year)\n",
    "    return requests.get(Mojo_url)\n",
    "def Load_Data_mojo_movie_intl(M_id):\n",
    "    Mojo_url = u'http://www.boxofficemojo.com{}&page=intl'.format(M_id)\n",
    "    return requests.get(Mojo_url)\n",
    "def Load_Data_mojo_movie(M_id):\n",
    "    Mojo_url = u'http://www.boxofficemojo.com{}'.format(M_id)\n",
    "    return requests.get(Mojo_url)\n",
    "\n",
    "#Daum crawler\n",
    "def load_apikeys():\n",
    "    fp = open(\"private.json\",\"r\")\n",
    "    res = json.load(fp)\n",
    "    return res\n",
    "def load_data_daum(query):\n",
    "    key = load_apikeys()['daum_key']\n",
    "    try :\n",
    "        url = \"https://apis.daum.net/contents/movie?apikey={}&q={}&output=json\".format(key, query)\n",
    "    except UnicodeEncodeError :\n",
    "        query2 = re.match('[a-zA-Z\\s]+',query)\n",
    "        url = \"https://apis.daum.net/contents/movie?apikey={}&q={}&output=json\".format(key, query2.group())\n",
    "    except Exception as err:\n",
    "        print(err)\n",
    "#    print(url)\n",
    "    return requests.get(url)\n",
    "def select_daum(query, movie):\n",
    "    res = load_data_daum(query)\n",
    "#    print(res)\n",
    "    data = json.loads(res.content)\n",
    "    #검색결과가 0개일때, 검색하는 제목에서 영어랑 띄어쓰기만 필터링해서 (ex. Godzilla (2014) -> Godzilla) 재검색\n",
    "    if data['channel']['totalCount'] == 0:\n",
    "        try : \n",
    "            query2 = re.match('[a-zA-Z\\s]+',query)\n",
    "            if query2.group() == query:\n",
    "                return -2\n",
    "            else:\n",
    "                return select_daum(query2.group(), movie)\n",
    "        except AttributeError:\n",
    "            return -2\n",
    "        except Exception as err:\n",
    "            print(err)\n",
    "            return -2\n",
    "    #검색결과가 1개일때 결과값 출력\n",
    "    elif data['channel']['totalCount'] == 1:\n",
    "        return data['channel'][\"item\"][0]\n",
    "    #검색결과가 여러개일때, 개봉일을 비교하여 같은경우 출력, 개봉일이 같은게 없는경우 출력안함.\n",
    "    else :\n",
    "        mlist = []\n",
    "        try:\n",
    "            m = movie['realease_kor'].split('/')\n",
    "            m = '{0:02d}{1:02d}{2:02d}'.format(int(m[2]),int(m[0]),int(m[1]))\n",
    "            for item in data['channel']['item']:\n",
    "                try:\n",
    "                    d = item['open_info'][0]['content'].split('.')\n",
    "                    d = '{0:02d}{1:02d}{2:02d}'.format(int(d[0][-2:]),int(d[1]),int(d[2]))\n",
    "                    if d == m :\n",
    "                        mlist.append(item)\n",
    "                except:\n",
    "                    pass\n",
    "            if len(mlist) == 1:\n",
    "                return mlist[0]\n",
    "            else :\n",
    "                if len(mlist) != 0 :print(len(mlist))\n",
    "                return -1\n",
    "        except Exception as err:\n",
    "            print(err)\n",
    "            return -1"
   ]
  },
  {
   "cell_type": "code",
   "execution_count": 101,
   "metadata": {
    "collapsed": false
   },
   "outputs": [
    {
     "name": "stdout",
     "output_type": "stream",
     "text": [
      "[u'realease_kor', u'Webpage', u'Mname', u'Domestic', u'budget', u'gross_kor', u'release_usa', u'year', u'runtime', u'Oversea', u'rating_usa']\n"
     ]
    }
   ],
   "source": [
    "print(movie_data[0].keys())"
   ]
  },
  {
   "cell_type": "code",
   "execution_count": 172,
   "metadata": {
    "collapsed": false,
    "scrolled": false
   },
   "outputs": [
    {
     "name": "stdout",
     "output_type": "stream",
     "text": [
      "list index out of range\n",
      "list index out of range\n",
      "list index out of range\n",
      "list index out of range\n",
      "list index out of range\n",
      "list index out of range\n"
     ]
    }
   ],
   "source": [
    "arr_movie = []\n",
    "err_movie = []\n",
    "for arr_num, movie in enumerate(movie_data[260:]):\n",
    "    res = select_daum(movie['Mname'],movie)\n",
    "    dict_movie = {\n",
    "        'm_name_k' : 'NA',\n",
    "        'grade' : 'NA',\n",
    "        'viewing_time' : -1,\n",
    "        'genre' : 'NA',\n",
    "        'director_k' : 'NA',\n",
    "        'actor_k' : 'NA'\n",
    "    }\n",
    "    if res == -1 :\n",
    "        err = \"multiple : {}\".format(movie['Mname'])\n",
    "        err_movie.append(err)\n",
    "    elif res == -2 : \n",
    "        err = \"none : {}\".format(res)\n",
    "        err_movie.append(err)\n",
    "    else :\n",
    "        if res['open_info'][2]['content'] == '' :  res['open_info'][2]['content'] = '-1 '\n",
    "        dict_movie = {\n",
    "            'm_name_k' : res['title'][0]['content'],\n",
    "            'grade' : res['open_info'][1]['content'],\n",
    "            'viewing_time' : int(res['open_info'][2]['content'][0:-1]),\n",
    "            'genre' : [X[\"content\"] for X in res[\"genre\"]],\n",
    "            'director_k' : [(X[\"content\"], X[\"link\"]) for X in res[\"director\"]],\n",
    "            'actor_k' : [(X[\"content\"], X[\"link\"]) for X in res[\"actor\"]]\n",
    "        }\n",
    "    movie_data[arr_num].update(dict_movie)\n",
    "fp = open(\"movie_added_daum.json\", \"w\")\n",
    "json.dump(movie_data, fp, indent = 4)\n",
    "fp.close()"
   ]
  },
  {
   "cell_type": "code",
   "execution_count": 173,
   "metadata": {
    "collapsed": false
   },
   "outputs": [],
   "source": [
    "#몽고DB\n",
    "db = Database()\n",
    "for movie in movie_data:\n",
    "    db.collection.update_one({'Mname' : movie['Mname']}, {\"$set\":movie}, upsert=True)"
   ]
  }
 ],
 "metadata": {
  "kernelspec": {
   "display_name": "Python 2",
   "language": "python",
   "name": "python2"
  },
  "language_info": {
   "codemirror_mode": {
    "name": "ipython",
    "version": 2
   },
   "file_extension": ".py",
   "mimetype": "text/x-python",
   "name": "python",
   "nbconvert_exporter": "python",
   "pygments_lexer": "ipython2",
   "version": "2.7.13"
  }
 },
 "nbformat": 4,
 "nbformat_minor": 2
}
