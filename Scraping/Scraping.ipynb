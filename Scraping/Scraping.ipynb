{
 "cells": [
  {
   "cell_type": "code",
   "execution_count": 2,
   "metadata": {
    "collapsed": true
   },
   "outputs": [],
   "source": [
    "import requests\n",
    "from bs4 import BeautifulSoup\n",
    "import pymongo\n",
    "import time\n",
    "import pandas as pd\n",
    "import numpy as np\n",
    "import matplotlib.pyplot as plt\n",
    "import json\n",
    "%matplotlib inline"
   ]
  },
  {
   "cell_type": "code",
   "execution_count": 3,
   "metadata": {
    "collapsed": false
   },
   "outputs": [
    {
     "name": "stdout",
     "output_type": "stream",
     "text": [
      "[u'realease_kor', u'Webpage', u'Mname', u'Domestic', u'budget', u'gross_kor', u'release_usa', u'year', u'runtime', u'Oversea', u'rating_usa']\n",
      "Pieta\tLovelace\tDisconnect\tAdore\tChronic\tTransformers: Age of Extinction\tThe Hobbit: The Battle of the Five Armies\tGuardians of the Galaxy\tMaleficent\tThe Hunger Games: Mockingjay - Part 1\tX-Men: Days of Future Past\tCaptain America: The Winter Soldier\tDawn of the Planet of the Apes\tThe Amazing Spider-Man 2\tInterstellar\tBig Hero 6\tHow to Train Your Dragon 2\tAmerican Sniper\tGodzilla (2014)\tRio 2\tTeenage Mutant Ninja Turtles (2014)\tThe LEGO Movie\tLucy\tPenguins of Madagascar\tEdge of Tomorrow\tGone Girl\tNight at the Museum: Secret of the Tomb\tNoah\tThe Maze Runner\t300: Rise of An Empire\tThe Fault in our Stars\tDivergent\tMr. Peabody & Sherman\tNeighbors\tExodus: Gods and Kings\tAnnabelle\tHercules (2014)\tRoboCop (2014)\tThe Imitation Game\tNon-Stop\tDracula Untold\tThe Expendables 3\tInto the Woods\tFury (2014)\tNeed for Speed\tThe Other Woman (2014)\tThe Equalizer\tThe Grand Budapest Hotel\tDumb and Dumber To\tUnbroken\tInto The Storm\tThe Monuments Men\tPlanes: Fire & Rescue\tJack Ryan: Shadow Recruit\tThe Theory of Everything\tThe Nut Job\tPompeii\tThe Admiral: Roaring Currents\tThe Purge: Anarchy\tThe Boxtrolls\tOuija\tBirdman\tTranscendence\tHeaven is for Real\tDeliver Us From Evil\tSnowpiercer\tStep Up All In\tJohn Wick\tI, Frankenstein\tThe Attorney\tBrick Mansions\tSon of God\tThe Giver\tThunder and the House of Magic!\tBegin Again\tGod's Not Dead\tThe Legend of Hercules\tEvangelion: 3.0 You Can (Not) Redo\tSt. Vincent\tA Walk Among the Tombstones\t3 Days to Kill\tDragon Ball Z: Battle of Gods\tWhiplash\tBoyhood\tOculus\tFrank Miller's Sin City: A Dame to Kill For\tThe Best of Me\tEndless Love (2014)\tThe November Man\tThe Pirates\tBig Eyes\tThe Divine Move\tThe Suspect (2014)\tLike Father, Like Son (2014)\tLegends of Oz: Dorothy's Return\tBefore I Go To Sleep\tFoxcatcher\tOne Chance\tNymphomaniac: Volume I\tGladiators of Rome\t\n"
     ]
    }
   ],
   "source": [
    "import json\n",
    "f = open(\"movie.json\", \"r\")\n",
    "movie_data = json.load(f)\n",
    "f.close()\n",
    "movie_data = movie_data[466:699]\n",
    "print(movie_data[0].keys())\n",
    "line = \"\"\n",
    "for i in movie_data[0:100]:\n",
    "    line += \"{}\\t\".format(i['Mname'])\n",
    "print(line)"
   ]
  },
  {
   "cell_type": "code",
   "execution_count": 88,
   "metadata": {
    "collapsed": false
   },
   "outputs": [],
   "source": [
    "class Database(object):\n",
    "    def __init__(self):\n",
    "        self.connection = pymongo.MongoClient(\"localhost\", 27017)\n",
    "        self.db = self.connection[\"DSS4_SmallP\"]\n",
    "        self.collection = self.db[\"Movie_mojo\"]        \n",
    "def Load_Data_mojo_yearly_dom(page,year):\n",
    "    Mojo_url = u'http://www.boxofficemojo.com/'\\\n",
    "        u'yearly/chart/?page={}&view=releasedate&view2=domestic&yr={}&p=.htm'.format(page,year)\n",
    "    return requests.get(Mojo_url)\n",
    "def Load_Data_mojo_yearly_intl(year):\n",
    "    Mojo_url = u'http://www.boxofficemojo.com/'\\\n",
    "        u'yearly/chart/?view2=worldwide&yr={}&p=.htm'.format(year)\n",
    "    return requests.get(Mojo_url)\n",
    "def Load_Data_mojo_movie_intl(M_id):\n",
    "    Mojo_url = u'http://www.boxofficemojo.com{}&page=intl'.format(M_id)\n",
    "    return requests.get(Mojo_url)\n",
    "def Load_Data_mojo_movie(M_id):\n",
    "    Mojo_url = u'http://www.boxofficemojo.com{}'.format(M_id)\n",
    "    return requests.get(Mojo_url)\n",
    "def load_apikeys():\n",
    "    fp = open(\"private.json\",\"r\")\n",
    "    res = json.load(fp)\n",
    "    return res\n",
    "def load_data_daum(query):\n",
    "    key = load_apikeys()['daum_key']\n",
    "    url = \"https://apis.daum.net/contents/movie?apikey={}&q={}&output=json\".format(key, query)\n",
    "#    print(url)\n",
    "    return requests.get(url)\n"
   ]
  },
  {
   "cell_type": "code",
   "execution_count": 89,
   "metadata": {
    "collapsed": false
   },
   "outputs": [
    {
     "name": "stdout",
     "output_type": "stream",
     "text": [
      "[u'realease_kor', u'Webpage', u'Mname', u'Domestic', u'budget', u'gross_kor', u'release_usa', u'year', u'runtime', u'Oversea', u'rating_usa']\n"
     ]
    }
   ],
   "source": [
    "print(movie_data[0].keys())"
   ]
  },
  {
   "cell_type": "code",
   "execution_count": 92,
   "metadata": {
    "collapsed": false
   },
   "outputs": [
    {
     "name": "stdout",
     "output_type": "stream",
     "text": [
      "none : Penguins of Madagascar\n",
      "re : Neighbors\n",
      "re : Hercules (2014)\n",
      "none : The Admiral\n",
      "none : Thunder and the House of Magic\n",
      "none : Frank Miller\n",
      "none : Like Father\n",
      "none : Legends of Oz\n",
      "none : Nymphomaniac\n",
      "none : The Disappearance of Eleanor Rigby\n",
      "re : The Signal (2014)\n",
      "none : Furious \n",
      "none : The Peanuts Movie\n",
      "re : Everest (2015)\n",
      "re : The Intern\n",
      "re : Focus (2015)\n",
      "none : Dragon Ball Z\n",
      "re : The Walk\n",
      "re : Love & Mercy\n",
      "none : Baahubali\n"
     ]
    }
   ],
   "source": [
    "import re\n",
    "def select_daum(query, movie):\n",
    "    res = load_data_daum(query)\n",
    "#    print(res)\n",
    "    data = json.loads(res.content)\n",
    "    if data['channel']['totalCount'] == 0:\n",
    "        query2 = re.match('[a-zA-Z\\s]+',query)\n",
    "        if query2.group() == query:\n",
    "            return query\n",
    "        else:\n",
    "            return select_daum(query2.group(), movie)\n",
    "    elif data['channel']['totalCount'] == 1:\n",
    "        return data['channel'][\"item\"][0]\n",
    "    else :\n",
    "        mlist = []\n",
    "        m = movie['realease_kor'].split('/')\n",
    "        m = '{0:02d}{1:02d}{2:02d}'.format(int(m[2]),int(m[0]),int(m[1]))\n",
    "        for item in data['channel']['item']:\n",
    "            try:\n",
    "                d = item['open_info'][0]['content'].split('.')\n",
    "                d = '{0:02d}{1:02d}{2:02d}'.format(int(d[0][-2:]),int(d[1]),int(d[2]))\n",
    "                if d == m :\n",
    "                    mlist.append(item)\n",
    "            except:\n",
    "                pass\n",
    "        if len(mlist) == 1:\n",
    "            return mlist[0]\n",
    "        else :\n",
    "            if len(mlist) != 0 :print(len(mlist))\n",
    "            return -1\n",
    "        \n",
    "        \n",
    "for movie in movie_data:\n",
    "    res = select_daum(movie['Mname'],movie)\n",
    "    if res == -1 :\n",
    "        print(\"re : {}\".format(movie['Mname']))\n",
    "#        break\n",
    "    elif type(res) != dict : \n",
    "        print(\"none : {}\".format(res))"
   ]
  },
  {
   "cell_type": "code",
   "execution_count": null,
   "metadata": {
    "collapsed": true
   },
   "outputs": [],
   "source": []
  },
  {
   "cell_type": "code",
   "execution_count": 87,
   "metadata": {
    "collapsed": false
   },
   "outputs": [
    {
     "name": "stdout",
     "output_type": "stream",
     "text": [
      "{u'realease_kor': u'7/3/14', u'Webpage': u'/movies/?id=townies.htm', u'Mname': u'Neighbors', u'Domestic': u'$150.2', u'budget': u'$18 million', u'gross_kor': 215659.0, u'release_usa': u'May 9, 2014', u'year': 2014, u'runtime': 96.0, u'Oversea': u'$120.5', u'rating_usa': u'R'}\n"
     ]
    }
   ],
   "source": [
    "print(movie)"
   ]
  },
  {
   "cell_type": "code",
   "execution_count": 84,
   "metadata": {
    "collapsed": false
   },
   "outputs": [
    {
     "name": "stdout",
     "output_type": "stream",
     "text": [
      "https://apis.daum.net/contents/movie?apikey=ca6800712ed274862ce0793b72985180&q=Neighbors&output=json\n",
      "{u'channel': {u'item': [{u'audience_date': [{u'content': u'', u'link': u''}], u'photo4': {u'content': u'http://t1.search.daumcdn.net/thumb/R438x0.q85/?fname=http%3A%2F%2Ft1.daumcdn.net%2Fmovie%2Fbfde1b7b51f5967a2ae43f5156e7f02668054544', u'link': u'http://movie.daum.net/moviedb/photoviewer?id=94284#1027268'}, u'photo5': {u'content': u'', u'link': u''}, u'photo2': {u'content': u'http://t1.search.daumcdn.net/thumb/R438x0.q85/?fname=http%3A%2F%2Ft1.daumcdn.net%2Fmovie%2F2a839617e2ed0b014d5498dadf81573f37a5113c', u'link': u'http://movie.daum.net/moviedb/photoviewer?id=94284#1027265'}, u'photo3': {u'content': u'http://t1.search.daumcdn.net/thumb/R438x0.q85/?fname=http%3A%2F%2Ft1.daumcdn.net%2Fmovie%2F8adfef175861d09c3b13ccf6dff0367a51e5f9fa', u'link': u'http://movie.daum.net/moviedb/photoviewer?id=94284#1027267'}, u'grades': [{u'content': u'', u'link': u'http://movie.daum.net/moviedb/grade?movieId=94284&type=netizen'}, {u'content': u'0', u'link': u''}], u'photo1': {u'content': u'http://t1.search.daumcdn.net/thumb/R438x0.q85/?fname=http%3A%2F%2Ft1.daumcdn.net%2Fmovie%2Fef2e9432b75bec24d9201094adbf1454c2a29314', u'link': u'http://movie.daum.net/moviedb/photoviewer?id=94284#1027266'}, u'video': [{u'content': u'', u'link': u''}], u'open_info': [{u'content': u'', u'link': u''}, {u'content': u'', u'link': u''}, {u'content': u'30\\ubd84', u'link': u''}, {u'content': u'', u'link': u''}], u'ogr_title': [{u'content': u'\\u6a13\\u4e0a\\u6a13\\u4e0b', u'link': u''}], u'year': [{u'content': u'2014', u'link': u''}], u'write_grades': [{u'content': u'', u'link': u'http://movie.daum.net/moviedetailNetizenPoint.do?movieId=94284'}], u'photo_info': [{u'content': u'4', u'link': u'http://movie.daum.net/moviedb/photoviewer?id=94284#start/PhotoList'}], u'event': [{u'content': u'', u'link': u''}], u'kword': [{u'content': u'\\ub8e8\\uc0c1\\ub8e8\\ud558', u'link': u''}, {u'content': u'\\ub204\\uc0c1\\ub8e8\\ud558', u'link': u''}], u'category': [{u'content': u'\\ub2e8\\ud3b8', u'link': u''}], u'story': [{u'content': u'', u'link': u''}], u'wiki_url': [{u'content': u'', u'link': u''}], u'title': [{u'content': u'\\ub204\\uc0c1\\ub204\\ud558', u'link': u'http://movie.daum.net/moviedb/main?movieId=94284'}], u'res': [{u'content': u'', u'link': u''}], u'expect_grades': [{u'content': u'', u'link': u'http://movie.daum.net/moviedetailNetizenPoint.do?movieId=94284&type=before'}, {u'content': u'0', u'link': u''}], u'video_info': [{u'content': u'', u'link': u''}], u'actor': [{u'content': u'', u'link': u''}], u'homepage': [{u'content': u'', u'link': u''}], u'thumbnail': [{u'content': u'http://t1.search.daumcdn.net/thumb/R438x0.q85/?fname=http%3A%2F%2Ft1.daumcdn.net%2Fmovie%2Fef2e9432b75bec24d9201094adbf1454c2a29314', u'link': u''}], u'nation': [{u'content': u'\\ud64d\\ucf69', u'link': u''}], u'director': [{u'content': u'\\ucc44\\uac00\\ud638', u'link': u'http://movie.daum.net/person/main?personId=415883'}], u'grade3': [{u'content': u'', u'link': u''}], u'grade2': [{u'content': u'', u'link': u''}], u'genre': [{u'content': u'', u'link': u''}], u'grade1': [{u'content': u'', u'link': u''}], u'eng_title': [{u'content': u'Neighbors', u'link': u''}], u'audience': [{u'content': u'', u'link': u''}], u'more_actor': [{u'content': u'', u'link': u'http://movie.daum.net/moviedb/crew?movieId=94284'}], u'trailer': [{u'content': u'', u'link': u''}]}, {u'audience_date': [{u'content': u'', u'link': u''}], u'photo4': {u'content': u'', u'link': u''}, u'photo5': {u'content': u'', u'link': u''}, u'photo2': {u'content': u'', u'link': u''}, u'photo3': {u'content': u'', u'link': u''}, u'grades': [{u'content': u'', u'link': u'http://movie.daum.net/moviedb/grade?movieId=78299&type=netizen'}, {u'content': u'0', u'link': u''}], u'photo1': {u'content': u'', u'link': u''}, u'video': [{u'content': u'', u'link': u''}], u'open_info': [{u'content': u'', u'link': u''}, {u'content': u'', u'link': u''}, {u'content': u'14\\ubd84', u'link': u''}, {u'content': u'', u'link': u''}], u'ogr_title': [{u'content': u'', u'link': u''}], u'year': [{u'content': u'2012', u'link': u''}], u'write_grades': [{u'content': u'', u'link': u'http://movie.daum.net/moviedetailNetizenPoint.do?movieId=78299'}], u'photo_info': [{u'content': u'', u'link': u''}], u'event': [{u'content': u'', u'link': u''}], u'kword': [{u'content': u'', u'link': u''}], u'category': [{u'content': u'\\ub2e8\\ud3b8', u'link': u''}], u'story': [{u'content': u'', u'link': u''}], u'wiki_url': [{u'content': u'', u'link': u''}], u'title': [{u'content': u'\\ub124\\uc774\\ubc84\\uc2a4', u'link': u'http://movie.daum.net/moviedb/main?movieId=78299'}], u'res': [{u'content': u'', u'link': u''}], u'expect_grades': [{u'content': u'', u'link': u'http://movie.daum.net/moviedetailNetizenPoint.do?movieId=78299&type=before'}, {u'content': u'0', u'link': u''}], u'video_info': [{u'content': u'', u'link': u''}], u'actor': [{u'content': u'\\ub370\\uc774\\ube57 \\uc564\\ub354\\uc2a4', u'link': u'http://movie.daum.net/person/main?personId=119568'}, {u'content': u'\\uadf8\\ub808\\uace0\\ub9ac \\ud1b0\\uc2a8', u'link': u'http://movie.daum.net/person/main?personId=346839'}, {u'content': u'\\uce90\\ub354\\ub9b0 \\ub79c\\ub3cc\\ud504', u'link': u'http://movie.daum.net/person/main?personId=107511'}, {u'content': u'\\ub124\\ub4dc \\uc560\\ub364\\uc2a4', u'link': u'http://movie.daum.net/person/main?personId=346833'}, {u'content': u'\\uc800\\uc2a4\\ud2f4 \\uccb4\\ub9ac', u'link': u'http://movie.daum.net/person/main?personId=346832'}], u'homepage': [{u'content': u'', u'link': u''}], u'thumbnail': [{u'content': u'http://t1.search.daumcdn.net/thumb/R438x0.q85/?fname=http%3A%2F%2Fcfile18.uf.daum.net%2Fimage%2F1813064851506288144501', u'link': u''}], u'nation': [{u'content': u'\\ubbf8\\uad6d', u'link': u''}], u'director': [{u'content': u'\\uc800\\uc2a4\\ud2f4 \\uccb4\\ub9ac', u'link': u'http://movie.daum.net/person/main?personId=346832'}], u'grade3': [{u'content': u'', u'link': u''}], u'grade2': [{u'content': u'', u'link': u''}], u'genre': [{u'content': u'\\ucf54\\ubbf8\\ub514', u'link': u''}], u'grade1': [{u'content': u'', u'link': u''}], u'eng_title': [{u'content': u'Neighbors', u'link': u''}], u'audience': [{u'content': u'', u'link': u''}], u'more_actor': [{u'content': u'', u'link': u'http://movie.daum.net/moviedb/crew?movieId=78299'}], u'trailer': [{u'content': u'', u'link': u''}]}, {u'audience_date': [{u'content': u'', u'link': u''}], u'photo4': {u'content': u'', u'link': u''}, u'photo5': {u'content': u'', u'link': u''}, u'photo2': {u'content': u'http://t1.search.daumcdn.net/thumb/R438x0.q85/?fname=http%3A%2F%2Fcfile16.uf.daum.net%2Fimage%2F194DC23F4DEB8F611C4E16', u'link': u'http://movie.daum.net/moviedb/photoviewer?id=65188#696532'}, u'photo3': {u'content': u'http://t1.search.daumcdn.net/thumb/R438x0.q85/?fname=http%3A%2F%2Fcfile118.uf.daum.net%2Fimage%2F114DC23F4DEB8F621DAB4D', u'link': u'http://movie.daum.net/moviedb/photoviewer?id=65188#696533'}, u'grades': [{u'content': u'10', u'link': u'http://movie.daum.net/moviedb/grade?movieId=65188&type=netizen'}, {u'content': u'1', u'link': u''}], u'photo1': {u'content': u'http://t1.search.daumcdn.net/thumb/R438x0.q85/?fname=http%3A%2F%2Fcfile116.uf.daum.net%2Fimage%2F184DC23F4DEB8F611BDE9E', u'link': u'http://movie.daum.net/moviedb/photoviewer?id=65188#696531'}, u'video': [{u'content': u'http://movie.daum-img.net/movie/movie-trailer/93/10/31093/vclip_31093.jpg', u'link': u'http://movie.daum.net/moviedb/video?id=65188&vclipId=31093'}], u'open_info': [{u'content': u'', u'link': u''}, {u'content': u'', u'link': u''}, {u'content': u'8\\ubd84', u'link': u''}, {u'content': u'', u'link': u''}], u'ogr_title': [{u'content': u'', u'link': u''}], u'year': [{u'content': u'2011', u'link': u''}], u'write_grades': [{u'content': u'', u'link': u'http://movie.daum.net/moviedetailNetizenPoint.do?movieId=65188'}], u'photo_info': [{u'content': u'3', u'link': u'http://movie.daum.net/moviedb/photoviewer?id=65188#start/PhotoList'}], u'event': [{u'content': u'', u'link': u''}], u'kword': [{u'content': u'', u'link': u''}], u'category': [{u'content': u'\\ub2e8\\ud3b8', u'link': u''}], u'story': [{u'content': u'\\uc2e4\\uc5f0\\ub2f9\\ud55c \\ud55c \\ub0a8\\uc790.', u'link': u'http://movie.daum.net/moviedb/main?movieId=65188'}], u'wiki_url': [{u'content': u'', u'link': u''}], u'title': [{u'content': u'\\ub0b4 \\uc774\\uc6c3\\ub4e4', u'link': u'http://movie.daum.net/moviedb/main?movieId=65188'}], u'res': [{u'content': u'', u'link': u''}], u'expect_grades': [{u'content': u'', u'link': u'http://movie.daum.net/moviedetailNetizenPoint.do?movieId=65188&type=before'}, {u'content': u'0', u'link': u''}], u'video_info': [{u'content': u'1', u'link': u'http://movie.daum.net/moviedb/video?id=65188'}], u'actor': [{u'content': u'\\uae40\\ud601', u'link': u'http://movie.daum.net/person/main?personId=106085'}, {u'content': u'\\ub098\\ud604\\uc8fc', u'link': u'http://movie.daum.net/person/main?personId=104398'}], u'homepage': [{u'content': u'', u'link': u''}], u'thumbnail': [{u'content': u'http://t1.search.daumcdn.net/thumb/R438x0.q85/?fname=http%3A%2F%2Fcfile16.uf.daum.net%2Fimage%2F194DC23F4DEB8F611C4E16', u'link': u''}], u'nation': [{u'content': u'\\ud55c\\uad6d', u'link': u''}], u'director': [{u'content': u'\\ubc15\\ud76c\\uad8c', u'link': u'http://movie.daum.net/person/main?personId=114154'}], u'grade3': [{u'content': u'', u'link': u''}], u'grade2': [{u'content': u'', u'link': u''}], u'genre': [{u'content': u'\\ub4dc\\ub77c\\ub9c8', u'link': u''}], u'grade1': [{u'content': u'2011.06.09', u'link': u''}], u'eng_title': [{u'content': u'Neighbors', u'link': u''}], u'audience': [{u'content': u'', u'link': u''}], u'more_actor': [{u'content': u'', u'link': u'http://movie.daum.net/moviedb/crew?movieId=65188'}], u'trailer': [{u'content': u'', u'link': u''}]}, {u'audience_date': [{u'content': u'', u'link': u''}], u'photo4': {u'content': u'', u'link': u''}, u'photo5': {u'content': u'', u'link': u''}, u'photo2': {u'content': u'', u'link': u''}, u'photo3': {u'content': u'', u'link': u''}, u'grades': [{u'content': u'', u'link': u'http://movie.daum.net/moviedb/grade?movieId=73855&type=netizen'}, {u'content': u'0', u'link': u''}], u'photo1': {u'content': u'http://t1.search.daumcdn.net/thumb/R438x0.q85/?fname=http%3A%2F%2Fcfile78.uf.daum.net%2Fimage%2F20511C4A5038BAFE0D244E', u'link': u'http://movie.daum.net/moviedb/photoviewer?id=73855#809300'}, u'video': [{u'content': u'', u'link': u''}], u'open_info': [{u'content': u'', u'link': u''}, {u'content': u'', u'link': u''}, {u'content': u'18\\ubd84', u'link': u''}, {u'content': u'', u'link': u''}], u'ogr_title': [{u'content': u'', u'link': u''}], u'year': [{u'content': u'2010', u'link': u''}], u'write_grades': [{u'content': u'', u'link': u'http://movie.daum.net/moviedetailNetizenPoint.do?movieId=73855'}], u'photo_info': [{u'content': u'1', u'link': u'http://movie.daum.net/moviedb/photoviewer?id=73855#start/PhotoList'}], u'event': [{u'content': u'', u'link': u''}], u'kword': [{u'content': u'', u'link': u''}], u'category': [{u'content': u'\\ub2e8\\ud3b8', u'link': u''}], u'story': [{u'content': u'', u'link': u''}], u'wiki_url': [{u'content': u'', u'link': u''}], u'title': [{u'content': u'\\ub124\\uc774\\ubc84\\uc2a4', u'link': u'http://movie.daum.net/moviedb/main?movieId=73855'}], u'res': [{u'content': u'', u'link': u''}], u'expect_grades': [{u'content': u'', u'link': u'http://movie.daum.net/moviedetailNetizenPoint.do?movieId=73855&type=before'}, {u'content': u'0', u'link': u''}], u'video_info': [{u'content': u'', u'link': u''}], u'actor': [{u'content': u'\\uae38 \\ubca8\\ub85c\\uc6b0\\uc2a4', u'link': u'http://movie.daum.net/person/main?personId=18341'}, {u'content': u'\\ub85c\\ub80c \\uce74\\uce20', u'link': u'http://movie.daum.net/person/main?personId=323233'}, {u'content': u'\\ub808\\uc774\\ub0a0\\ub3c4 \\ud30c\\uccb4\\ucf54', u'link': u'http://movie.daum.net/person/main?personId=317111'}, {u'content': u'\\uc564\\ub4dc\\ub958 \\uce74\\ub9c8', u'link': u'http://movie.daum.net/person/main?personId=323234'}, {u'content': u'\\ub77c\\ud0c0\\uc0e4 \\ub85c\\uc988', u'link': u'http://movie.daum.net/person/main?personId=313445'}, {u'content': u'\\uadf8\\ub808\\uc774\\uc5c4 \\uc274\\uc2a4', u'link': u'http://movie.daum.net/person/main?personId=211795'}], u'homepage': [{u'content': u'', u'link': u''}], u'thumbnail': [{u'content': u'http://t1.search.daumcdn.net/thumb/R438x0.q85/?fname=http%3A%2F%2Fcfile78.uf.daum.net%2Fimage%2F20511C4A5038BAFE0D244E', u'link': u''}], u'nation': [{u'content': u'\\ubbf8\\uad6d', u'link': u''}], u'director': [{u'content': u'\\ud2b8\\ub808\\uc774\\uc2dc \\ub80c', u'link': u'http://movie.daum.net/person/main?personId=323229'}], u'grade3': [{u'content': u'', u'link': u''}], u'grade2': [{u'content': u'', u'link': u''}], u'genre': [{u'content': u'\\ucf54\\ubbf8\\ub514', u'link': u''}, {u'content': u'\\ub4dc\\ub77c\\ub9c8', u'link': u''}], u'grade1': [{u'content': u'', u'link': u''}], u'eng_title': [{u'content': u'Neighbors', u'link': u''}], u'audience': [{u'content': u'', u'link': u''}], u'more_actor': [{u'content': u'', u'link': u'http://movie.daum.net/moviedb/crew?movieId=73855'}], u'trailer': [{u'content': u'', u'link': u''}]}, {u'audience_date': [{u'content': u'', u'link': u''}], u'photo4': {u'content': u'', u'link': u''}, u'photo5': {u'content': u'', u'link': u''}, u'photo2': {u'content': u'', u'link': u''}, u'photo3': {u'content': u'', u'link': u''}, u'grades': [{u'content': u'5', u'link': u'http://movie.daum.net/moviedb/grade?movieId=33045&type=netizen'}, {u'content': u'1', u'link': u''}], u'photo1': {u'content': u'', u'link': u''}, u'video': [{u'content': u'', u'link': u''}], u'open_info': [{u'content': u'', u'link': u''}, {u'content': u'\\uccad\\uc18c\\ub144\\uad00\\ub78c\\ubd88\\uac00', u'link': u''}, {u'content': u'94\\ubd84', u'link': u''}, {u'content': u'', u'link': u''}], u'ogr_title': [{u'content': u'', u'link': u''}], u'year': [{u'content': u'1981', u'link': u''}], u'write_grades': [{u'content': u'', u'link': u'http://movie.daum.net/moviedetailNetizenPoint.do?movieId=33045'}], u'photo_info': [{u'content': u'', u'link': u''}], u'event': [{u'content': u'', u'link': u''}], u'kword': [{u'content': u'', u'link': u''}], u'category': [{u'content': u'\\uc77c\\ubc18', u'link': u''}], u'story': [{u'content': u'', u'link': u''}], u'wiki_url': [{u'content': u'', u'link': u''}], u'title': [{u'content': u'\\uc774\\uc6c3 \\uc5ec\\uc778', u'link': u'http://movie.daum.net/moviedb/main?movieId=33045'}], u'res': [{u'content': u'', u'link': u''}], u'expect_grades': [{u'content': u'', u'link': u'http://movie.daum.net/moviedetailNetizenPoint.do?movieId=33045&type=before'}, {u'content': u'0', u'link': u''}], u'video_info': [{u'content': u'', u'link': u''}], u'actor': [{u'content': u'\\uce90\\uc2a4\\ub9b0 \\uc6d4\\ucee4', u'link': u'http://movie.daum.net/person/main?personId=63396'}, {u'content': u'\\uc874 \\ubca8\\ub8e8\\uc2dc', u'link': u'http://movie.daum.net/person/main?personId=17681'}, {u'content': u'\\uce90\\uc2dc \\ubaa8\\ub9ac\\uc544\\ud2f0', u'link': u'http://movie.daum.net/person/main?personId=19091'}, {u'content': u'\\ud300 \\uce74\\uc8fc\\ub9b0\\uc2a4\\ud0a4', u'link': u'http://movie.daum.net/person/main?personId=51876'}, {u'content': u'\\ud2f0\\ub178 \\uc778\\uc0ac\\ub098', u'link': u'http://movie.daum.net/person/main?personId=60428'}, {u'content': u'\\ub304 \\uc560\\ud06c\\ub85c\\uc774\\ub4dc', u'link': u'http://movie.daum.net/person/main?personId=7715'}], u'homepage': [{u'content': u'', u'link': u''}], u'thumbnail': [{u'content': u'http://t1.search.daumcdn.net/thumb/R438x0.q85/?fname=http%3A%2F%2Fcfile76.uf.daum.net%2Fimage%2F115B1B4D50038A26328344', u'link': u''}], u'nation': [{u'content': u'\\ubbf8\\uad6d', u'link': u''}], u'director': [{u'content': u'\\uc874 G. \\uc5d0\\uc774\\ube4c\\ub4dc\\uc2a8', u'link': u'http://movie.daum.net/person/main?personId=48535'}], u'grade3': [{u'content': u'', u'link': u''}], u'grade2': [{u'content': u'', u'link': u''}], u'genre': [{u'content': u'\\ucf54\\ubbf8\\ub514', u'link': u''}], u'grade1': [{u'content': u'2016.03.05', u'link': u''}], u'eng_title': [{u'content': u'Neighbors', u'link': u''}], u'audience': [{u'content': u'', u'link': u''}], u'more_actor': [{u'content': u'', u'link': u'http://movie.daum.net/moviedb/crew?movieId=33045'}], u'trailer': [{u'content': u'', u'link': u''}]}, {u'audience_date': [{u'content': u'', u'link': u''}], u'photo4': {u'content': u'http://t1.search.daumcdn.net/thumb/R438x0.q85/?fname=http%3A%2F%2Fcfile119.uf.daum.net%2Fimage%2F185711484D2FAC4B25DD01', u'link': u'http://movie.daum.net/moviedb/photoviewer?id=59696#661780'}, u'photo5': {u'content': u'http://t1.search.daumcdn.net/thumb/R438x0.q85/?fname=http%3A%2F%2Fcfile18.uf.daum.net%2Fimage%2F251E0C4F527523EE49083A', u'link': u'http://movie.daum.net/moviedb/photoviewer?id=59696#622085'}, u'photo2': {u'content': u'http://t1.search.daumcdn.net/thumb/R438x0.q85/?fname=http%3A%2F%2Fcfile77.uf.daum.net%2Fimage%2F135711484D2FAC4E27D71E', u'link': u'http://movie.daum.net/moviedb/photoviewer?id=59696#661782'}, u'photo3': {u'content': u'http://t1.search.daumcdn.net/thumb/R438x0.q85/?fname=http%3A%2F%2Fcfile79.uf.daum.net%2Fimage%2F125711484D2FAC4E26708A', u'link': u'http://movie.daum.net/moviedb/photoviewer?id=59696#661781'}, u'grades': [{u'content': u'5.5', u'link': u'http://movie.daum.net/moviedb/grade?movieId=59696&type=netizen'}, {u'content': u'2', u'link': u''}], u'photo1': {u'content': u'http://t1.search.daumcdn.net/thumb/R438x0.q85/?fname=http%3A%2F%2Fcfile77.uf.daum.net%2Fimage%2F2164B94A527524082E45D7', u'link': u'http://movie.daum.net/moviedb/photoviewer?id=59696#915079'}, u'video': [{u'content': u'', u'link': u''}], u'open_info': [{u'content': u'', u'link': u''}, {u'content': u'', u'link': u''}, {u'content': u'23\\ubd84', u'link': u''}, {u'content': u'', u'link': u''}], u'ogr_title': [{u'content': u'', u'link': u''}], u'year': [{u'content': u'1920', u'link': u''}], u'write_grades': [{u'content': u'', u'link': u'http://movie.daum.net/moviedetailNetizenPoint.do?movieId=59696'}], u'photo_info': [{u'content': u'5', u'link': u'http://movie.daum.net/moviedb/photoviewer?id=59696#start/PhotoList'}], u'event': [{u'content': u'', u'link': u''}], u'kword': [{u'content': u'', u'link': u''}], u'category': [{u'content': u'\\ub2e8\\ud3b8', u'link': u''}], u'story': [{u'content': u'\\ub4b7\\ub9c8\\ub2f9\\uc758 \\ub192\\uc740 \\uc6b8\\ud0c0\\ub9ac\\uc5d0 \\uc758\\ud574 \\ub5a8\\uc5b4\\uc838\\uc788\\ub294 \\ud55c \\uc9c0\\ubd95 \\ub450 \\uc5f0\\uc778. \\ubc84\\uc2a4\\ud130\\ub294 \\uc0ac\\ub791\\ud558\\ub294 \\uc5f0\\uc778\\uc5d0\\uac8c \\uac00\\uae30 \\uc704\\ud574 \\ube68\\ub7ab\\uc904\\uacfc \\uc804\\uc2e0\\uc8fc\\ub97c \\uac74\\ub108\\uc57c\\ub9cc \\ud55c\\ub2e4. (2013\\ub144 \\uc81c11\\ud68c \\uc544\\uc2dc\\uc544\\ub098\\uad6d\\uc81c\\ub2e8\\ud3b8\\uc601\\ud654\\uc81c)', u'link': u'http://movie.daum.net/moviedb/main?movieId=59696'}], u'wiki_url': [{u'content': u'', u'link': u''}], u'title': [{u'content': u'\\uc774\\uc6c3', u'link': u'http://movie.daum.net/moviedb/main?movieId=59696'}], u'res': [{u'content': u'', u'link': u''}], u'expect_grades': [{u'content': u'', u'link': u'http://movie.daum.net/moviedetailNetizenPoint.do?movieId=59696&type=before'}, {u'content': u'0', u'link': u''}], u'video_info': [{u'content': u'', u'link': u''}], u'actor': [{u'content': u'\\ubc84\\uc2a4\\ud130 \\ud0a4\\ud2bc', u'link': u'http://movie.daum.net/person/main?personId=44766'}, {u'content': u'\\ubc84\\uc9c0\\ub2c8\\uc544 \\ud3ed\\uc2a4', u'link': u'http://movie.daum.net/person/main?personId=124633'}, {u'content': u'\\uc870 \\ub85c\\ubc84\\uce20', u'link': u'http://movie.daum.net/person/main?personId=62400'}, {u'content': u'\\uc870 \\ud0a4\\ud2bc', u'link': u'http://movie.daum.net/person/main?personId=71864'}, {u'content': u'\\uc5d0\\ub4dc\\uc6cc\\ub4dc F.  \\ud074\\ub77c\\uc778', u'link': u'http://movie.daum.net/person/main?personId=69036'}], u'homepage': [{u'content': u'', u'link': u''}], u'thumbnail': [{u'content': u'http://t1.search.daumcdn.net/thumb/R438x0.q85/?fname=http%3A%2F%2Fcfile79.uf.daum.net%2Fimage%2F194FEA304C6D1998163460', u'link': u''}], u'nation': [{u'content': u'\\ubbf8\\uad6d', u'link': u''}], u'director': [{u'content': u'\\uc5d0\\ub4dc\\uc6cc\\ub4dc F.  \\ud074\\ub77c\\uc778', u'link': u'http://movie.daum.net/person/main?personId=69036'}, {u'content': u'\\ubc84\\uc2a4\\ud130 \\ud0a4\\ud2bc', u'link': u'http://movie.daum.net/person/main?personId=44766'}], u'grade3': [{u'content': u'', u'link': u''}], u'grade2': [{u'content': u'2011.05.23', u'link': u''}], u'genre': [{u'content': u'\\ucf54\\ubbf8\\ub514', u'link': u''}, {u'content': u'\\ub85c\\ub9e8\\uc2a4/\\uba5c\\ub85c', u'link': u''}], u'grade1': [{u'content': u'2015.09.09', u'link': u''}], u'eng_title': [{u'content': u'Neighbors', u'link': u''}], u'audience': [{u'content': u'', u'link': u''}], u'more_actor': [{u'content': u'', u'link': u'http://movie.daum.net/moviedb/crew?movieId=59696'}], u'trailer': [{u'content': u'', u'link': u''}]}], u'title': u'Search SCC Open API', u'q': u'neighbors', u'totalCount': 6, u'result': 10, u'debug': {}, u'pk': u'', u'page': 1}}\n"
     ]
    }
   ],
   "source": [
    "res = load_data_daum('Neighbors')\n",
    "data = json.loads(res.content)\n",
    "print(data)"
   ]
  },
  {
   "cell_type": "code",
   "execution_count": null,
   "metadata": {
    "collapsed": true
   },
   "outputs": [],
   "source": []
  },
  {
   "cell_type": "code",
   "execution_count": 39,
   "metadata": {
    "collapsed": false
   },
   "outputs": [
    {
     "name": "stdout",
     "output_type": "stream",
     "text": [
      "{\"channel\":{\"result\":10,\"title\":\"Search SCC Open API\",\"page\":1,\"totalCount\":4,\"q\":\"lucy\",\"item\":[{\"genre\":[{\"content\":\"액션\",\"link\":\"\"},{\"content\":\"SF\",\"link\":\"\"},{\"content\":\"스릴러\",\"link\":\"\"}],\"res\":[{\"content\":\"\",\"link\":\"\"}],\"trailer\":[{\"content\":\"http://movie.daum-img.net/movie/movie-trailer/35/53/45335/trailer_45335.jpg\",\"link\":\"http://movie.daum.net/moviedb/video?id=81452&vclipId=45335\"}],\"photo1\":{\"content\":\"http://t1.search.daumcdn.net/thumb/R438x0.q85/?fname=http%3A%2F%2Fcfile78.uf.daum.net%2Fimage%2F222D934F53E25A7A1CFA5F\",\"link\":\"http://movie.daum.net/moviedb/photoviewer?id=81452#946162\"},\"actor\":[{\"content\":\"스칼렛 요한슨\",\"link\":\"http://movie.daum.net/person/main?personId=11739\"},{\"content\":\"모건 프리먼\",\"link\":\"http://movie.daum.net/person/main?personId=828\"},{\"content\":\"최민식\",\"link\":\"http://movie.daum.net/person/main?personId=562\"},{\"content\":\"아므르 웨이크드\",\"link\":\"http://movie.daum.net/person/main?personId=238317\"},{\"content\":\"줄리안 린드-터트\",\"link\":\"http://movie.daum.net/person/main?personId=17964\"},{\"content\":\"요한 필리프 아스베크\",\"link\":\"http://movie.daum.net/person/main?personId=208730\"},{\"content\":\"애널리 팁턴\",\"link\":\"http://movie.daum.net/person/main?personId=257020\"}],\"story\":[{\"content\":\"10%, 인간의 평균 뇌사용량\\r\\n24%, 신체의 완벽한 통제  \\r\\n40%, 모든 상황의 제어 가능\\r\\n62%, 타인의 행동을 컨트롤\\r\\n100%, 한계를 뛰어넘는 액션의 진화가 시작된다!\\r\\n\\r\\n평범한 삶을 살던 여자 루시(스칼렛 요한슨)는 어느 날 지하세계에서 극악무도하기로 유명한 미스터 장(최민식)에게 납치되어, 몸 속에 강력한 합성 약물을 넣은 채 강제로 운반하게 된다. 다른 운반책들과 같이 끌려가던 루시는 갑작스런 외부의 충격으로 인해 몸 속 약물이 체내로 퍼지게 되면서, 그녀 안의 모든 감각이 깨어나기 시작하는데…\",\"link\":\"http://movie.daum.net/moviedb/main?movieId=81452\"}],\"write_grades\":[{\"content\":\"\",\"link\":\"http://movie.daum.net/moviedetailNetizenPoint.do?movieId=81452\"}],\"title\":[{\"content\":\"루시\",\"link\":\"http://movie.daum.net/moviedb/main?movieId=81452\"}],\"audience_date\":[{\"content\":\"2014-10-08\",\"link\":\"\"}],\"video_info\":[{\"content\":\"8\",\"link\":\"http://movie.daum.net/moviedb/video?id=81452\"}],\"event\":[{\"content\":\"\",\"link\":\"\"}],\"more_actor\":[{\"content\":\"\",\"link\":\"http://movie.daum.net/moviedb/crew?movieId=81452\"}],\"photo_info\":[{\"content\":\"33\",\"link\":\"http://movie.daum.net/moviedb/photoviewer?id=81452#start/PhotoList\"}],\"year\":[{\"content\":\"2014\",\"link\":\"\"}],\"ogr_title\":[{\"content\":\"\",\"link\":\"\"}],\"video\":[{\"content\":\"http://movie.daum-img.net/movie/movie-trailer/71/44/44471/vclip_44471.jpg\",\"link\":\"http://movie.daum.net/moviedb/video?id=81452&vclipId=44471\"},{\"content\":\"http://movie.daum-img.net/movie/movie-trailer/16/42/44216/vclip_44216.jpg\",\"link\":\"http://movie.daum.net/moviedb/video?id=81452&vclipId=44216\"},{\"content\":\"http://movie.daum-img.net/movie/movie-trailer/29/54/45429/trailer_45429.jpg\",\"link\":\"http://movie.daum.net/moviedb/video?id=81452&vclipId=45429\"},{\"content\":\"http://movie.daum-img.net/movie/movie-trailer/85/55/45585/trailer_45585.jpg\",\"link\":\"http://movie.daum.net/moviedb/video?id=81452&vclipId=45585\"}],\"kword\":[{\"content\":\"\",\"link\":\"\"}],\"open_info\":[{\"content\":\"2014.09.03\",\"link\":\"\"},{\"content\":\"청소년관람불가\",\"link\":\"\"},{\"content\":\"90분\",\"link\":\"\"},{\"content\":\"\",\"link\":\"\"}],\"audience\":[{\"content\":\"1974893\",\"link\":\"\"}],\"director\":[{\"content\":\"뤽 베송\",\"link\":\"http://movie.daum.net/person/main?personId=586\"}],\"nation\":[{\"content\":\"프랑스\",\"link\":\"\"},{\"content\":\"미국\",\"link\":\"\"}],\"homepage\":[{\"content\":\"\",\"link\":\"http://www.facebook.com/LucyTheMovie\"}],\"category\":[{\"content\":\"일반\",\"link\":\"\"}],\"thumbnail\":[{\"content\":\"http://t1.search.daumcdn.net/thumb/R438x0.q85/?fname=http%3A%2F%2Fcfile79.uf.daum.net%2Fimage%2F2677344953F6E59716A843\",\"link\":\"\"}],\"eng_title\":[{\"content\":\"Lucy\",\"link\":\"\"}],\"grade3\":[{\"content\":\"2017.02.18\",\"link\":\"\"}],\"photo2\":{\"content\":\"http://t1.search.daumcdn.net/thumb/R438x0.q85/?fname=http%3A%2F%2Fcfile78.uf.daum.net%2Fimage%2F215A014A53E25A971E7CA0\",\"link\":\"http://movie.daum.net/moviedb/photoviewer?id=81452#946161\"},\"grades\":[{\"content\":\"6.7\",\"link\":\"http://movie.daum.net/moviedb/grade?movieId=81452&type=netizen\"},{\"content\":\"1873\",\"link\":\"\"}],\"expect_grades\":[{\"content\":\"\",\"link\":\"http://movie.daum.net/moviedetailNetizenPoint.do?movieId=81452&type=before\"},{\"content\":\"0\",\"link\":\"\"}],\"photo3\":{\"content\":\"http://t1.search.daumcdn.net/thumb/R438x0.q85/?fname=http%3A%2F%2Fcfile76.uf.daum.net%2Fimage%2F261C34505374132526820A\",\"link\":\"http://movie.daum.net/moviedb/photoviewer?id=81452#946163\"},\"photo4\":{\"content\":\"http://t1.search.daumcdn.net/thumb/R438x0.q85/?fname=http%3A%2F%2Fcfile119.uf.daum.net%2Fimage%2F247AC14E53E25ACC0623F2\",\"link\":\"http://movie.daum.net/moviedb/photoviewer?id=81452#971111\"},\"grade1\":[{\"content\":\"2017.02.26\",\"link\":\"\"}],\"wiki_url\":[{\"content\":\"http://100.daum.net/encyclopedia/view.do?docid=10X1079448\",\"link\":\"\"}],\"photo5\":{\"content\":\"http://t1.search.daumcdn.net/thumb/R438x0.q85/?fname=http%3A%2F%2Fcfile76.uf.daum.net%2Fimage%2F217AC14E53E25ACE08D377\",\"link\":\"http://movie.daum.net/moviedb/photoviewer?id=81452#971113\"},\"grade2\":[{\"content\":\"2017.02.23\",\"link\":\"\"}]},{\"genre\":[{\"content\":\"애니메이션\",\"link\":\"\"}],\"res\":[{\"content\":\"\",\"link\":\"\"}],\"trailer\":[{\"content\":\"\",\"link\":\"\"}],\"photo1\":{\"content\":\"http://t1.search.daumcdn.net/thumb/R438x0.q85/?fname=http%3A%2F%2Ft1.daumcdn.net%2Fmovie%2F8ac6d7a7523722c7cbb15479f26568771dbd4be5\",\"link\":\"http://movie.daum.net/moviedb/photoviewer?id=94296#1027337\"},\"actor\":[{\"content\":\"\",\"link\":\"\"}],\"story\":[{\"content\":\"\",\"link\":\"\"}],\"write_grades\":[{\"content\":\"\",\"link\":\"http://movie.daum.net/moviedetailNetizenPoint.do?movieId=94296\"}],\"title\":[{\"content\":\"루시\",\"link\":\"http://movie.daum.net/moviedb/main?movieId=94296\"}],\"audience_date\":[{\"content\":\"\",\"link\":\"\"}],\"video_info\":[{\"content\":\"\",\"link\":\"\"}],\"event\":[{\"content\":\"\",\"link\":\"\"}],\"more_actor\":[{\"content\":\"\",\"link\":\"http://movie.daum.net/moviedb/crew?movieId=94296\"}],\"photo_info\":[{\"content\":\"1\",\"link\":\"http://movie.daum.net/moviedb/photoviewer?id=94296#start/PhotoList\"}],\"year\":[{\"content\":\"2015\",\"link\":\"\"}],\"ogr_title\":[{\"content\":\"\",\"link\":\"\"}],\"video\":[{\"content\":\"\",\"link\":\"\"}],\"kword\":[{\"content\":\"\",\"link\":\"\"}],\"open_info\":[{\"content\":\"\",\"link\":\"\"},{\"content\":\"\",\"link\":\"\"},{\"content\":\"10분\",\"link\":\"\"},{\"content\":\"\",\"link\":\"\"}],\"audience\":[{\"content\":\"\",\"link\":\"\"}],\"director\":[{\"content\":\"에베르트 데 베이에\",\"link\":\"http://movie.daum.net/person/main?personId=260053\"}],\"nation\":[{\"content\":\"네덜란드\",\"link\":\"\"}],\"homepage\":[{\"content\":\"\",\"link\":\"\"}],\"category\":[{\"content\":\"단편\",\"link\":\"\"}],\"thumbnail\":[{\"content\":\"http://t1.search.daumcdn.net/thumb/R438x0.q85/?fname=http%3A%2F%2Ft1.daumcdn.net%2Fmovie%2F48a50564d3415c1d7dc121b0f1bfb1053c5b1e50\",\"link\":\"\"}],\"eng_title\":[{\"content\":\"Lucy\",\"link\":\"\"}],\"grade3\":[{\"content\":\"\",\"link\":\"\"}],\"photo2\":{\"content\":\"\",\"link\":\"\"},\"grades\":[{\"content\":\"\",\"link\":\"http://movie.daum.net/moviedb/grade?movieId=94296&type=netizen\"},{\"content\":\"0\",\"link\":\"\"}],\"expect_grades\":[{\"content\":\"\",\"link\":\"http://movie.daum.net/moviedetailNetizenPoint.do?movieId=94296&type=before\"},{\"content\":\"0\",\"link\":\"\"}],\"photo3\":{\"content\":\"\",\"link\":\"\"},\"photo4\":{\"content\":\"\",\"link\":\"\"},\"grade1\":[{\"content\":\"\",\"link\":\"\"}],\"wiki_url\":[{\"content\":\"\",\"link\":\"\"}],\"photo5\":{\"content\":\"\",\"link\":\"\"},\"grade2\":[{\"content\":\"\",\"link\":\"\"}]},{\"genre\":[{\"content\":\"다큐멘터리\",\"link\":\"\"},{\"content\":\"애니메이션\",\"link\":\"\"}],\"res\":[{\"content\":\"\",\"link\":\"\"}],\"trailer\":[{\"content\":\"\",\"link\":\"\"}],\"photo1\":{\"content\":\"http://t1.search.daumcdn.net/thumb/R438x0.q85/?fname=http%3A%2F%2Fcfile77.uf.daum.net%2Fimage%2F27765B47549571222847D2\",\"link\":\"http://movie.daum.net/moviedb/photoviewer?id=91077#996989\"},\"actor\":[{\"content\":\"\",\"link\":\"\"}],\"story\":[{\"content\":\"\",\"link\":\"\"}],\"write_grades\":[{\"content\":\"\",\"link\":\"http://movie.daum.net/moviedetailNetizenPoint.do?movieId=91077\"}],\"title\":[{\"content\":\"루시\",\"link\":\"http://movie.daum.net/moviedb/main?movieId=91077\"}],\"audience_date\":[{\"content\":\"\",\"link\":\"\"}],\"video_info\":[{\"content\":\"\",\"link\":\"\"}],\"event\":[{\"content\":\"\",\"link\":\"\"}],\"more_actor\":[{\"content\":\"\",\"link\":\"http://movie.daum.net/moviedb/crew?movieId=91077\"}],\"photo_info\":[{\"content\":\"2\",\"link\":\"http://movie.daum.net/moviedb/photoviewer?id=91077#start/PhotoList\"}],\"year\":[{\"content\":\"2014\",\"link\":\"\"}],\"ogr_title\":[{\"content\":\"\",\"link\":\"\"}],\"video\":[{\"content\":\"\",\"link\":\"\"}],\"kword\":[{\"content\":\"\",\"link\":\"\"}],\"open_info\":[{\"content\":\"\",\"link\":\"\"},{\"content\":\"\",\"link\":\"\"},{\"content\":\"6분\",\"link\":\"\"},{\"content\":\"\",\"link\":\"\"}],\"audience\":[{\"content\":\"\",\"link\":\"\"}],\"director\":[{\"content\":\"조 루벡\",\"link\":\"http://movie.daum.net/person/main?personId=400749\"}],\"nation\":[{\"content\":\"미국\",\"link\":\"\"}],\"homepage\":[{\"content\":\"\",\"link\":\"\"}],\"category\":[{\"content\":\"단편\",\"link\":\"\"}],\"thumbnail\":[{\"content\":\"http://t1.search.daumcdn.net/thumb/R438x0.q85/?fname=http%3A%2F%2Fcfile117.uf.daum.net%2Fimage%2F21765B47549571222971E4\",\"link\":\"\"}],\"eng_title\":[{\"content\":\"Lucy\",\"link\":\"\"}],\"grade3\":[{\"content\":\"\",\"link\":\"\"}],\"photo2\":{\"content\":\"http://t1.search.daumcdn.net/thumb/R438x0.q85/?fname=http%3A%2F%2Fcfile77.uf.daum.net%2Fimage%2F23765B47549571232A113C\",\"link\":\"http://movie.daum.net/moviedb/photoviewer?id=91077#996991\"},\"grades\":[{\"content\":\"\",\"link\":\"http://movie.daum.net/moviedb/grade?movieId=91077&type=netizen\"},{\"content\":\"0\",\"link\":\"\"}],\"expect_grades\":[{\"content\":\"\",\"link\":\"http://movie.daum.net/moviedetailNetizenPoint.do?movieId=91077&type=before\"},{\"content\":\"0\",\"link\":\"\"}],\"photo3\":{\"content\":\"\",\"link\":\"\"},\"photo4\":{\"content\":\"\",\"link\":\"\"},\"grade1\":[{\"content\":\"\",\"link\":\"\"}],\"wiki_url\":[{\"content\":\"\",\"link\":\"\"}],\"photo5\":{\"content\":\"\",\"link\":\"\"},\"grade2\":[{\"content\":\"\",\"link\":\"\"}]},{\"genre\":[{\"content\":\"드라마\",\"link\":\"\"},{\"content\":\"가족\",\"link\":\"\"}],\"res\":[{\"content\":\"\",\"link\":\"\"}],\"trailer\":[{\"content\":\"\",\"link\":\"\"}],\"photo1\":{\"content\":\"http://t1.search.daumcdn.net/thumb/R438x0.q85/?fname=http%3A%2F%2Fcfile78.uf.daum.net%2Fimage%2F117FE234515FAEE0045437\",\"link\":\"http://movie.daum.net/moviedb/photoviewer?id=78514#865358\"},\"actor\":[{\"content\":\"카롤린 아미게\",\"link\":\"http://movie.daum.net/person/main?personId=348069\"},{\"content\":\"아담 그래블\",\"link\":\"http://movie.daum.net/person/main?personId=348070\"},{\"content\":\"케라 맥컨\",\"link\":\"http://movie.daum.net/person/main?personId=348071\"}],\"story\":[{\"content\":\"\",\"link\":\"\"}],\"write_grades\":[{\"content\":\"\",\"link\":\"http://movie.daum.net/moviedetailNetizenPoint.do?movieId=78514\"}],\"title\":[{\"content\":\"루시\",\"link\":\"http://movie.daum.net/moviedb/main?movieId=78514\"}],\"audience_date\":[{\"content\":\"\",\"link\":\"\"}],\"video_info\":[{\"content\":\"\",\"link\":\"\"}],\"event\":[{\"content\":\"\",\"link\":\"\"}],\"more_actor\":[{\"content\":\"\",\"link\":\"http://movie.daum.net/moviedb/crew?movieId=78514\"}],\"photo_info\":[{\"content\":\"5\",\"link\":\"http://movie.daum.net/moviedb/photoviewer?id=78514#start/PhotoList\"}],\"year\":[{\"content\":\"2012\",\"link\":\"\"}],\"ogr_title\":[{\"content\":\"\",\"link\":\"\"}],\"video\":[{\"content\":\"\",\"link\":\"\"}],\"kword\":[{\"content\":\"\",\"link\":\"\"}],\"open_info\":[{\"content\":\"\",\"link\":\"\"},{\"content\":\"\",\"link\":\"\"},{\"content\":\"11분\",\"link\":\"\"},{\"content\":\"\",\"link\":\"\"}],\"audience\":[{\"content\":\"\",\"link\":\"\"}],\"director\":[{\"content\":\"리비 블러드\",\"link\":\"http://movie.daum.net/person/main?personId=348066\"},{\"content\":\"알리시아 블러드\",\"link\":\"http://movie.daum.net/person/main?personId=348067\"}],\"nation\":[{\"content\":\"미국\",\"link\":\"\"}],\"homepage\":[{\"content\":\"\",\"link\":\"\"}],\"category\":[{\"content\":\"단편\",\"link\":\"\"}],\"thumbnail\":[{\"content\":\"http://t1.search.daumcdn.net/thumb/R438x0.q85/?fname=http%3A%2F%2Fcfile118.uf.daum.net%2Fimage%2F121CD339515FA90D0FBBD4\",\"link\":\"\"}],\"eng_title\":[{\"content\":\"Lucy\",\"link\":\"\"}],\"grade3\":[{\"content\":\"\",\"link\":\"\"}],\"photo2\":{\"content\":\"http://t1.search.daumcdn.net/thumb/R438x0.q85/?fname=http%3A%2F%2Fcfile116.uf.daum.net%2Fimage%2F127FE234515FAEE005EBF6\",\"link\":\"http://movie.daum.net/moviedb/photoviewer?id=78514#865359\"},\"grades\":[{\"content\":\"\",\"link\":\"http://movie.daum.net/moviedb/grade?movieId=78514&type=netizen\"},{\"content\":\"0\",\"link\":\"\"}],\"expect_grades\":[{\"content\":\"\",\"link\":\"http://movie.daum.net/moviedetailNetizenPoint.do?movieId=78514&type=before\"},{\"content\":\"0\",\"link\":\"\"}],\"photo3\":{\"content\":\"http://t1.search.daumcdn.net/thumb/R438x0.q85/?fname=http%3A%2F%2Fcfile79.uf.daum.net%2Fimage%2F02307738515FA8E3212F00\",\"link\":\"http://movie.daum.net/moviedb/photoviewer?id=78514#865350\"},\"photo4\":{\"content\":\"http://t1.search.daumcdn.net/thumb/R438x0.q85/?fname=http%3A%2F%2Fcfile119.uf.daum.net%2Fimage%2F11307738515FA8E323B2F7\",\"link\":\"http://movie.daum.net/moviedb/photoviewer?id=78514#865352\"},\"grade1\":[{\"content\":\"\",\"link\":\"\"}],\"wiki_url\":[{\"content\":\"\",\"link\":\"\"}],\"photo5\":{\"content\":\"http://t1.search.daumcdn.net/thumb/R438x0.q85/?fname=http%3A%2F%2Fcfile117.uf.daum.net%2Fimage%2F12307738515FA8E3244DDF\",\"link\":\"http://movie.daum.net/moviedb/photoviewer?id=78514#865353\"},\"grade2\":[{\"content\":\"\",\"link\":\"\"}]}],\"debug\":{},\"pk\":\"\"}}\n"
     ]
    }
   ],
   "source": [
    "print(res.content)"
   ]
  },
  {
   "cell_type": "code",
   "execution_count": null,
   "metadata": {
    "collapsed": true
   },
   "outputs": [],
   "source": []
  },
  {
   "cell_type": "code",
   "execution_count": null,
   "metadata": {
    "collapsed": true
   },
   "outputs": [],
   "source": [
    "for name in dbs:\n",
    "    tmp = dbs[name]\n",
    "    M_id = tmp['Webpage']\n",
    "    res = Load_Data_mojo_movie_intl(M_id)\n",
    "    content = res.content\n",
    "    soup = BeautifulSoup(content,'html.parser')\n",
    "    \n",
    "    table = soup.find('table', attrs = { \"style\" : \"padding-top: 5px;\"})\n",
    "    tds = table.find_all('td')\n",
    "    #<table border=\"0\" cellspacing=\"1\" cellpadding=\"3\">\n",
    "    table2 = soup.find('table', attrs = { \"border\" : \"0\", \"cellspacing\" : \"1\", \"cellpadding\" : \"3\"})\n",
    "    tds2 = table2.find_all('td')\n",
    "    \n",
    "    for n, feature in enumerate(tds2):\n",
    "        if feature.get_text() == 'South Korea':\n",
    "            dbs[name].update({\n",
    "                'rating_usa' : tds[8].b.get_text(),\n",
    "                'release_usa' : tds[5].b.get_text(),\n",
    "                'realease_kor' : tds2[n+2].get_text(),\n",
    "                'gross_kor' : tds2[n+5].get_text(),\n",
    "                'budget' : tds[9].b.get_text()\n",
    "            })\n",
    "            break\n",
    "    else:\n",
    "        try:\n",
    "            budget = tds[9].b.get_text()\n",
    "        except:\n",
    "            budget = 'N/A'\n",
    "        dbs[name].update({\n",
    "            'rating_usa' : tds[8].b.get_text(),\n",
    "            'release_usa' : tds[5].b.get_text(),\n",
    "            'budget' : budget\n",
    "        })\n",
    "    time.sleep(1)\n",
    "    print dbs[name]\n",
    "    i += 1\n",
    "    if i == 10 :break"
   ]
  },
  {
   "cell_type": "code",
   "execution_count": 3,
   "metadata": {
    "collapsed": false
   },
   "outputs": [
    {
     "name": "stdout",
     "output_type": "stream",
     "text": [
      "233\n"
     ]
    }
   ],
   "source": [
    "#mojo -> 시리즈, 제작비, 감독, 배우\n",
    "for movie in movie_data:\n",
    "    a\n"
   ]
  },
  {
   "cell_type": "code",
   "execution_count": 2,
   "metadata": {
    "collapsed": true
   },
   "outputs": [],
   "source": []
  }
 ],
 "metadata": {
  "kernelspec": {
   "display_name": "Python 2",
   "language": "python",
   "name": "python2"
  },
  "language_info": {
   "codemirror_mode": {
    "name": "ipython",
    "version": 2
   },
   "file_extension": ".py",
   "mimetype": "text/x-python",
   "name": "python",
   "nbconvert_exporter": "python",
   "pygments_lexer": "ipython2",
   "version": "2.7.13"
  }
 },
 "nbformat": 4,
 "nbformat_minor": 2
}
