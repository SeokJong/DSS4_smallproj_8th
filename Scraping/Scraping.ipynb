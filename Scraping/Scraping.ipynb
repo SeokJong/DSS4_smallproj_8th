{
 "cells": [
  {
   "cell_type": "code",
   "execution_count": 2,
   "metadata": {
    "collapsed": true
   },
   "outputs": [],
   "source": [
    "import requests\n",
    "from bs4 import BeautifulSoup\n",
    "import pymongo\n",
    "import time\n",
    "import pandas as pd\n",
    "import numpy as np\n",
    "import matplotlib.pyplot as plt\n",
    "import json\n",
    "%matplotlib inline"
   ]
  },
  {
   "cell_type": "code",
   "execution_count": 1,
   "metadata": {
    "collapsed": true
   },
   "outputs": [],
   "source": [
    "import json\n",
    "f = open(\"movie.json\", \"r\")\n",
    "movie_data = json.load(f)\n",
    "f.close()\n",
    "movie_data = movie_data[466:699]"
   ]
  },
  {
   "cell_type": "code",
   "execution_count": null,
   "metadata": {
    "collapsed": true
   },
   "outputs": [],
   "source": [
    "class Database(object):\n",
    "    def __init__(self):\n",
    "        self.connection = pymongo.MongoClient(\"localhost\", 27017)\n",
    "        self.db = self.connection[\"DSS4_SmallP\"]\n",
    "        self.collection = self.db[\"Movie_mojo\"]\n",
    "        \n",
    "def Load_Data_mojo_yearly_dom(page,year):\n",
    "    Mojo_url = u'http://www.boxofficemojo.com/'\\\n",
    "        u'yearly/chart/?page={}&view=releasedate&view2=domestic&yr={}&p=.htm'.format(page,year)\n",
    "    return requests.get(Mojo_url)\n",
    "def Load_Data_mojo_yearly_intl(year):\n",
    "    Mojo_url = u'http://www.boxofficemojo.com/'\\\n",
    "        u'yearly/chart/?view2=worldwide&yr={}&p=.htm'.format(year)\n",
    "    return requests.get(Mojo_url)\n",
    "\n",
    "def Load_Data_mojo_movie_intl(M_id):\n",
    "    Mojo_url = u'http://www.boxofficemojo.com{}&page=intl'.format(M_id)\n",
    "    return requests.get(Mojo_url)\n"
   ]
  },
  {
   "cell_type": "code",
   "execution_count": 3,
   "metadata": {
    "collapsed": false
   },
   "outputs": [
    {
     "name": "stdout",
     "output_type": "stream",
     "text": [
      "233\n"
     ]
    }
   ],
   "source": [
    "for i in movie_data:\n",
    "    pri"
   ]
  },
  {
   "cell_type": "code",
   "execution_count": 2,
   "metadata": {
    "collapsed": true
   },
   "outputs": [],
   "source": []
  }
 ],
 "metadata": {
  "kernelspec": {
   "display_name": "Python 2",
   "language": "python",
   "name": "python2"
  },
  "language_info": {
   "codemirror_mode": {
    "name": "ipython",
    "version": 2
   },
   "file_extension": ".py",
   "mimetype": "text/x-python",
   "name": "python",
   "nbconvert_exporter": "python",
   "pygments_lexer": "ipython2",
   "version": "2.7.12"
  }
 },
 "nbformat": 4,
 "nbformat_minor": 2
}
