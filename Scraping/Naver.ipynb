{
 "cells": [
  {
   "cell_type": "code",
   "execution_count": 1,
   "metadata": {
    "collapsed": false,
    "deletable": true,
    "editable": true
   },
   "outputs": [],
   "source": [
    "import requests\n",
    "from urllib import pathname2url\n",
    "from bs4 import BeautifulSoup\n",
    "import json"
   ]
  },
  {
   "cell_type": "code",
   "execution_count": 1,
   "metadata": {
    "collapsed": false,
    "deletable": true,
    "editable": true
   },
   "outputs": [],
   "source": [
    "def load_json():\n",
    "    fp = open(\"movie.json\",\"r\")\n",
    "    res = json.load(fp)\n",
    "    return res\n",
    "def load_apikeys():\n",
    "    fp = open(\"private.json\",\"r\")\n",
    "    res = json.load(fp)\n",
    "    return res\n",
    "\n",
    "#네이버 api 영화검색, Mname과 release_kor가 있는 dict를 찾아서 네이버 검색결과 반환\n",
    "def search_naver_movie(imov):\n",
    "    keyword = imov['Mname']\n",
    "    encText = pathname2url(keyword)\n",
    "    url = \"https://openapi.naver.com/v1/search/movie?query=\" + encText # json 결과\n",
    "#    print url\n",
    "    headers = {}\n",
    "    headers['X-Naver-Client-Id'] = load_apikeys()[\"naver_id\"]\n",
    "    headers['X-Naver-Client-Secret'] = load_apikeys()[\"naver_pass\"]\n",
    "    res = requests.get(url, headers = headers)\n",
    "    rescode = res.status_code\n",
    "    result = json.loads(res.content)\n",
    "    if result['total'] == 0:\n",
    "        return 'None'\n",
    "    elif result['total'] == 1:\n",
    "        return result['items']\n",
    "    else :\n",
    "        match = []\n",
    "        for i in result['items']:\n",
    "            if i['subtitle'] == \"<b>{}</b>\".format(imov['Mname']) :\n",
    "                match.append(i)\n",
    "        if len(match) == 0:\n",
    "            for i in result['items']:\n",
    "                if i['pubDate'][-2:] == imov['realease_kor'][-2:] :\n",
    "                    match.append(i)\n",
    "                #print i['pubDate'], imov['realease_kor'][-2:]\n",
    "        elif len(match) != 1:\n",
    "            for i in match:\n",
    "                if i['pubDate'][-2:] == imov['realease_kor'][-2:] :\n",
    "                    match = [i]\n",
    "                    break\n",
    "        return match[0]\n",
    "\n",
    "\n",
    "\n",
    "#url 페이지 가져오기\n",
    "def get_naver_movie(url):\n",
    "    res = requests.get(url)\n",
    "    soup = BeautifulSoup(res.content, \"html.parser\")\n",
    "    return soup\n",
    "    \n",
    "#장르!, bs로 파싱한 데이터를 넣고 장르로 된 리스트를 받음\n",
    "def get_genre(soup):\n",
    "    a = soup.find_all('a')\n",
    "    set_genre = set()\n",
    "    for i in a:\n",
    "        try :\n",
    "            if i.attrs['href'].rfind('genre') != -1 :\n",
    "                set_genre.add(i.get_text())\n",
    "        except :\n",
    "            pass\n",
    "    return list(set_genre)"
   ]
  },
  {
   "cell_type": "code",
   "execution_count": 9,
   "metadata": {
    "collapsed": false
   },
   "outputs": [
    {
     "name": "stdout",
     "output_type": "stream",
     "text": [
      "[u'realease_kor', u'Webpage', u'Mname', u'Domestic', u'budget', u'gross_kor', u'release_usa', u'year', u'runtime', u'Oversea', u'rating_usa']\n",
      "[u'\\ub4dc\\ub77c\\ub9c8']\n",
      "[u'\\ub4dc\\ub77c\\ub9c8']\n",
      "[u'\\ub4dc\\ub77c\\ub9c8', u'\\uc2a4\\ub9b4\\ub7ec']\n",
      "[u'\\ub4dc\\ub77c\\ub9c8']\n",
      "[u'\\ub4dc\\ub77c\\ub9c8', u'\\uac00\\uc871']\n"
     ]
    }
   ],
   "source": [
    "arr_movie = load_json()\n",
    "arr_movie = arr_movie[466:699]\n",
    "print (arr_movie[0].keys())\n",
    "for itter in arr_movie[0:5]:\n",
    "    url = search_naver_movie(itter)['link']\n",
    "    soup = get_naver_movie(url)\n",
    "    print (get_genre(soup))\n",
    "\n",
    "\n",
    "\n",
    "        "
   ]
  },
  {
   "cell_type": "code",
   "execution_count": 78,
   "metadata": {
    "collapsed": false
   },
   "outputs": [
    {
     "name": "stdout",
     "output_type": "stream",
     "text": [
      "[u'items', u'lastBuildDate', u'total', u'display', u'start']\n",
      "[{u'subtitle': u'<b>Chronic</b>', u'pubDate': u'2015', u'title': u'\\ud06c\\ub85c\\ub2c9', u'image': u'http://imgmovie.naver.com/mdi/mit110/1395/139528_P14_095851.jpg', u'actor': u'\\ud300 \\ub85c\\uc2a4|\\uc0ac\\ub77c \\uc11c\\ub35c\\ub79c\\ub4dc|', u'director': u'\\ubbf8\\uc178 \\ud504\\ub791\\ucf54|', u'link': u'http://movie.naver.com/movie/bi/mi/basic.nhn?code=139528', u'userRating': u'8.45'}, {u'subtitle': u'Marijuana: A <b>Chronic</b> History', u'pubDate': u'2010', u'title': u'\\ub9c8\\ub9ac\\ud654\\ub098: \\uc5b4 \\ud06c\\ub85c\\ub2c9 \\ud788\\uc2a4\\ud1a0\\ub9ac', u'image': u'', u'actor': u'\\uac8c\\ub9ac \\ud544\\ud504|\\ud560 \\uc2a4\\ud30d\\uc2a4|', u'director': u'', u'link': u'http://movie.naver.com/movie/bi/mi/basic.nhn?code=84060', u'userRating': u'10.00'}, {u'subtitle': u'<b>Chronic</b> Town', u'pubDate': u'2008', u'title': u'\\ud06c\\ub85c\\ub2c9 \\ud0c0\\uc6b4', u'image': u'http://imgmovie.naver.com/mdi/mit110/0461/46175_P01_202659.jpg', u'actor': u'JR \\ubcf4\\ub978|\\uc5d0\\ubc00\\ub9ac \\uc640\\uadf8\\ub108|\\ub304 \\ubc84\\ud2c0\\ub7ec|\\ud3f4 \\ub458\\ub9ac|\\uc568\\ub9ac\\uc2a4 \\ub4dc\\ub7fc\\ubaac\\ub4dc|\\uc2a4\\ud14c\\uc774\\uc2dc \\uc5d0\\ub4dc\\uc6cc\\uc988|\\uc774\\uc548 \\uadf8\\ub808\\uace0\\ub9ac|\\uc81c\\ud504\\ub9ac \\uc2a4\\ucf67 \\uc820\\uc2a8|\\ub85c\\uc644 \\uc870\\uc149|\\ud06c\\ub9ac\\uc2a4\\ud2f4 \\ub77c\\ud0a8|\\uac8c\\ub9ac \\ub9c8\\uc0ec|\\ub9c8\\uc774\\ud074 \\ud53c\\ud130\\uc2a8|\\ub85c\\ubc84\\ud2b8 \\ud53c\\ud130\\uc988|\\ub85c\\uc800 \\ub798\\ub2c8|\\ub9b0 \\uc0e4\\uc608|\\ud06c\\ub9ac\\uc2a4\\ud1a0\\ud37c \\uc708|', u'director': u'\\ud1b0 \\ud558\\uc778\\uc988|', u'link': u'http://movie.naver.com/movie/bi/mi/basic.nhn?code=46175', u'userRating': u'0.00'}]\n"
     ]
    }
   ],
   "source": [
    "print result.keys()\n",
    "print result['items']"
   ]
  },
  {
   "cell_type": "code",
   "execution_count": 110,
   "metadata": {
    "collapsed": true
   },
   "outputs": [],
   "source": [
    "a = search_naver_movie('disconnect')"
   ]
  },
  {
   "cell_type": "code",
   "execution_count": 111,
   "metadata": {
    "collapsed": false
   },
   "outputs": [
    {
     "name": "stdout",
     "output_type": "stream",
     "text": [
      "{\n",
      "\"lastBuildDate\": \"Mon, 20 Feb 2017 11:20:45 +0900\",\n",
      "\"total\": 3,\n",
      "\"start\": 1,\n",
      "\"display\": 3,\n",
      "\"items\": [\n",
      "{\n",
      "\"title\": \"미션 디스커넥트\",\n",
      "\"link\": \"http://movie.naver.com/movie/bi/mi/basic.nhn?code=150481\",\n",
      "\"image\": \"http://imgmovie.naver.com/mdi/mit110/1504/150481_P01_123025.png\",\n",
      "\"subtitle\": \"Mission <b>Disconnect</b>\",\n",
      "\"pubDate\": \"2015\",\n",
      "\"director\": \"라마 수라카|\",\n",
      "\"actor\": \"\",\n",
      "\"userRating\": \"0.00\"\n",
      "\n",
      "},\n",
      "{\n",
      "\"title\": \"디스커넥트 투 커넥트\",\n",
      "\"link\": \"http://movie.naver.com/movie/bi/mi/basic.nhn?code=124364\",\n",
      "\"image\": \"http://imgmovie.naver.com/mdi/mit110/1243/124364_P01_115133.jpg\",\n",
      "\"subtitle\": \"<b>Disconnect</b> to Connect\",\n",
      "\"pubDate\": \"2014\",\n",
      "\"director\": \"소피아 바렛|시드니 키스|앨리스 레빈|맥스 롤닉|트로이 로이조|사만다 마이만|칼리 반|\",\n",
      "\"actor\": \"\",\n",
      "\"userRating\": \"0.00\"\n",
      "\n",
      "},\n",
      "{\n",
      "\"title\": \"디스커넥트\",\n",
      "\"link\": \"http://movie.naver.com/movie/bi/mi/basic.nhn?code=97747\",\n",
      "\"image\": \"http://imgmovie.naver.com/mdi/mit110/0977/97747_P17_135759.jpg\",\n",
      "\"subtitle\": \"<b>Disconnect</b>\",\n",
      "\"pubDate\": \"2012\",\n",
      "\"director\": \"헨리 알렉스 루빈|\",\n",
      "\"actor\": \"알렉산더 스카스가드|제이슨 베이트먼|폴라 패튼|안드레아 라이즈보로|\",\n",
      "\"userRating\": \"8.56\"\n",
      "\n",
      "}\n",
      "]\n",
      "}\n",
      "\n"
     ]
    }
   ],
   "source": [
    "print a"
   ]
  }
 ],
 "metadata": {
  "kernelspec": {
   "display_name": "Python 2",
   "language": "python",
   "name": "python2"
  },
  "language_info": {
   "codemirror_mode": {
    "name": "ipython",
    "version": 2
   },
   "file_extension": ".py",
   "mimetype": "text/x-python",
   "name": "python",
   "nbconvert_exporter": "python",
   "pygments_lexer": "ipython2",
   "version": "2.7.13"
  }
 },
 "nbformat": 4,
 "nbformat_minor": 2
}
