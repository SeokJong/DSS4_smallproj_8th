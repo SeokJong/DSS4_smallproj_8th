{
 "cells": [
  {
   "cell_type": "code",
   "execution_count": 2,
   "metadata": {
    "collapsed": false
   },
   "outputs": [],
   "source": [
    "from bs4 import BeautifulSoup\n",
    "import requests\n",
    "import pymongo\n",
    "\n",
    "class Database(object):\n",
    "    def __init__(self):\n",
    "        self.connection = pymongo.MongoClient(\"localhost\", 27017)\n",
    "        self.db = self.connection.DSS4_SmallP\n",
    "        self.collection = self.db.Movie\n",
    "\n",
    "def Load_Data_kobis(page):\n",
    "    kobis_key = '9375718b172e48ec27d68af7aebb4fe0'\n",
    "    Kobis_url = 'http://www.kobis.or.kr'\n",
    "    Kobis_Mlist = '/kobisopenapi/webservice/rest/movie/searchMovieList.json?key={}&itemPerPage=10000&curPage={}'.format(kobis_key,page)\n",
    "    return requests.get(Kobis_url + Kobis_Mlist)\n",
    "\n",
    "def Load_Data_daum(name):\n",
    "    daum_key = 'ca6800712ed274862ce0793b72985180'\n",
    "    Daum_url = u'https://apis.daum.net/contents/movie?apikey={}&q={}&output=json'.format(daum_key,name)\n",
    "    print(Daum_url)\n",
    "    return requests.get(Daum_url)"
   ]
  },
  {
   "cell_type": "code",
   "execution_count": 6,
   "metadata": {
    "collapsed": false,
    "scrolled": true
   },
   "outputs": [
    {
     "name": "stdout",
     "output_type": "stream",
     "text": [
      "흔들리는 물결\n",
      "https://apis.daum.net/contents/movie?apikey=ca6800712ed274862ce0793b72985180&q=흔들리는 물결&output=json\n",
      "b'{\"channel\":{\"result\":10,\"title\":\"Search SCC Open API\",\"page\":1,\"totalCount\":1,\"q\":\"\\xed\\x9d\\x94\\xeb\\x93\\xa4\\xeb\\xa6\\xac\\xeb\\x8a\\x94\\xeb\\xac\\xbc\\xea\\xb2\\xb0\",\"item\":[{\"genre\":[{\"content\":\"\\xeb\\x93\\x9c\\xeb\\x9d\\xbc\\xeb\\xa7\\x88\",\"link\":\"\"}],\"res\":[{\"content\":\"\",\"link\":\"\"}],\"trailer\":[{\"content\":\"http://t1.daumcdn.net/movie/movie-trailer/18/23/52318/trailer_52318.jpg\",\"link\":\"http://movie.daum.net/moviedb/video?id=97111&vclipId=52318\"}],\"photo1\":{\"content\":\"http://t1.search.daumcdn.net/thumb/R438x0.q85/?fname=http%3A%2F%2Ft1.daumcdn.net%2Fmovie%2F160a115d2069c2acee2914b770fcccc23d07439d\",\"link\":\"http://movie.daum.net/moviedb/photoviewer?id=97111#1050084\"},\"actor\":[{\"content\":\"\\xec\\x8b\\xac\\xed\\x9d\\xac\\xec\\x84\\xad\",\"link\":\"http://movie.daum.net/person/main?personId=328066\"},{\"content\":\"\\xea\\xb3\\xa0\\xec\\x9b\\x90\\xed\\x9d\\xac\",\"link\":\"http://movie.daum.net/person/main?personId=317085\"}],\"story\":[{\"content\":\"\\xec\\x96\\xb4\\xeb\\xa6\\xb0 \\xec\\x8b\\x9c\\xec\\xa0\\x88 \\xeb\\x8f\\x99\\xec\\x83\\x9d\\xec\\x9d\\x98 \\xec\\xa3\\xbd\\xec\\x9d\\x8c\\xec\\x9d\\x84 \\xeb\\xaa\\xa9\\xea\\xb2\\xa9\\xed\\x95\\x9c \\xec\\x97\\xb0\\xec\\x9a\\xb0\\xeb\\x8a\\x94 \\xea\\xb7\\xb8 \\xed\\x8a\\xb8\\xeb\\x9d\\xbc\\xec\\x9a\\xb0\\xeb\\xa7\\x88\\xeb\\xa1\\x9c \\xec\\x9e\\x90\\xec\\x8b\\xa0\\xeb\\xa7\\x8c\\xec\\x9d\\x98 \\xec\\x84\\xb8\\xea\\xb3\\x84\\xec\\x97\\x90 \\xea\\xb0\\x87\\xed\\x98\\x80 \\xec\\x82\\xb4\\xec\\x95\\x84\\xea\\xb0\\x84\\xeb\\x8b\\xa4. \\xec\\x96\\xb4\\xeb\\x8a\\x90 \\xeb\\x82\\xa0 \\xea\\xb7\\xb8\\xea\\xb0\\x80 \\xec\\x9d\\xbc\\xed\\x95\\x98\\xea\\xb3\\xa0 \\xec\\x9e\\x88\\xeb\\x8a\\x94 \\xeb\\xb3\\x91\\xec\\x9b\\x90\\xec\\x97\\x90 \\xea\\xb0\\x84\\xed\\x98\\xb8\\xec\\x82\\xac \\xec\\x9b\\x90\\xed\\x9d\\xac\\xea\\xb0\\x80 \\xec\\x98\\xa4\\xea\\xb3\\xa0 \\xeb\\x91\\x90 \\xec\\x82\\xac\\xeb\\x9e\\x8c\\xec\\x9d\\x80 \\xea\\xb0\\x80\\xea\\xb9\\x8c\\xec\\x9b\\x8c\\xec\\xa7\\x84\\xeb\\x8b\\xa4. \\xec\\xb2\\x98\\xec\\x9d\\x8c\\xec\\x9c\\xbc\\xeb\\xa1\\x9c \\xed\\x83\\x80\\xec\\x9d\\xb8\\xea\\xb3\\xbc \\xeb\\xa7\\x88\\xec\\x9d\\x8c\\xec\\x9d\\x84 \\xeb\\x82\\x98\\xeb\\x88\\x84\\xea\\xb2\\x8c \\xeb\\x90\\x9c \\xec\\x97\\xb0\\xec\\x9a\\xb0. \\xea\\xb7\\xb8\\xeb\\x9f\\xac\\xeb\\x82\\x98 \\xea\\xb7\\xb8\\xec\\x97\\x90\\xea\\xb2\\x8c \\xeb\\xa8\\xbc\\xec\\xa0\\x80 \\xeb\\x8b\\xa4\\xea\\xb0\\x80\\xea\\xb0\\x80 \\xeb\\xa7\\x88\\xec\\x9d\\x8c\\xec\\x9d\\x84 \\xec\\x97\\xb4\\xea\\xb2\\x8c \\xed\\x95\\x9c \\xec\\x9b\\x90\\xed\\x9d\\xac\\xeb\\x8a\\x94 \\xec\\xa3\\xbd\\xec\\x9d\\x8c\\xec\\x9d\\x84 \\xec\\x95\\x9e\\xeb\\x91\\x90\\xea\\xb3\\xa0 \\xec\\x9e\\x88\\xeb\\x8b\\xa4.\\\\r\\\\n \\\\r\\\\n\\xec\\x83\\x9d\\xec\\x9d\\x98 \\xeb\\x81\\x9d\\xec\\x97\\x90\\xec\\x84\\x9c \\xec\\x8b\\x9c\\xec\\x9e\\x91\\xeb\\x90\\x9c \\xec\\x9a\\xb0\\xeb\\xa6\\xac,\\\\r\\\\n\\xeb\\xa7\\x88\\xec\\xb9\\xa8\\xeb\\x82\\xb4 \\xec\\x9a\\xb0\\xeb\\xa6\\xac\\xec\\x9d\\x98 \\xec\\x8b\\x9c\\xea\\xb0\\x84\\xec\\x9d\\xb4 \\xec\\x9b\\x80\\xec\\xa7\\x81\\xec\\x98\\x80\\xeb\\x8b\\xa4.\",\"link\":\"http://movie.daum.net/moviedb/main?movieId=97111\"}],\"write_grades\":[{\"content\":\"\",\"link\":\"http://movie.daum.net/moviedetailNetizenPoint.do?movieId=97111\"}],\"title\":[{\"content\":\"\\xed\\x9d\\x94\\xeb\\x93\\xa4\\xeb\\xa6\\xac\\xeb\\x8a\\x94 \\xeb\\xac\\xbc\\xea\\xb2\\xb0\",\"link\":\"http://movie.daum.net/moviedb/main?movieId=97111\"}],\"audience_date\":[{\"content\":\"2016-12-05\",\"link\":\"\"}],\"video_info\":[{\"content\":\"3\",\"link\":\"http://movie.daum.net/moviedb/video?id=97111\"}],\"event\":[{\"content\":\"\",\"link\":\"\"}],\"more_actor\":[{\"content\":\"\",\"link\":\"http://movie.daum.net/moviedb/crew?movieId=97111\"}],\"photo_info\":[{\"content\":\"12\",\"link\":\"http://movie.daum.net/moviedb/photoviewer?id=97111#start/PhotoList\"}],\"year\":[{\"content\":\"2015\",\"link\":\"\"}],\"ogr_title\":[{\"content\":\"\",\"link\":\"\"}],\"video\":[{\"content\":\"http://t1.daumcdn.net/movie/movie-trailer/50/21/52150/trailer_52150.jpg\",\"link\":\"http://movie.daum.net/moviedb/video?id=97111&vclipId=52150\"},{\"content\":\"http://t1.daumcdn.net/movie/movie-trailer/79/24/52479/trailer_52479.jpg\",\"link\":\"http://movie.daum.net/moviedb/video?id=97111&vclipId=52479\"}],\"kword\":[{\"content\":\"\",\"link\":\"\"}],\"open_info\":[{\"content\":\"2016.10.27\",\"link\":\"\"},{\"content\":\"\",\"link\":\"\"},{\"content\":\"\",\"link\":\"\"},{\"content\":\"\",\"link\":\"\"}],\"audience\":[{\"content\":\"1697\",\"link\":\"\"}],\"director\":[{\"content\":\"\\xea\\xb9\\x80\\xec\\xa7\\x84\\xeb\\x8f\\x84\",\"link\":\"http://movie.daum.net/person/main?personId=425878\"}],\"nation\":[{\"content\":\"\\xed\\x95\\x9c\\xea\\xb5\\xad\",\"link\":\"\"}],\"homepage\":[{\"content\":\"\",\"link\":\"\"}],\"category\":[{\"content\":\"\\xec\\x9d\\xbc\\xeb\\xb0\\x98\",\"link\":\"\"}],\"thumbnail\":[{\"content\":\"http://t1.search.daumcdn.net/thumb/R438x0.q85/?fname=http%3A%2F%2Ft1.daumcdn.net%2Fmovie%2Fae708f1c9ebf7755b45283fa8f9cbd2b07e113a9\",\"link\":\"\"}],\"eng_title\":[{\"content\":\"Blossom\",\"link\":\"\"}],\"grade3\":[{\"content\":\"2017.01.01\",\"link\":\"\"}],\"photo2\":{\"content\":\"http://t1.search.daumcdn.net/thumb/R438x0.q85/?fname=http%3A%2F%2Ft1.daumcdn.net%2Fmovie%2F7f50d3eaaf29aa15e250ef501906d27e4aef231c\",\"link\":\"http://movie.daum.net/moviedb/photoviewer?id=97111#1128091\"},\"grades\":[{\"content\":\"8\",\"link\":\"http://movie.daum.net/moviedb/grade?movieId=97111&type=netizen\"},{\"content\":\"29\",\"link\":\"\"}],\"expect_grades\":[{\"content\":\"\",\"link\":\"http://movie.daum.net/moviedetailNetizenPoint.do?movieId=97111&type=before\"},{\"content\":\"0\",\"link\":\"\"}],\"photo3\":{\"content\":\"http://t1.search.daumcdn.net/thumb/R438x0.q85/?fname=http%3A%2F%2Ft1.daumcdn.net%2Fmovie%2F729bd7e8e46feb88ae2e980702c293c626e4dad6\",\"link\":\"http://movie.daum.net/moviedb/photoviewer?id=97111#1128092\"},\"photo4\":{\"content\":\"http://t1.search.daumcdn.net/thumb/R438x0.q85/?fname=http%3A%2F%2Ft1.daumcdn.net%2Fmovie%2F6860536cb4b00d03dee11cec4afb168f3e73664b\",\"link\":\"http://movie.daum.net/moviedb/photoviewer?id=97111#1128093\"},\"grade1\":[{\"content\":\"2017.01.10\",\"link\":\"\"}],\"wiki_url\":[{\"content\":\"\",\"link\":\"\"}],\"photo5\":{\"content\":\"http://t1.search.daumcdn.net/thumb/R438x0.q85/?fname=http%3A%2F%2Ft1.daumcdn.net%2Fmovie%2Ff5d0afc8a39633f5528b2414aa3c8096ed83d5c7\",\"link\":\"http://movie.daum.net/moviedb/photoviewer?id=97111#1128094\"},\"grade2\":[{\"content\":\"2017.01.06\",\"link\":\"\"}]}],\"debug\":{},\"pk\":\"\"}}'\n"
     ]
    }
   ],
   "source": [
    "\n",
    "\n",
    "dbs = Database()\n",
    "List = dbs.collection.find({\"prdtYear\" : \"2015\"})\n",
    "for j, i in enumerate(List):\n",
    "    if j == 511 : break\n",
    "name = i['movieNm']\n",
    "Oid = i['_id']\n",
    "print(name)\n",
    "#res = Load_Data_daum(name)\n",
    "print(res.content)"
   ]
  },
  {
   "cell_type": "code",
   "execution_count": 11,
   "metadata": {
    "collapsed": false
   },
   "outputs": [
    {
     "name": "stdout",
     "output_type": "stream",
     "text": [
      "{\"channel\":{\"result\":10,\"title\":\"Search SCC Open API\",\"page\":1,\"totalCount\":0,\"q\":\"히말라야사다리\",\"item\":[],\"debug\":{},\"pk\":\"\"}}\n"
     ]
    }
   ],
   "source": [
    "print(res.content)"
   ]
  }
 ],
 "metadata": {
  "kernelspec": {
   "display_name": "Python 3",
   "language": "python",
   "name": "python3"
  },
  "language_info": {
   "codemirror_mode": {
    "name": "ipython",
    "version": 3
   },
   "file_extension": ".py",
   "mimetype": "text/x-python",
   "name": "python",
   "nbconvert_exporter": "python",
   "pygments_lexer": "ipython3",
   "version": "3.6.0"
  }
 },
 "nbformat": 4,
 "nbformat_minor": 2
}
