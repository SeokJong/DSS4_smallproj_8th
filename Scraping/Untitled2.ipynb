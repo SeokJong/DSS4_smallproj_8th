{
 "cells": [
  {
   "cell_type": "code",
   "execution_count": 1,
   "metadata": {
    "collapsed": true
   },
   "outputs": [],
   "source": [
    "import numpy as np\n"
   ]
  },
  {
   "cell_type": "code",
   "execution_count": 2,
   "metadata": {
    "collapsed": false
   },
   "outputs": [
    {
     "name": "stdout",
     "output_type": "stream",
     "text": [
      "[1 2 0 1 1 1 1 2 2 1 0 1 0 2 0 1 1 0 2 2 2 2 1 0 0 2 0 2 1 0 0 0 2 0 2 1 1\n",
      " 1 2 0 1 0 2 2 0 2 2 2 0 1 2 2 0 1 0 2 1 1 1 0 1 2 1 0 1 2 1 0 1 1 2 0 2 1\n",
      " 1 2 0 0 2 2 2 0 0 0 1 1 1 2 2 1 0 1 1 2 0 1 2 0 2 1]\n"
     ]
    }
   ],
   "source": [
    "car = np.random.randint(0,3,1000)\n",
    "\n",
    "\n",
    "for i in car:\n",
    "    sel = np.random.randint(0,3)\n",
    "    if sel = car :\n",
    "        hint = "
   ]
  }
 ],
 "metadata": {
  "kernelspec": {
   "display_name": "Python 2",
   "language": "python",
   "name": "python2"
  },
  "language_info": {
   "codemirror_mode": {
    "name": "ipython",
    "version": 2
   },
   "file_extension": ".py",
   "mimetype": "text/x-python",
   "name": "python",
   "nbconvert_exporter": "python",
   "pygments_lexer": "ipython2",
   "version": "2.7.12"
  }
 },
 "nbformat": 4,
 "nbformat_minor": 2
}
