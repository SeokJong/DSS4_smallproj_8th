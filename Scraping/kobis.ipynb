{
 "cells": [
  {
   "cell_type": "code",
   "execution_count": 1,
   "metadata": {
    "collapsed": true
   },
   "outputs": [],
   "source": [
    "from bs4 import BeautifulSoup\n",
    "import requests\n",
    "import pymongo\n",
    "\n",
    "class Database(object):\n",
    "    def __init__(self):\n",
    "        self.connection = pymongo.MongoClient(\"localhost\", 27017)\n",
    "        self.db = self.connection.DSS4_SmallP\n",
    "        self.collection = self.db.Movie\n",
    "\n",
    "def Load_Data_kobis(page):\n",
    "    kobis_key = 'asdadsa'\n",
    "    Kobis_url = 'http://www.kobis.or.kr'\n",
    "    Kobis_Mlist = '/kobisopenapi/webservice/rest/movie/searchMovieList.json?key={}&itemPerPage=10000&curPage={}'.format(kobis_key,page)\n",
    "    return requests.get(Kobis_url + Kobis_Mlist)"
   ]
  },
  {
   "cell_type": "code",
   "execution_count": 42,
   "metadata": {
    "collapsed": true
   },
   "outputs": [
    {
     "name": "stdout",
     "output_type": "stream",
     "text": [
      "메이즈 러너: 스코치 트라이얼\n"
     ]
    }
   ],
   "source": [
    "for page in range(1,11):\n",
    "    res = Load_Data_kobis(page)\n",
    "    dbs = Database()\n",
    "    dbs.collection.insert_many(res.json()[u'movieListResult'][u'movieList'])\n",
    "\n",
    "\n",
    "#에러나면서 끝남. 예외처리 안해서 그럼 상관없을듯.\n",
    "\n",
    "i = dbs.collection.find({\"movieCd\" : \"20150622\"})\n",
    "for j in i:\n",
    "    print(j['movieNm'])"
   ]
  },
  {
   "cell_type": "code",
   "execution_count": 76,
   "metadata": {
    "collapsed": true
   },
   "outputs": [],
   "source": [
    "url = \"http://www.kobis.or.kr/kobis/business/mast/mvie/searchMovieDtl.do\"\n",
    "data = {\"code\" : \"20140431\",\n",
    "        \"sType\": \"stat\"\n",
    "       }\n",
    "res = requests.post(url, data = data)"
   ]
  },
  {
   "cell_type": "code",
   "execution_count": 78,
   "metadata": {
    "collapsed": true
   },
   "outputs": [
    {
     "name": "stdout",
     "output_type": "stream",
     "text": [
      "21,489,367,677 (100%)\n"
     ]
    }
   ],
   "source": [
    "content = res.content\n",
    "soup = BeautifulSoup(content,'html.parser')\n",
    "table = soup.find('table', attrs = {'class': 'board02 bma b02s'})\n",
    "tds = table.find_all('td')\n",
    "for (i, name) in enumerate(tds):\n",
    "    print \n",
    "    if name.get_text() == u'전국':\n",
    "        print(tds[i+2].get_text())"
   ]
  },
  {
   "cell_type": "code",
   "execution_count": 15,
   "metadata": {
    "collapsed": true
   },
   "outputs": [],
   "source": [
    "def Load_Data_daum(name):\n",
    "    daum_key = 'ca6800712ed274862ce0793b72985180'\n",
    "    Daum_url = u'https://apis.daum.net/contents/movie?apikey={}&q={}&output=json'.format(daum_key,name)\n",
    "    print(Daum_url)\n",
    "    return requests.get(Daum_url)\n",
    "\n",
    "dbs = Database()\n",
    "List = dbs.collection.find({\"prdtYear\" : \"2015\"})\n",
    "for i in List:\n",
    "    break\n",
    "name = i['movieNm']\n",
    "print(name)\n",
    "res = Load_Data_daum(name)"
   ]
  },
  {
   "cell_type": "code",
   "execution_count": 11,
   "metadata": {
    "collapsed": true
   },
   "outputs": [],
   "source": [
    "print(res.content)"
   ]
  },
  {
   "cell_type": "code",
   "execution_count": 16,
   "metadata": {
    "collapsed": false,
    "scrolled": true
   },
   "outputs": [],
   "source": [
    "print(\"hello_world\")"
   ]
  }
 ],
 "metadata": {
  "kernelspec": {
   "display_name": "Python 2",
   "language": "python",
   "name": "python2"
  },
  "language_info": {
   "codemirror_mode": {
    "name": "ipython",
    "version": 2
   },
   "file_extension": ".py",
   "mimetype": "text/x-python",
   "name": "python",
   "nbconvert_exporter": "python",
   "pygments_lexer": "ipython2",
   "version": "2.7.13"
  }
 },
 "nbformat": 4,
 "nbformat_minor": 0
}
