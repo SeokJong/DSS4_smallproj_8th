{
 "cells": [
  {
   "cell_type": "code",
   "execution_count": 20,
   "metadata": {
    "collapsed": false,
    "deletable": true,
    "editable": true
   },
   "outputs": [],
   "source": [
    "import requests\n",
    "import urllib\n",
    "import urllib2\n",
    "import urlparse\n",
    "from bs4 import BeautifulSoup\n",
    "import json"
   ]
  },
  {
   "cell_type": "code",
   "execution_count": 13,
   "metadata": {
    "collapsed": false,
    "deletable": true,
    "editable": true
   },
   "outputs": [],
   "source": [
    "encText = urllib.pathname2url(\"벤허\")\n",
    "url = \"https://openapi.naver.com/v1/search/movie?query=\" + encText # json 결과\n",
    "headers = {}\n",
    "headers['X-Naver-Client-Id'] = \"4o3GICRV4DheCATOr_oj\"\n",
    "headers['X-Naver-Client-Secret'] = \"qx1velboFy\"\n",
    "res = requests.get(url, headers = headers)"
   ]
  },
  {
   "cell_type": "code",
   "execution_count": 21,
   "metadata": {
    "collapsed": false,
    "deletable": true,
    "editable": true
   },
   "outputs": [],
   "source": [
    "a = json.loads(res.content)"
   ]
  },
  {
   "cell_type": "code",
   "execution_count": 23,
   "metadata": {
    "collapsed": false
   },
   "outputs": [
    {
     "name": "stdout",
     "output_type": "stream",
     "text": [
      "6\n"
     ]
    }
   ],
   "source": [
    "print a['total']"
   ]
  },
  {
   "cell_type": "code",
   "execution_count": 29,
   "metadata": {
    "collapsed": false
   },
   "outputs": [
    {
     "name": "stdout",
     "output_type": "stream",
     "text": [
      "{u'naver_pass': u'qx1velboFy', u'naver_id': u'4o3GICRV4DheCATOr_oj', u'daum_key': u'ca6800712ed274862ce0793b72985180', u'kobis_key': u'9375718b172e48ec27d68af7aebb4fe0'}\n"
     ]
    }
   ],
   "source": [
    "# coding=utf-8\n",
    "from bs4 import BeautifulSoup\n",
    "import requests\n",
    "import pymongo\n",
    "import json\n",
    "from urllib import pathname2url\n",
    "\n",
    "\n",
    "class Database(object):\n",
    "    def __init__(self, db_name, collection_name):\n",
    "        self.connection = pymongo.MongoClient(\"localhost\", 27017)\n",
    "        self.db = self.connection[db_name]\n",
    "        self.collection = self.db[collection_name]\n",
    "\n",
    "\n",
    "def load_data_kobis(page, key):\n",
    "    kobis_key = key['kobis_key']\n",
    "    kobis_url = 'http://www.kobis.or.kr'\n",
    "    kobis_mlist = '/kobisopenapi/webservice/rest/movie/searchMovieList.json?key={}&itemPerPage=10000&curPage={}'.format(\n",
    "        kobis_key, page)\n",
    "    return requests.get(kobis_url + kobis_mlist)\n",
    "\n",
    "\n",
    "def load_data_daum(name, key):\n",
    "    daum_key = key['daum_key']\n",
    "    daum_url = u'https://apis.daum.net/contents/movie?apikey={}&q={}&output=json'.format(daum_key, name)\n",
    "    print(daum_url)\n",
    "    return requests.get(daum_url)\n",
    "\n",
    "\n",
    "class Mojo(object):\n",
    "    def __init__(self):\n",
    "        self.base_url = u'http://www.boxofficemojo.com'\n",
    "        self.url = u''\n",
    "        pass\n",
    "\n",
    "    def get_yearly_dom(self, page, year):\n",
    "        self.url = self.base_url + \\\n",
    "                   u'yearly/chart/?page={}&view=releasedate&view2=domestic&yr={}&p=.htm'.format(page, year)\n",
    "        return requests.get(self.url)\n",
    "\n",
    "    def get_yearly_intl(self, year):\n",
    "        self.url = self.base_url + u'yearly/chart/?view2=worldwide&yr={}&p=.htm'.format(year)\n",
    "        return requests.get(self.url)\n",
    "\n",
    "    def get_movie_intl(self, m_id):\n",
    "        self.url = self.base_url + u'{}&page=intl'.format(m_id)\n",
    "        return requests.get(self.url)\n",
    "\n",
    "\n",
    "def load_json():\n",
    "    fp = open(\"movie.json\", \"r\")\n",
    "    resource = json.load(fp)\n",
    "    return resource\n",
    "\n",
    "\n",
    "# 네이버 api 영화검색, Mname과 release_kor가 있는 dict를 찾아서 네이버 검색결과 반환\n",
    "def search_naver_movie(imov, key):\n",
    "    keyword = imov['Mname']\n",
    "    enc_text = pathname2url(keyword)\n",
    "    url = \"https://openapi.naver.com/v1/search/movie?query=\" + enc_text  # json 결과\n",
    "    #    print url\n",
    "    headers = {'X-Naver-Client-Id': key['naver_id'], 'X-Naver-Client-Secret': key['naver_pass']}\n",
    "    response = requests.get(url, headers=headers)\n",
    "    result = json.loads(response.content)\n",
    "    if result['total'] == 0:\n",
    "        return 'None'\n",
    "    elif result['total'] == 1:\n",
    "        return result['items']\n",
    "    else:\n",
    "        match = []\n",
    "        for i in result['items']:\n",
    "            if i['subtitle'] == \"<b>{}</b>\".format(imov['Mname']):\n",
    "                match.append(i)\n",
    "        if len(match) == 0:\n",
    "            for i in result['items']:\n",
    "                if i['pubDate'][-2:] == imov['realease_kor'][-2:]:\n",
    "                    match.append(i)\n",
    "                    # print i['pubDate'], imov['realease_kor'][-2:]\n",
    "        elif len(match) != 1:\n",
    "            for i in match:\n",
    "                if i['pubDate'][-2:] == imov['realease_kor'][-2:]:\n",
    "                    match = [i]\n",
    "                    break\n",
    "        return match[0]\n",
    "\n",
    "\n",
    "# url 페이지 가져오기\n",
    "def get_naver_movie(url):\n",
    "    response = requests.get(url)\n",
    "    soup = BeautifulSoup(response.content, \"html.parser\")\n",
    "    return soup\n",
    "\n",
    "\n",
    "# 장르!, bs로 파싱한 데이터를 넣고 장르로 된 리스트를 받음\n",
    "def get_genre(soup):\n",
    "    hyperlinks = soup.find_all('a')\n",
    "    set_genre = set()\n",
    "    for i in hyperlinks:\n",
    "        try:\n",
    "            if i.attrs['href'].rfind('genre') != -1:\n",
    "                set_genre.add(i.get_text())\n",
    "        except Exception as errc:\n",
    "            print errc\n",
    "            pass\n",
    "    return list(set_genre)\n",
    "\n",
    "apikeys = json.load(open(\"private.json\", \"r\"))\n",
    "print apikeys\n"
   ]
  }
 ],
 "metadata": {
  "kernelspec": {
   "display_name": "Python 2",
   "language": "python",
   "name": "python2"
  },
  "language_info": {
   "codemirror_mode": {
    "name": "ipython",
    "version": 2
   },
   "file_extension": ".py",
   "mimetype": "text/x-python",
   "name": "python",
   "nbconvert_exporter": "python",
   "pygments_lexer": "ipython2",
   "version": "2.7.12"
  }
 },
 "nbformat": 4,
 "nbformat_minor": 2
}
